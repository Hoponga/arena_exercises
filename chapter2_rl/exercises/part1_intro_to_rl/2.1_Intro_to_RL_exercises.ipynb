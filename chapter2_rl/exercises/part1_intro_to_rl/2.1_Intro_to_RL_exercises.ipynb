{
  "cells": [
    {
      "cell_type": "markdown",
      "metadata": {
        "id": "6OctnW3c-1DX"
      },
      "source": [
        "# [2.1] - Intro to RL (exercises)\n",
        "\n",
        "> **ARENA [Streamlit Page](https://arena-chapter2-rl.streamlit.app/01_[2.1]_Intro_to_RL)**\n",
        ">\n",
        "> **Colab: [exercises](https://colab.research.google.com/github/callummcdougall/ARENA_3.0/blob/main/chapter2_rl/exercises/part1_intro_to_rl/2.1_Intro_to_RL_exercises.ipynb?t=20250303) | [solutions](https://colab.research.google.com/github/callummcdougall/ARENA_3.0/blob/main/chapter2_rl/exercises/part1_intro_to_rl/2.1_Intro_to_RL_solutions.ipynb?t=20250303)**\n",
        "\n",
        "Please send any problems / bugs on the `#errata` channel in the [Slack group](https://join.slack.com/t/arena-uk/shared_invite/zt-2zick19fl-6GY1yoGaoUozyM3wObwmnQ), and ask any questions on the dedicated channels for this chapter of material.\n",
        "\n",
        "You can collapse each section so only the headers are visible, by clicking the arrow symbol on the left hand side of the markdown header cells.\n",
        "\n",
        "Links to all other chapters: [(0) Fundamentals](https://arena-chapter0-fundamentals.streamlit.app/), [(1) Transformer Interpretability](https://arena-chapter1-transformer-interp.streamlit.app/), [(2) RL](https://arena-chapter2-rl.streamlit.app/)."
      ]
    },
    {
      "cell_type": "markdown",
      "metadata": {
        "id": "HQCs7Mk7-1Dc"
      },
      "source": [
        "<img src=\"https://raw.githubusercontent.com/info-arena/ARENA_img/main/misc/headers/header-21.png\" width=\"350\">"
      ]
    },
    {
      "cell_type": "markdown",
      "metadata": {
        "id": "hSL_0WkR-1Dd"
      },
      "source": [
        "# Introduction"
      ]
    },
    {
      "cell_type": "markdown",
      "metadata": {
        "id": "5_NnZyeb-1De"
      },
      "source": [
        "This section is designed to bring you up to speed with the basics of reinforcement learning. Before we cover the big topics like PPO and RLHF, we need to build a strong foundation by understanding what RL is and what kinds of problems it was designed to solve.\n",
        "\n",
        "In today's exercises, we'll make two important assumptions about our environment: the space of possible actions and states is discrete, and the entire environment is obvservable (in other words, the probability distribution of the outcome of every possible action at every possible state is known). As we move on in the chapter, we'll relax these assumptions, and so we'll need to start using more complex methods.\n",
        "\n",
        "> Note - today's material is unusually short, in contrast with tomorrow's which is unusually long. If you finish today's material early, you may want to move onto the first half of tomorrow's exercises."
      ]
    },
    {
      "cell_type": "markdown",
      "metadata": {
        "id": "_3iC4DID-1Df"
      },
      "source": [
        "## Content & Learning Objectives\n",
        "\n",
        "### 1️⃣ Multi-Armed Bandit\n",
        "\n",
        "In Part 1 we'll study the multi-armed bandit problem, which is simple yet captures introduces many of the difficulties in RL. Many practical problems can be posed in terms of generalizations of the multi-armed bandit. For example, the Hyperband algorithm for hyperparameter optimization is based on the multi-armed bandit with an infinite number of arms.\n",
        "\n",
        "> ##### Learning Objectives\n",
        "> * Understand the anatomy of a `gym.Env`, so that you feel comfortable using them and writing your own\n",
        "> * Practice RL in the tabular (lookup table) setting before adding the complications of neural networks\n",
        "> * Understand the difficulty of optimal exploration\n",
        "> * Understand that performance is extremely variable in RL, and how to measure performance\n",
        "\n",
        "### 2️⃣ Tabular RL & Policy Improvement\n",
        "\n",
        "> ##### Learning Objectives\n",
        "> * Understand the tabular RL problem, for known environments.\n",
        "> * Learn how to numerically evaluate a given policy (via an iterative update formula).\n",
        "> *Understand the policy improvement theorem, and understand what circumstances can allow us to directly solve for the optimal policy."
      ]
    },
    {
      "cell_type": "markdown",
      "metadata": {
        "id": "LtuOoJyz-1Dg"
      },
      "source": [
        "## Setup code"
      ]
    },
    {
      "cell_type": "code",
      "execution_count": 4,
      "metadata": {
        "colab": {
          "base_uri": "https://localhost:8080/"
        },
        "id": "wA16Qgzh-1Dg",
        "outputId": "dd0608e0-6d44-4910-8a26-670541162806"
      },
      "outputs": [
        {
          "output_type": "stream",
          "name": "stdout",
          "text": [
            "Requirement already satisfied: einops in /usr/local/lib/python3.11/dist-packages (0.8.1)\n",
            "Collecting gymnasium==0.29.0\n",
            "  Downloading gymnasium-0.29.0-py3-none-any.whl.metadata (10 kB)\n",
            "Collecting jaxtyping\n",
            "  Downloading jaxtyping-0.3.2-py3-none-any.whl.metadata (7.0 kB)\n",
            "Requirement already satisfied: numpy>=1.21.0 in /usr/local/lib/python3.11/dist-packages (from gymnasium==0.29.0) (2.0.2)\n",
            "Requirement already satisfied: cloudpickle>=1.2.0 in /usr/local/lib/python3.11/dist-packages (from gymnasium==0.29.0) (3.1.1)\n",
            "Requirement already satisfied: typing-extensions>=4.3.0 in /usr/local/lib/python3.11/dist-packages (from gymnasium==0.29.0) (4.13.2)\n",
            "Requirement already satisfied: farama-notifications>=0.0.1 in /usr/local/lib/python3.11/dist-packages (from gymnasium==0.29.0) (0.0.4)\n",
            "Collecting wadler-lindig>=0.1.3 (from jaxtyping)\n",
            "  Downloading wadler_lindig-0.1.5-py3-none-any.whl.metadata (17 kB)\n",
            "Downloading gymnasium-0.29.0-py3-none-any.whl (953 kB)\n",
            "\u001b[2K   \u001b[90m━━━━━━━━━━━━━━━━━━━━━━━━━━━━━━━━━━━━━━━━\u001b[0m \u001b[32m953.8/953.8 kB\u001b[0m \u001b[31m9.7 MB/s\u001b[0m eta \u001b[36m0:00:00\u001b[0m\n",
            "\u001b[?25hDownloading jaxtyping-0.3.2-py3-none-any.whl (55 kB)\n",
            "\u001b[2K   \u001b[90m━━━━━━━━━━━━━━━━━━━━━━━━━━━━━━━━━━━━━━━━\u001b[0m \u001b[32m55.4/55.4 kB\u001b[0m \u001b[31m5.4 MB/s\u001b[0m eta \u001b[36m0:00:00\u001b[0m\n",
            "\u001b[?25hDownloading wadler_lindig-0.1.5-py3-none-any.whl (20 kB)\n",
            "Installing collected packages: wadler-lindig, gymnasium, jaxtyping\n",
            "  Attempting uninstall: gymnasium\n",
            "    Found existing installation: gymnasium 1.1.1\n",
            "    Uninstalling gymnasium-1.1.1:\n",
            "      Successfully uninstalled gymnasium-1.1.1\n",
            "\u001b[31mERROR: pip's dependency resolver does not currently take into account all the packages that are installed. This behaviour is the source of the following dependency conflicts.\n",
            "dopamine-rl 4.1.2 requires gymnasium>=1.0.0, but you have gymnasium 0.29.0 which is incompatible.\u001b[0m\u001b[31m\n",
            "\u001b[0mSuccessfully installed gymnasium-0.29.0 jaxtyping-0.3.2 wadler-lindig-0.1.5\n",
            "--2025-05-13 10:40:46--  https://github.com/callummcdougall/ARENA_3.0/archive/refs/heads/main.zip\n",
            "Resolving github.com (github.com)... 20.205.243.166\n",
            "Connecting to github.com (github.com)|20.205.243.166|:443... connected.\n",
            "HTTP request sent, awaiting response... 302 Found\n",
            "Location: https://codeload.github.com/callummcdougall/ARENA_3.0/zip/refs/heads/main [following]\n",
            "--2025-05-13 10:40:46--  https://codeload.github.com/callummcdougall/ARENA_3.0/zip/refs/heads/main\n",
            "Resolving codeload.github.com (codeload.github.com)... 20.205.243.165\n",
            "Connecting to codeload.github.com (codeload.github.com)|20.205.243.165|:443... connected.\n",
            "HTTP request sent, awaiting response... 200 OK\n",
            "Length: unspecified [application/zip]\n",
            "Saving to: ‘/content/main.zip’\n",
            "\n",
            "main.zip                [          <=>       ]  21.11M  8.93MB/s    in 2.4s    \n",
            "\n",
            "2025-05-13 10:40:49 (8.93 MB/s) - ‘/content/main.zip’ saved [22134346]\n",
            "\n",
            "Archive:  /content/main.zip\n",
            "2609a7af7294728246e7bbedaf21394e4276e706\n",
            "   creating: /content/ARENA_3.0-main/chapter2_rl/exercises/\n",
            "   creating: /content/ARENA_3.0-main/chapter2_rl/exercises/part1_intro_to_rl/\n",
            "  inflating: /content/ARENA_3.0-main/chapter2_rl/exercises/part1_intro_to_rl/2.1_Intro_to_RL_exercises.ipynb  \n",
            "  inflating: /content/ARENA_3.0-main/chapter2_rl/exercises/part1_intro_to_rl/2.1_Intro_to_RL_solutions.ipynb  \n",
            "  inflating: /content/ARENA_3.0-main/chapter2_rl/exercises/part1_intro_to_rl/solutions.py  \n",
            "  inflating: /content/ARENA_3.0-main/chapter2_rl/exercises/part1_intro_to_rl/tests.py  \n",
            "  inflating: /content/ARENA_3.0-main/chapter2_rl/exercises/part1_intro_to_rl/utils.py  \n",
            "   creating: /content/ARENA_3.0-main/chapter2_rl/exercises/part2_q_learning_and_dqn/\n",
            "  inflating: /content/ARENA_3.0-main/chapter2_rl/exercises/part2_q_learning_and_dqn/2.2_Q-Learning_and_DQN_exercises.ipynb  \n",
            "  inflating: /content/ARENA_3.0-main/chapter2_rl/exercises/part2_q_learning_and_dqn/2.2_Q-Learning_and_DQN_solutions.ipynb  \n",
            "  inflating: /content/ARENA_3.0-main/chapter2_rl/exercises/part2_q_learning_and_dqn/solutions.py  \n",
            "  inflating: /content/ARENA_3.0-main/chapter2_rl/exercises/part2_q_learning_and_dqn/tests.py  \n",
            "  inflating: /content/ARENA_3.0-main/chapter2_rl/exercises/part2_q_learning_and_dqn/utils.py  \n",
            "   creating: /content/ARENA_3.0-main/chapter2_rl/exercises/part3_ppo/\n",
            "  inflating: /content/ARENA_3.0-main/chapter2_rl/exercises/part3_ppo/2.3_PPO_exercises.ipynb  \n",
            "  inflating: /content/ARENA_3.0-main/chapter2_rl/exercises/part3_ppo/2.3_PPO_solutions.ipynb  \n",
            "  inflating: /content/ARENA_3.0-main/chapter2_rl/exercises/part3_ppo/atari_wrappers.py  \n",
            "  inflating: /content/ARENA_3.0-main/chapter2_rl/exercises/part3_ppo/play_breakout.py  \n",
            "  inflating: /content/ARENA_3.0-main/chapter2_rl/exercises/part3_ppo/play_mountaincar.py  \n",
            "  inflating: /content/ARENA_3.0-main/chapter2_rl/exercises/part3_ppo/solutions.py  \n",
            "  inflating: /content/ARENA_3.0-main/chapter2_rl/exercises/part3_ppo/tests.py  \n",
            "  inflating: /content/ARENA_3.0-main/chapter2_rl/exercises/part3_ppo/utils.py  \n",
            "   creating: /content/ARENA_3.0-main/chapter2_rl/exercises/part4_rlhf/\n",
            "  inflating: /content/ARENA_3.0-main/chapter2_rl/exercises/part4_rlhf/2.4_RLHF_exercises.ipynb  \n",
            "  inflating: /content/ARENA_3.0-main/chapter2_rl/exercises/part4_rlhf/2.4_RLHF_solutions.ipynb  \n",
            "  inflating: /content/ARENA_3.0-main/chapter2_rl/exercises/part4_rlhf/solutions.py  \n",
            "  inflating: /content/ARENA_3.0-main/chapter2_rl/exercises/part4_rlhf/tests.py  \n",
            "  inflating: /content/ARENA_3.0-main/chapter2_rl/exercises/plotly_utils.py  \n"
          ]
        }
      ],
      "source": [
        "import os\n",
        "import sys\n",
        "from pathlib import Path\n",
        "\n",
        "IN_COLAB = \"google.colab\" in sys.modules\n",
        "\n",
        "chapter = \"chapter2_rl\"\n",
        "repo = \"ARENA_3.0\"\n",
        "branch = \"main\"\n",
        "\n",
        "# Install dependencies\n",
        "try:\n",
        "    import jaxtyping\n",
        "except:\n",
        "    %pip install einops gymnasium==0.29.0 jaxtyping\n",
        "\n",
        "# Get root directory, handling 3 different cases: (1) Colab, (2) notebook not in ARENA repo, (3) notebook in ARENA repo\n",
        "root = (\n",
        "    \"/content\"\n",
        "    if IN_COLAB\n",
        "    else \"/root\"\n",
        "    if repo not in os.getcwd()\n",
        "    else str(next(p for p in Path.cwd().parents if p.name == repo))\n",
        ")\n",
        "\n",
        "if Path(root).exists() and not Path(f\"{root}/{chapter}\").exists():\n",
        "    if not IN_COLAB:\n",
        "        !sudo apt-get install unzip\n",
        "        %pip install jupyter ipython --upgrade\n",
        "\n",
        "    if not os.path.exists(f\"{root}/{chapter}\"):\n",
        "        !wget -P {root} https://github.com/callummcdougall/ARENA_3.0/archive/refs/heads/{branch}.zip\n",
        "        !unzip {root}/{branch}.zip '{repo}-{branch}/{chapter}/exercises/*' -d {root}\n",
        "        !mv {root}/{repo}-{branch}/{chapter} {root}/{chapter}\n",
        "        !rm {root}/{branch}.zip\n",
        "        !rmdir {root}/{repo}-{branch}\n",
        "\n",
        "\n",
        "if f\"{root}/{chapter}/exercises\" not in sys.path:\n",
        "    sys.path.append(f\"{root}/{chapter}/exercises\")\n",
        "\n",
        "os.chdir(f\"{root}/{chapter}/exercises\")"
      ]
    },
    {
      "cell_type": "code",
      "execution_count": 5,
      "metadata": {
        "id": "yWECtvgT-1Dj"
      },
      "outputs": [],
      "source": [
        "import os\n",
        "import random\n",
        "import sys\n",
        "from pathlib import Path\n",
        "from typing import TypeAlias\n",
        "\n",
        "import einops\n",
        "import gymnasium as gym\n",
        "import matplotlib.pyplot as plt\n",
        "import numpy as np\n",
        "from tqdm import tqdm\n",
        "\n",
        "Arr: TypeAlias = np.ndarray\n",
        "\n",
        "max_episode_steps = 1000\n",
        "N_RUNS = 200\n",
        "\n",
        "# Make sure exercises are in the path\n",
        "chapter = \"chapter2_rl\"\n",
        "section = \"part1_intro_to_rl\"\n",
        "root_dir = next(p for p in Path.cwd().parents if (p / chapter).exists())\n",
        "exercises_dir = root_dir / chapter / \"exercises\"\n",
        "section_dir = exercises_dir / section\n",
        "if str(exercises_dir) not in sys.path:\n",
        "    sys.path.append(str(exercises_dir))\n",
        "\n",
        "import part1_intro_to_rl.tests as tests\n",
        "import part1_intro_to_rl.utils as utils\n",
        "from plotly_utils import imshow"
      ]
    },
    {
      "cell_type": "markdown",
      "metadata": {
        "id": "BwCk_ad5-1Dj"
      },
      "source": [
        "# 1️⃣ Multi-Armed Bandit\n",
        "\n",
        "> ##### Learning Objectives\n",
        ">\n",
        "> * Practice RL in the tabular (lookup table) setting before adding the complications of neural networks\n",
        "> * Understand the difficulty of optimal exploration\n",
        "> * Understand that performance is extremely variable in RL, and how to measure performance"
      ]
    },
    {
      "cell_type": "markdown",
      "metadata": {
        "id": "H2m9TzVi-1Dk"
      },
      "source": [
        "## Readings\n",
        "\n",
        "* [Sutton and Barto](https://www.andrew.cmu.edu/course/10-703/textbook/BartoSutton.pdf), Chapter 2 (25 minutes)\n",
        "  - Section 2.1: A k-armed Bandit Problem through to Section 2.7 Upper-Confidence-Bound Action Section\n",
        "  - We won't cover Gradient Bandits. Don't worry about these.\n",
        "  - Don't worry too much about all the math for the moment if you can't follow it. The earlier sections are more important."
      ]
    },
    {
      "cell_type": "markdown",
      "metadata": {
        "id": "b1TXuX8R-1Dk"
      },
      "source": [
        "## Intro to OpenAI Gymnasium\n",
        "\n",
        "Today and for the rest of this week, we'll be using `gymnasium` (pinned to version `0.29.0`), an actively maintained fork of OpenAI's no longer maintained `gym` library. This provides a uniform interface to many different RL environments including Atari games. The original `gym` was released in 2016 and details of the API have changed significantly over the years. If you're looking for source code, make sure you visit [https://github.com/Farama-Foundation/Gymnasium/tree/v0.29.0](https://github.com/Farama-Foundation/Gymnasium/tree/v0.29.0) to get the version that corresponds to the code we're using.\n",
        "\n",
        "<details>\n",
        "<summary>Note - <code>gymnasium</code> vs <code>gym</code></summary>\n",
        "\n",
        "`gymnasium` is the new standard for RL environments, and we'll be using it for the rest of this chapter. The rest of the material will just discuss `gymnasium` directly, but we've included here a list of the important differences between `gym==0.23.1` (the version previously used in the ARENA exercises) and `gymnasium==0.29.0`, just in case you want to transfer your old code over (full details can be found [here](https://gymnasium.farama.org/introduction/migration_guide/)). There were also some significant changes made between gymnasium versions `0.29.0` and the current `1.0.0`, but we aren't working with these because they don't offer any major benefits for our purposes (and in particular they handle things like terminal observations and video recording in a pretty annoying way).\n",
        "\n",
        "**5 objects returned in `env.step`, not 4**. In version `0.23.1` of the original gym library, the `env.step` method returned 4 objects: `observation, reward, done, info`. Implicitly, `done` was actually defined as `terminated or truncated`, where `truncated` is true if the episode has timed out and `terminated` is true if the episode ends for non-time related reasons (e.g. the agent has fallen off a cliff). In `gymnasium` (or more recent versions of `gym`), we split this into 2 variables, i.e. `env.step` returns the 5-tuple of `observation, reward, terminated, truncated, info`.\n",
        "\n",
        "**2 objects returned in `env.reset`, not 1**. In version `0.23.1` of the original gym library, the `env.reset` method returned a single object: `obs` (the observation). In `gymnasium`, it returns 2 objects: `observation` and `info` (the latter of which is the same as the `info` object returned by the `step` method conventionally).\n",
        "\n",
        "**The `infos` object is different in vectorized environments.** previously it was a list of dicts (one per env), now it's a dict of lists. We make the following replacements:\n",
        "\n",
        "**Render mode**. You need to create video-based environments by passing `render_mode=\"rgb_array\"` into `gym.make`. When you do this, you don't also need to call `mode=\"rgb_array\"` in the `render` method.\n",
        "\n",
        "```\n",
        "infos[env_idx][\"episode\"][\"l\"] \t\t   -> infos[\"final_info\"][env_idx][\"episode\"][\"l\"]\n",
        "infos[env_idx][\"terminal_observation\"] -> infos[\"final_observation\"][env_idx]\n",
        "```\n",
        "\n",
        "**Handling terminal obversations.** Previously the `next_obs` returned from `envs.step` would be the reset observation of the new episode if we terminated, and we'd have to go into the `infos` dictionary to see the true terminal observation. Now, `next_obs` is the true terminal observation (i.e. the thing that's out of bounds), and when we terminate there's acutally an `_autoreset_envs` flag which is set to true, and makes sure our environment is reset when we take the next step. So in those cases, we need to be careful that the starting `obs` we use is actually the new observation, rather than the terminal observation.\n",
        "\n",
        "**Random seeding.** The `Env.seed()` method no longer exists, and is now replaced with `Env.reset(seed=seed)`.\n",
        "\n",
        "<!-- *If you're happy continuing to work with `gym`, then skip this section!*\n",
        "\n",
        "We're using a relatively old version of `gym` (0.23.1), rather than the more recent (and maintained `gymnasium`). This is because RL libraries are notoriously buggy and susceptible to breaking changes, and we're working with a version which we know is compatible with the material. Annoyingly this version of gym is only compatible with `wandb==0.13.10` rather than the more recent `0.16` versions, which is why we've fixed that version in the requirements file.\n",
        "\n",
        "If you want to transition to `gymnasium`, it is possible (most of the material has been tested with gymnasium as well), but we chose not to make the transition because it wasn't worth all the breaking changes. A few bits of guidance if you want to use `gymanasium`:\n",
        "\n",
        "- We recommend pinning version `gymnasium==0.29.0`.\n",
        "- You should replace `import gym.(x)` with `import gymnasiumn.(x)`, and replace `import gym` with `import gymnasium as gym`.\n",
        "- The most important change is that `env.step` no longer returns 4 objects, it returns 5: `done` is split into `terminated` and `truncated`.\n",
        "\t- `terminated` tells you whether the episode has ended because of environment-specific reasons (e.g. the cartpole has fallen over), and `truncated` tells you whether the episode has ended because the maximum number of steps has been reached. The relationship is `done = terminated or truncated`.\n",
        "\t- You can deal with this by simply defining `done = terminated or truncated` everywhere (or the `|` operator if you're dealing with arrays), and use `done` in the same way as before. However, you could also try and use `terminated` rather than `truncated` when appropriate. Using `done` will only incentivize the agent to maximize its reward within the episode length (e.g. it could always fall over at the 499th step in CartPole-v0 and this would still be fine), but using `terminated` will have different behavioural effects. Can you see why this is?\n",
        "\t- In day 1 material, you'll need to return a 5-tuple rather than a 4-tuple. Often this will just involve inserting `truncated=False` into the return tuple.\n",
        "- `obs.reset()` now returns a 2-tuple of `obs, info` rather than just `obs`.\n",
        "- The `infos` object is structured differently: it's a dict of lists, not a list of dicts.\n",
        "\t- You should replace `infos[environment][\"episode\"]` with `infos[\"final_info\"][environment][\"episode\"]`, and `infos[environment][\"terminal_observation\"]` with `infos[\"final_observation\"][environment]`.\n",
        "- Remove `self.seed()` in the probes.\n",
        "- Pass `render_mode=\"rgb_array\"` into `gym.make` in the `make_envs` utils function.\n",
        "- Comment out the `test_agent` function.\n",
        "- When using atari, you'll want to use the gymnsasium library's built-in wrappers (found [here](https://gymnasium.farama.org/api/wrappers/misc_wrappers/)), not the stuff in `atari_wrappers.py`. -->\n",
        "\n",
        "</details>\n",
        "\n",
        "Below, we've provided a simple environment for the multi-armed bandit described in the Sutton and Barto reading. Here, an action is an integer indicating the choice of arm to pull, and an observation is the constant integer 0, since there's nothing to observe here. Even though the agent does in some sense observe the reward, the reward is always a separate variable from the observation.\n",
        "\n",
        "We're using NumPy for this section. PyTorch provides GPU support and autograd, neither of which is of any use to environment code or the code we're writing today.\n",
        "\n",
        "Read the `MultiArmedBandit` code carefully and make sure you understand how the Gym environment API works."
      ]
    },
    {
      "cell_type": "markdown",
      "metadata": {
        "id": "iw7CJ8FU-1Dk"
      },
      "source": [
        "### The `info` dictionary\n",
        "\n",
        "The environment's `step` method returns four values: `obs`, `reward`, `done`, and the `info` dictionary.\n",
        "\n",
        "`info` can contain anything extra that doesn't fit into the uniform interface - it's up to the environment what to put into it. A good use of this is for debugging information that the agent isn't \"supposed\" to see. In this case, we'll return the index of the actual best arm. This would allow us to measure how often the agent chooses the best arm, but it would also allow us to build a \"cheating\" agent that peeks at this information to make its decision.\n",
        "\n",
        "Cheating agents are helpful because we know that they should obtain the maximum possible rewards; if they aren't, then there's a bug."
      ]
    },
    {
      "cell_type": "markdown",
      "metadata": {
        "id": "X_hkgMEi-1Dl"
      },
      "source": [
        "### The `render()` method\n",
        "\n",
        "Render is only used for debugging or entertainment, and what it does is up to the environment. It might render a little popup window showing the Atari game, or it might give you a RGB image tensor, or just some ASCII text describing what's happening. In this case, we'll just make a little plot showing the distribution of rewards for each arm of the bandit."
      ]
    },
    {
      "cell_type": "markdown",
      "metadata": {
        "id": "qA1SGDU2-1Dl"
      },
      "source": [
        "### Observation and Action Types\n",
        "\n",
        "A `gym.Env` is a generic type: both the type of the observations and the type of the actions depends on the specifics of the environment.\n",
        "\n",
        "We're only dealing with the simplest case: a discrete set of actions which are the same in every state (and ditto for observations). In general, the actions could be continuous, or depend on the state."
      ]
    },
    {
      "cell_type": "code",
      "execution_count": 6,
      "metadata": {
        "id": "oOI_yI7N-1Dl"
      },
      "outputs": [],
      "source": [
        "ObsType = int\n",
        "ActType = int\n",
        "\n",
        "\n",
        "class MultiArmedBandit(gym.Env):\n",
        "    \"\"\"\n",
        "    A class representing a multi-armed bandit environment, based on OpenAI Gym's Env class.\n",
        "\n",
        "    Attributes:\n",
        "        action_space (gym.spaces.Discrete): The space of possible actions, representing the arms of the bandit.\n",
        "        observation_space (gym.spaces.Discrete): The space of possible observations.\n",
        "        num_arms (int): The number of arms in the bandit.\n",
        "        stationary (bool): Indicates whether the reward distribution (i.e. the arm_reward_means) is stationary or not.\n",
        "        arm_reward_means (np.ndarray): The mean rewards for each arm.\n",
        "    \"\"\"\n",
        "\n",
        "    action_space: gym.spaces.Discrete\n",
        "    observation_space: gym.spaces.Discrete\n",
        "    num_arms: int\n",
        "    stationary: bool\n",
        "    arm_reward_means: np.ndarray\n",
        "\n",
        "    def __init__(self, num_arms=10, stationary=True):\n",
        "        \"\"\"\n",
        "        Initializes the MultiArmedBandit environment.\n",
        "\n",
        "        Args:\n",
        "            num_arms (int): The number of arms for the bandit. Defaults to 10.\n",
        "            stationary (bool): Whether the bandit has a stationary reward distribution. Defaults to True.\n",
        "        \"\"\"\n",
        "        super().__init__()\n",
        "        self.num_arms = num_arms\n",
        "        self.stationary = stationary\n",
        "        self.observation_space = gym.spaces.Discrete(1)\n",
        "        self.action_space = gym.spaces.Discrete(num_arms)\n",
        "        self.reset()\n",
        "\n",
        "    def step(self, arm: ActType) -> tuple[ObsType, float, bool, dict]:\n",
        "        \"\"\"\n",
        "        Takes an action by choosing an arm and returns the result of the action.\n",
        "\n",
        "        Args:\n",
        "            arm (ActType): The selected arm to pull in the bandit.\n",
        "\n",
        "        Returns:\n",
        "            obs (ObsType): The observation.\n",
        "            reward (float): The reward.\n",
        "            terminated (bool): Whether the episode has terminated, i.e. for non-timeout related reasons.\n",
        "            truncated (bool): Whether the episode has timed out.\n",
        "            info (dict): Additional information.\n",
        "        \"\"\"\n",
        "        assert self.action_space.contains(arm)\n",
        "        if not self.stationary:\n",
        "            q_drift = self.np_random.normal(loc=0.0, scale=0.01, size=self.num_arms)\n",
        "            self.arm_reward_means += q_drift\n",
        "            self.best_arm = int(np.argmax(self.arm_reward_means))\n",
        "        reward = self.np_random.normal(loc=self.arm_reward_means[arm], scale=1.0)\n",
        "        obs = 0\n",
        "        terminated = False\n",
        "        truncated = False\n",
        "        info = dict(best_arm=self.best_arm)\n",
        "        return (obs, reward, terminated, truncated, info)\n",
        "\n",
        "    def reset(self, seed: int | None = None, options=None) -> tuple[ObsType, dict]:\n",
        "        \"\"\"\n",
        "        Resets the environment to its initial state.\n",
        "\n",
        "        Args:\n",
        "            seed (int | None): The seed for random number generation. Defaults to None.\n",
        "            return_info (bool): If True, return additional info. Defaults to False.\n",
        "            options (dict): Additional options for environment reset. Defaults to None.\n",
        "\n",
        "        Returns:\n",
        "            obs (ObsType): The initial observation.\n",
        "            info (dict): Additional information.\n",
        "        \"\"\"\n",
        "        super().reset(seed=seed)\n",
        "        if self.stationary:\n",
        "            self.arm_reward_means = self.np_random.normal(loc=0.0, scale=1.0, size=self.num_arms)\n",
        "        else:\n",
        "            self.arm_reward_means = np.zeros(shape=[self.num_arms])\n",
        "        self.best_arm = int(np.argmax(self.arm_reward_means))\n",
        "\n",
        "        obs = 0\n",
        "        info = {}\n",
        "        return obs, info\n",
        "\n",
        "    def render(self, mode=\"human\"):\n",
        "        \"\"\"\n",
        "        Renders the state of the environment, in the form of a violin plot.\n",
        "        \"\"\"\n",
        "        assert mode == \"human\", f\"Mode {mode} not supported!\"\n",
        "        bandit_samples = []\n",
        "        for arm in range(self.action_space.n):\n",
        "            bandit_samples += [np.random.normal(loc=self.arm_reward_means[arm], scale=1.0, size=1000)]\n",
        "        plt.violinplot(bandit_samples, showmeans=True)\n",
        "        plt.xlabel(\"Bandit Arm\")\n",
        "        plt.ylabel(\"Reward Distribution\")\n",
        "        plt.show()"
      ]
    },
    {
      "cell_type": "markdown",
      "metadata": {
        "id": "GZtzQkKf-1Dm"
      },
      "source": [
        "### Registering an Environment\n",
        "\n",
        "Usually we won't use a class like `MultiArmedBandit` directly, because we'll want to wrap it in classes that add various other features that help it work with the rest of the gymnasium library. The `register` function does this for us: it stores information about our `Env` in a registry so that a later call to `gym.make` can look it up using the `id` string that is passed in, and then create an instance of our class with a bunch of extra wrapper classes.\n",
        "\n",
        "By convention, the `id` strings have a suffix with a version number. There can be multiple versions of the \"same\" environment with different parameters, and benchmarks should always report the version number for a fair comparison. For instance, `id=\"ArmedBanditTestbed-v0\"` below."
      ]
    },
    {
      "cell_type": "markdown",
      "metadata": {
        "id": "xEXEbgNH-1Dm"
      },
      "source": [
        "#### `TimeLimit` wrapper\n",
        "\n",
        "One important wrapper class is the `TimeLimit` wrapper - this is used to ensure that the environment terminates after a fixed number of steps. It works by having the `truncated` flag returned by the `step` method be overridden after `max_episode_steps`, and set to `True`. You can see from looking at the `step` method above that without this, the agent might keep playing forever, because it always returns `terminated=truncated=False`. The time limit is also an essential part of the problem definition: if it were larger or shorter, there would be more or less time to explore, which means that different algorithms (or at least different hyperparameters) would then have improved performance.\n",
        "\n",
        "A list of the other wrappers you'll see printed below (these are less important):\n",
        "\n",
        "- `OrderEnforcing` ensures the environment is reset before we start using it\n",
        "- `PassiveEnvChecker` surrounds the step, reset and render functions to check they follow Gymnasium’s API"
      ]
    },
    {
      "cell_type": "code",
      "execution_count": 7,
      "metadata": {
        "colab": {
          "base_uri": "https://localhost:8080/"
        },
        "id": "AdiMG1Mh-1Dm",
        "outputId": "4590a4a8-a5e0-412b-82ef-0d2371bc3f68"
      },
      "outputs": [
        {
          "output_type": "stream",
          "name": "stdout",
          "text": [
            "Our env inside its wrappers looks like: <TimeLimit<OrderEnforcing<PassiveEnvChecker<MultiArmedBandit<ArmedBanditTestbed-v0>>>>>\n"
          ]
        }
      ],
      "source": [
        "gym.envs.registration.register(\n",
        "    id=\"ArmedBanditTestbed-v0\",\n",
        "    entry_point=MultiArmedBandit,\n",
        "    max_episode_steps=max_episode_steps,\n",
        "    nondeterministic=True,\n",
        "    reward_threshold=1.0,\n",
        "    kwargs={\"num_arms\": 10, \"stationary\": True},\n",
        ")\n",
        "\n",
        "env = gym.make(\"ArmedBanditTestbed-v0\")\n",
        "print(f\"Our env inside its wrappers looks like: {env}\")"
      ]
    },
    {
      "cell_type": "markdown",
      "metadata": {
        "id": "TafVQmFQ-1Dm"
      },
      "source": [
        "#### A Note on (pseudo) RNGs\n",
        "\n",
        "The PRNG that `gym.Env` provides as `self.np_random` is from the [PCG family](https://www.pcg-random.org/index.html). In RL code, you often need massive quantities of pseudorandomly generated numbers, so it's important to have a generator that is both very fast and has good quality output.\n",
        "\n",
        "When you call `np.random.randint` or similar, you're using the old-school Mersenne Twister algorithm which is both slower and has inferior quality output to PCG. Since Numpy 1.17, you can use `np.random.default_rng()` to get a PCG generator and then use its `integers` method to get random integers."
      ]
    },
    {
      "cell_type": "markdown",
      "metadata": {
        "id": "mlU4nSbq-1Dm"
      },
      "source": [
        "## Agent class\n",
        "\n",
        "Now, you'll start defining agents to act within this class.\n",
        "\n",
        "You'll be defining your agents as subclasses of the base class `Agent` for agents in a multi-armed bandit environment, given below. It contains the following methods:\n",
        "\n",
        "* `get_action`, which returns the agent's next action. This doesn't take state as an argument, because the state of the multi armed bandit game is always the same.\n",
        "    * This isn't implemented for `Agent`, because we'll implement it separately for each agent we build on top of the base agent.\n",
        "* `observe`, which determines what the model does when it observes a particular action & reward combination.\n",
        "    * The default behaviour is to do nothing, although for some agents we'll implement more complicated behaviour.\n",
        "* `reset`, which is run before each episode starts.\n",
        "    * All that the base method does is reset the random number generator, but again future agents might need to do more, e.g. reset data gathered from the `observe` method.\n",
        "\n",
        "Additionally, the `run_episode` function will run a single episode of interaction between an agent and the environment. As discussed above, this will terminate after `max_episode_steps` for our environment (we've set this to be 1000). The `run_agent` function calls `run_episode` multiple times in series."
      ]
    },
    {
      "cell_type": "code",
      "execution_count": 8,
      "metadata": {
        "id": "qvZ8ng_m-1Dm"
      },
      "outputs": [],
      "source": [
        "class Agent:\n",
        "    \"\"\"\n",
        "    Base class for agents in a multi-armed bandit environment\n",
        "\n",
        "    (you do not need to add any implementation here)\n",
        "    \"\"\"\n",
        "\n",
        "    rng: np.random.Generator\n",
        "\n",
        "    def __init__(self, num_arms: int, seed: int):\n",
        "        self.num_arms = num_arms\n",
        "        self.reset(seed)\n",
        "\n",
        "    def get_action(self) -> ActType:\n",
        "        raise NotImplementedError()\n",
        "\n",
        "    def observe(self, action: ActType, reward: float, info: dict) -> None:\n",
        "        pass\n",
        "\n",
        "    def reset(self, seed: int) -> None:\n",
        "        self.rng = np.random.default_rng(seed)\n",
        "\n",
        "\n",
        "def run_episode(env: gym.Env, agent: Agent, seed: int) -> tuple[Arr, Arr]:\n",
        "    \"\"\"\n",
        "    Runs a single episode of interaction between an agent and an environment.\n",
        "\n",
        "    Args:\n",
        "        env (gym.Env): The environment in which the agent operates.\n",
        "        agent (Agent): The agent that takes actions in the environment.\n",
        "        seed (int): The seed for random number generation to ensure reproducibility.\n",
        "\n",
        "    Returns:\n",
        "        A tuple containing arrays of rewards received in each step and a flag indicating if the chosen arm was best.\n",
        "    \"\"\"\n",
        "    (rewards, was_best) = ([], [])\n",
        "\n",
        "    env.reset(seed=seed)\n",
        "    agent.reset(seed=seed)\n",
        "\n",
        "    done = False\n",
        "    while not done:\n",
        "        arm = agent.get_action()\n",
        "        obs, reward, terminated, truncated, info = env.step(arm)\n",
        "        done = terminated or truncated\n",
        "        agent.observe(arm, reward, info)\n",
        "        rewards.append(reward)\n",
        "        was_best.append(1 if arm == info[\"best_arm\"] else 0)\n",
        "\n",
        "    rewards = np.array(rewards, dtype=float)\n",
        "    was_best = np.array(was_best, dtype=int)\n",
        "    return (rewards, was_best)\n",
        "\n",
        "\n",
        "def run_agent(env: gym.Env, agent: Agent, n_runs=200, base_seed=1) -> tuple[Arr, Arr]:\n",
        "    all_rewards = []\n",
        "    all_was_bests = []\n",
        "    base_rng = np.random.default_rng(base_seed)\n",
        "    for n in tqdm(range(n_runs)):\n",
        "        seed = base_rng.integers(low=0, high=10_000, size=1).item()\n",
        "        (rewards, corrects) = run_episode(env, agent, seed)\n",
        "        all_rewards.append(rewards)\n",
        "        all_was_bests.append(corrects)\n",
        "    return np.array(all_rewards), np.array(all_was_bests)"
      ]
    },
    {
      "cell_type": "markdown",
      "metadata": {
        "id": "JBKDMCqn-1Dn"
      },
      "source": [
        "### Exercise - implement `RandomAgent`\n",
        "\n",
        "> ```yaml\n",
        "> Difficulty: 🔴🔴⚪⚪⚪\n",
        "> Importance: 🔵🔵⚪⚪⚪\n",
        ">\n",
        "> You should spend up to 10-20 minutes on this exercise.\n",
        "> ```\n",
        "\n",
        "You should fill in the `get_action` method from `RandomAgent`, which is a subclass of `Agent`. This agent should pick an arm at random, i.e. from the range `[0, ..., num_arms-1]`, and return it as an integer. You won't need to change the `observe` method since the random agent doesn't change its behaviour based on observations, and you won't need to change the `reset` method since there are no observations which need to be reset.\n",
        "\n",
        "This agent will be useful as a baseline to ensure the environment has no bugs. If your later agents are doing worse than random, you have a bug! Later, we'll add some smarter agents.\n",
        "\n",
        "When you've finished implementing this agent, running the cell below will:\n",
        "        \n",
        "- Verify that `RandomAgent` pulls the optimal arm with frequency roughly `1/num_arms`.\n",
        "- Verify that the average reward is very roughly zero. This is the case since the mean reward for each arm is centered on zero."
      ]
    },
    {
      "cell_type": "code",
      "execution_count": 9,
      "metadata": {
        "colab": {
          "base_uri": "https://localhost:8080/"
        },
        "id": "8y4CAXVp-1Dn",
        "outputId": "085a94b3-4fe8-42f3-c9fb-d79e1e2e97fe"
      },
      "outputs": [
        {
          "output_type": "stream",
          "name": "stderr",
          "text": [
            "100%|██████████| 200/200 [00:04<00:00, 48.67it/s]"
          ]
        },
        {
          "output_type": "stream",
          "name": "stdout",
          "text": [
            "Expected correct freq: 0.1, actual: 0.099755\n",
            "Expected average reward: 0.0, actual: 0.007406\n",
            "All tests passed!\n"
          ]
        },
        {
          "output_type": "stream",
          "name": "stderr",
          "text": [
            "\n"
          ]
        }
      ],
      "source": [
        "class RandomAgent(Agent):\n",
        "    def get_action(self) -> ActType:\n",
        "        return np.random.choice(num_arms)\n",
        "\n",
        "    def __repr__(self):\n",
        "        return \"RandomAgent\"\n",
        "\n",
        "\n",
        "num_arms = 10\n",
        "stationary = True\n",
        "env = gym.make(\"ArmedBanditTestbed-v0\", num_arms=num_arms, stationary=stationary)\n",
        "agent = RandomAgent(num_arms, 0)\n",
        "all_rewards, all_corrects = run_agent(env, agent)\n",
        "\n",
        "print(f\"Expected correct freq: {1/10}, actual: {all_corrects.mean():.6f}\")\n",
        "assert np.isclose(all_corrects.mean(), 1 / 10, atol=0.05), \"Random agent is not random enough!\"\n",
        "\n",
        "print(f\"Expected average reward: 0.0, actual: {all_rewards.mean():.6f}\")\n",
        "assert np.isclose(\n",
        "    all_rewards.mean(), 0, atol=0.05\n",
        "), \"Random agent should be getting mean arm reward, which is zero.\"\n",
        "\n",
        "print(\"All tests passed!\")"
      ]
    },
    {
      "cell_type": "markdown",
      "metadata": {
        "id": "xLwpDiGC-1Dn"
      },
      "source": [
        "<details><summary>Solution</summary>\n",
        "\n",
        "```python\n",
        "class RandomAgent(Agent):\n",
        "    def get_action(self) -> ActType:\n",
        "        return self.rng.integers(low=0, high=self.num_arms)\n",
        "\n",
        "    def __repr__(self):\n",
        "        return \"RandomAgent\"\n",
        "```\n",
        "</details>"
      ]
    },
    {
      "cell_type": "markdown",
      "metadata": {
        "id": "scWDzmlY-1Dn"
      },
      "source": [
        "### Exercise - Implement reward averaging\n",
        "> ```yaml\n",
        "> Difficulty: 🔴🔴🔴⚪⚪\n",
        "> Importance: 🔵🔵⚪⚪⚪\n",
        ">\n",
        "> You should spend up to 20-30 minutes on this exercise.\n",
        "> ```\n",
        "\n",
        "You should now complete the methods for the `RewardAveraging` agent, which applies the reward averaging algorithm as detailed in Sutton and Barto section 2.4, \"Incremental Implementation\":\n",
        "\n",
        "* You should fill in `observe` to keep track of the number of times $n$ each arm has been pushed, as well as the value $Q_n$ for each arm.\n",
        "    * Gotcha - in S & B notation, $n$ is the number of times this particular arm has been pulled, not the total number of actions taken!\n",
        "    * We recommend defining arrays `N` and `Q`, each of length `num_arms`, to keep track of all these values.\n",
        "* You should fill in `get_action` with an epsilon-greedy method: taking a random action with probability `epsilon`, and taking the best action based on the current value of $Q$ with probability `1-epsilon` (see Sutton & Barto).\n",
        "* You should fill in `reset` to call the reset method from the parent class, *and* make sure that the tracked values of $(n, Q_n)$ are set back to appropriate values at the start of each episode.\n",
        "    * Note, the `reset` method is also called before the very first run, so you don't need to define `N` and `Q` in the init method.\n",
        "    * The `Q` values should be initialized according to the optimism value of this agent.\n",
        "    * Ensure the `Q` values are stored as float (and not numpy's default, integer)\n",
        "\n",
        "<details>\n",
        "<summary>Hint - average reward formula</summary>\n",
        "\n",
        "$$Q_k = Q_{k-1} + \\frac{1}{k}[R_k - Q_{k-1}]$$\n",
        "\n",
        "Where $k$ is the number of times the action has been taken, $R_k$ is the reward from the kth time the action was taken, and $Q_{k-1}$ is the average reward from the previous times this action was taken (this notation departs slightly from the S&B notation, but may be more helpful for our implementation).\n",
        "\n",
        "**Important - $k$ is not the total number of timesteps, it's the total number of times you've taken this particular action.**\n",
        "</details>\n",
        "\n",
        "We've given you a function for plotting multiple agents' reward trajectories on the same graph, with an optional moving average parameter to make the graph smoother."
      ]
    },
    {
      "cell_type": "code",
      "execution_count": 13,
      "metadata": {
        "colab": {
          "base_uri": "https://localhost:8080/",
          "height": 606
        },
        "id": "RkUBON7y-1Dn",
        "outputId": "a3059ebd-858c-4769-ab9c-2ebb5293d57d"
      },
      "outputs": [
        {
          "output_type": "stream",
          "name": "stderr",
          "text": [
            "100%|██████████| 200/200 [00:03<00:00, 56.71it/s]\n"
          ]
        },
        {
          "output_type": "stream",
          "name": "stdout",
          "text": [
            "RewardAveraging(eps=0.01, optimism=0)\n",
            " -> Frequency of correct arm: 0.5019\n",
            " -> Average reward: 1.2558\n"
          ]
        },
        {
          "output_type": "stream",
          "name": "stderr",
          "text": [
            "100%|██████████| 200/200 [00:03<00:00, 66.57it/s]"
          ]
        },
        {
          "output_type": "stream",
          "name": "stdout",
          "text": [
            "RewardAveraging(eps=0.01, optimism=5)\n",
            " -> Frequency of correct arm: 0.7354\n",
            " -> Average reward: 1.4799\n"
          ]
        },
        {
          "output_type": "stream",
          "name": "stderr",
          "text": [
            "\n"
          ]
        },
        {
          "output_type": "display_data",
          "data": {
            "text/html": [
              "<html>\n",
              "<head><meta charset=\"utf-8\" /></head>\n",
              "<body>\n",
              "    <div>            <script src=\"https://cdnjs.cloudflare.com/ajax/libs/mathjax/2.7.5/MathJax.js?config=TeX-AMS-MML_SVG\"></script><script type=\"text/javascript\">if (window.MathJax && window.MathJax.Hub && window.MathJax.Hub.Config) {window.MathJax.Hub.Config({SVG: {font: \"STIX-Web\"}});}</script>                <script type=\"text/javascript\">window.PlotlyConfig = {MathJaxConfig: 'local'};</script>\n",
              "        <script charset=\"utf-8\" src=\"https://cdn.plot.ly/plotly-2.35.2.min.js\"></script>                <div id=\"15084d85-3308-4724-8139-7dcc01610472\" class=\"plotly-graph-div\" style=\"height:450px; width:750px;\"></div>            <script type=\"text/javascript\">                                    window.PLOTLYENV=window.PLOTLYENV || {};                                    if (document.getElementById(\"15084d85-3308-4724-8139-7dcc01610472\")) {                    Plotly.newPlot(                        \"15084d85-3308-4724-8139-7dcc01610472\",                        [{\"mode\":\"lines\",\"name\":\"RewardAveraging\\u003cbr\\u003e  │eps=0.01\\u003cbr\\u003e  │optimism=0\",\"y\":[0.6779004502919835,0.7492196681565014,0.7796298976170688,0.8110340151402706,0.8474059007966502,0.8796071262073385,0.9044928613018723,0.921660615043833,0.9254482162052071,0.9312983943903839,0.9275918619111823,0.9417786561790694,0.941393745128694,0.9608866166130455,0.9725537252399235,0.9752016239489109,0.9942567420552748,1.012761580365377,1.0129382251721544,1.0129710279184985,1.0154360045371924,1.0088385002668625,1.0090339348025086,1.016778082406486,1.0209847562528667,1.0382045202819694,1.038274777112045,1.0613641050198228,1.0616448268764664,1.0594589441325906,1.0729522219710226,1.0600705236623387,1.0534053145147388,1.0663721692158439,1.0800754097688645,1.0730224239117723,1.0783236849232902,1.0875554810480443,1.0844398060386549,1.0826437882462632,1.074990440181428,1.0749676942434632,1.0587340161567567,1.065121649847388,1.0752410196663358,1.067155200217104,1.0757709209852162,1.0833277059811086,1.0721797928358094,1.0627017760591835,1.0676178884682932,1.0747165356354282,1.0694723722182498,1.0858840002096817,1.1030045865635187,1.103942706796081,1.108966644757755,1.1120148394606957,1.1103163526345006,1.095620513416878,1.10515910271059,1.0994221082037976,1.1013995001523043,1.1100541855163095,1.1082676104317295,1.1090758621839953,1.0988682290087184,1.0891765761574799,1.0764343964975382,1.0634122096240342,1.0656158919399086,1.0728154288426168,1.0741776256389557,1.0606665196015248,1.0676135489493854,1.061698612094785,1.0648858945047104,1.055858643923106,1.0601066063987816,1.0609159933643582,1.0543496856104753,1.0627195069061381,1.0770348092861723,1.0834634810275048,1.091180110960219,1.0903178813327097,1.0747849734866728,1.0728915087279924,1.0785225465899184,1.0790832088907876,1.0741996890946106,1.0743175636915359,1.0708392560673332,1.0671583792937014,1.0689217638849642,1.0731093902516904,1.072925480368186,1.0667079626745477,1.0666471317174577,1.0576027391154905,1.0615530435801863,1.067861353880709,1.0728373986096273,1.0728439592020238,1.0712760482913495,1.0759515966859576,1.077714823871466,1.0882537283059652,1.0864900533495805,1.0943619279681571,1.0964878266493552,1.1044268417258185,1.1079161082850257,1.098598227339599,1.1122231609956874,1.1134548296252489,1.1143307188068974,1.1196545677862153,1.1191651376812766,1.114829924727484,1.119141741626629,1.1263564231482084,1.121856911376896,1.1300382858138496,1.1258265067353932,1.1392199194757429,1.1368980837274119,1.1376873828858247,1.143543208808893,1.1407374714421772,1.1434965738122458,1.1493371629392584,1.157361130252904,1.1607725425793434,1.1646108400430346,1.1670678620830812,1.155022111165592,1.1624203524286012,1.156780137643947,1.1612584468958878,1.1559958857692323,1.1461629382443013,1.1420081520455199,1.1484150874233496,1.1403865100344812,1.1298962451838293,1.1194432603923608,1.1140364138422039,1.1070273184530606,1.1104329970358076,1.1079619002088255,1.1095620698771067,1.1111695973104834,1.113584303091784,1.1117142682718337,1.09640584000025,1.0998199005751208,1.107234161359103,1.096476345658372,1.0999461413357305,1.1060487105328909,1.1093388678809333,1.098426079690834,1.108026793638237,1.1051673041457093,1.1083900298530105,1.104294682539042,1.0928174864368467,1.096730741162645,1.1010995156449932,1.1098007719543224,1.1158187755365645,1.1098763943253667,1.114333652226073,1.122604967903474,1.1116611782385044,1.1120330841204065,1.1247751234511176,1.1207088985313969,1.1351804727554697,1.1327665299134613,1.1455550946243533,1.1447951756060395,1.1401242152616382,1.1385551554389584,1.1380108694490636,1.135970167157467,1.143617189235666,1.1502050717285253,1.1463850452015285,1.1643370907703152,1.1666214722884622,1.1548310429280473,1.1580480503972013,1.1442072714363027,1.1409198447747428,1.1289856347517913,1.1302900691126525,1.1325145209695013,1.1247481852179988,1.124342792699586,1.1195188127214408,1.1170262745523492,1.111519771455761,1.1000381660750256,1.1017244023991453,1.1052366565624443,1.1166446459579125,1.118292373775561,1.1290589053567033,1.1353287536473753,1.143927443165516,1.1474810099961776,1.152559911188725,1.1475406147469396,1.160314881920351,1.1676229469689663,1.1738793910510652,1.184321034870474,1.1951854381787883,1.187740119590283,1.1898806101550785,1.1876405120235196,1.1980807173420014,1.1964977341306224,1.1960124767239109,1.1904208174996653,1.191388696384081,1.188202504537412,1.203769384219811,1.1923102992955572,1.200068171407228,1.2071205880245677,1.207509535776895,1.2124530369281976,1.2015769882008063,1.1943193405450663,1.1946543931179197,1.1845003330204955,1.183729047908874,1.1786295607732087,1.1911887982374576,1.191962716004798,1.1967710311752777,1.1969928273134844,1.1947150936028303,1.1905893583934888,1.1889743788198681,1.1755123101750542,1.1754067911817137,1.1862526332481744,1.1877750643953278,1.1864516322977503,1.189687358539095,1.19330173163227,1.2025989912545774,1.1859449369448762,1.190058427918321,1.1942477899478072,1.1968219276388103,1.2112568471629592,1.2167967822245032,1.2064203608859392,1.2168398050993763,1.2118774254353715,1.2050777172165985,1.2130336958470251,1.212020122701631,1.21369820980093,1.2084213077238626,1.2045959945929932,1.2119588776475363,1.2118540227399914,1.2102173021018643,1.204590189213468,1.1939320708123433,1.1835869660844007,1.1901534451216245,1.1883615425938083,1.1997868713112212,1.2100578673712183,1.204802716867698,1.203231467085209,1.1948969441041073,1.1862356937056802,1.183252939782426,1.1909311258829196,1.1925251317145316,1.1884254649280441,1.1968008484900223,1.200591722922559,1.2107887229606225,1.1914068482552467,1.1940781957667392,1.1950659179093275,1.1925115243363393,1.192581872537168,1.2062590520201601,1.2100530301931598,1.2235686473626932,1.2301212953823437,1.2297632056073098,1.2306528832296748,1.2241238272367203,1.2125229611103123,1.221175891971336,1.2212162494260685,1.2397608091394203,1.2307537867214176,1.2167589715904796,1.2260179912340163,1.234865715969348,1.2329387354438002,1.2442008189325748,1.2461458921423665,1.2438833064039385,1.2462992614406783,1.249587225847381,1.2575474265912172,1.2663527518941577,1.255472267475318,1.2614661123508464,1.2558778024846902,1.2621502198550578,1.2636519725623847,1.258168080936294,1.2494788148401539,1.2475208450232533,1.2455336375619293,1.24643058157064,1.2540374747597411,1.249715396594945,1.2558100904951706,1.2505381833801683,1.2460806492188112,1.2557206814899549,1.2514529289929215,1.2620265078001505,1.2638679173747012,1.264269388089834,1.2681093579225187,1.265235083623217,1.2625118763561696,1.2682142827375136,1.2620342621518867,1.2524803015587547,1.2527039600104368,1.2463857659779214,1.2491508577365606,1.2591390057378136,1.252421770275555,1.2496484007089104,1.2583800309245097,1.2476536978176227,1.2510477358249508,1.2585439978452313,1.2653800215925761,1.2667305445008423,1.262598665961055,1.2671748652155468,1.2773649866707084,1.2770942285538884,1.2770444656639333,1.2759115040364615,1.266719906398767,1.271168350656698,1.2617676716014556,1.2542194216024276,1.2748452448493899,1.2770619201715514,1.2632286476516963,1.262919272961767,1.2619859568636458,1.2556803527344642,1.2582326882288384,1.253498716110486,1.2466358165465599,1.2470131602703418,1.2473969626424453,1.253217614672398,1.257095250298687,1.260177789731991,1.2613744822013284,1.2551744738511048,1.2540428384614302,1.258692193209572,1.260868865162221,1.2678827562260417,1.2643774400349648,1.2628089737392694,1.254128375477838,1.251069241105775,1.252065678701308,1.25634054726872,1.2563806443359682,1.2531125277339696,1.2615508701813156,1.2522863361768486,1.254437318550409,1.255201507537125,1.2564880196971708,1.2477640249325608,1.2447123008046523,1.2516799133170138,1.2465445340563595,1.2581190860935711,1.262090169229426,1.2660194689430226,1.2666820742759077,1.2650496934468,1.2669282979300078,1.2680918031359927,1.2641675705246789,1.2573836539507055,1.2688317923310517,1.2698736619280528,1.271460639836126,1.265294559002939,1.2616382691838415,1.2578647757642936,1.2588675571968035,1.262277798894085,1.2546626788486719,1.2603615920951938,1.2622642812443587,1.2622079039950678,1.2535803659409452,1.2613727871518374,1.2712408015170316,1.252416580580128,1.2453585524463695,1.2500459559330617,1.2585470033438848,1.254268066806416,1.2621572975177477,1.2662109813084195,1.2677750746545713,1.2661107576371515,1.2681469608107476,1.263154215905403,1.2631342693191339,1.2700575444345303,1.268948476390752,1.256026160645475,1.2612579529577943,1.2599270970001537,1.2609986525302324,1.2516106192292986,1.2602525776161353,1.2600627268894187,1.2514771747514335,1.2586088323712148,1.2598013278044695,1.2426250996599038,1.2476433453463642,1.2513639684735305,1.25068882065763,1.2526274830711448,1.262782197794301,1.2692107362853828,1.2768796323174152,1.2838063256745271,1.2933151358910133,1.3008488818530244,1.3025803640942057,1.3116202227484943,1.3120468249038064,1.3243498503340865,1.3340253370626367,1.3256461231580337,1.3185103972494896,1.3041906427892171,1.3072972650163743,1.3047700446136559,1.2980086887912647,1.2941716566586214,1.298852021703336,1.294337121242658,1.2869267155178705,1.2906450907670128,1.2805203242660204,1.269078699355805,1.264499663735296,1.2640270647094287,1.2762717953308387,1.2750842361704826,1.2862292541112916,1.2772873178206434,1.2758349478196882,1.2824009410781552,1.296502849485599,1.2887236728516578,1.2951146541268828,1.2892631153563723,1.2881397545323277,1.2903822018335405,1.2946355254252921,1.2906247183265653,1.2909292128256538,1.2839411322103993,1.2837434669967176,1.2825236998438716,1.2912461915464974,1.2860190102802713,1.282856111942283,1.2797496967342263,1.280522117843854,1.2750726133185102,1.2756137410670134,1.28067425810832,1.2780658404635006,1.2758034685420776,1.2758863390388115,1.2799301534572503,1.2826755524978277,1.2795768848155604,1.2857486706402066,1.2820552210134792,1.2935471312232114,1.295225173093839,1.290943467313597,1.2863138613619867,1.289940402038792,1.3014625495509335,1.3002865268646473,1.299245872230957,1.296006811849808,1.3002679806070243,1.2970412431902938,1.2992542925146078,1.3188826610515965,1.3080277052775728,1.3087970971461498,1.300206494093868,1.2963942128655996,1.2949535882986234,1.3026715274078318,1.3025778594690034,1.2852650644659813,1.2787749738577834,1.2916076205755795,1.3000207855478265,1.304101857503027,1.3108100749110387,1.3035679342399362,1.2941337981902128,1.3005603035511286,1.2906526994458167,1.2958933770755265,1.296785538543198,1.3012897545755397,1.2936242153896425,1.2865258387078786,1.3054610783519744,1.3100716585151986,1.3017316953434146,1.308099097725009,1.309077254410257,1.3047054019091093,1.3009443959160005,1.3030375895512558,1.3077123302085132,1.3196265657473076,1.3227550254111142,1.3276918369095712,1.3212760317969316,1.3185419761003687,1.3230285081384863,1.3204611457495805,1.3047126143054357,1.3147902384296761,1.311038402101091,1.3013950960903002,1.2977371833908515,1.310850782218472,1.308233874680468,1.308120275422607,1.3112460653283506,1.3030703709245168,1.3059420659714835,1.3098789368629846,1.313249780748803,1.3160267470268232,1.309962106924983,1.3283841849364384,1.3151289388690808,1.321866712761721,1.3271433352090374,1.3203702991839843,1.3196761734669205,1.3212626405610688,1.32262292820598,1.3217740813944148,1.3275264291214777,1.3249582480802624,1.3220082086042642,1.3170452201268215,1.3153917711177578,1.3178470522325825,1.3139202625535213,1.3162748622022111,1.307167287155327,1.3067148827852557,1.31913460804642,1.3184552176887185,1.3157219704946101,1.3230866633034717,1.3243346478888953,1.3252077724133338,1.3240293598863067,1.3259432295933797,1.3367345131748152,1.3348380380198932,1.336651469088512,1.3405051134857104,1.3432080427254278,1.3525238610017445,1.3499187734658185,1.3474023434864344,1.3541665213337941,1.3523005779127288,1.3478419272598936,1.3400109099301516,1.3384477292077464,1.3444383985909478,1.3479611823288147,1.3435189931115625,1.3474855321970003,1.3367742926354367,1.329618243859424,1.3351367548166158,1.3213769536509745,1.3271293546119296,1.325547408577495,1.3219709530734767,1.331625148263538,1.327655007109115,1.3322540308863229,1.339747588860943,1.3393509431943207,1.3412487522013559,1.3435561321785903,1.3414429054127368,1.3515564351444633,1.3616969483591825,1.3608228492959598,1.3702750320406494,1.3661269722334586,1.374476810944869,1.3702970078895533,1.3572135485393497,1.3620142897213934,1.3658213872042704,1.3579805661932975,1.3467498594243048,1.3443927272749534,1.351357665508226,1.3448514745557911,1.3488448060365728,1.3442314113747216,1.3355600351824706,1.340548115963558,1.3429689187858458,1.3455758952042893,1.346637378892903,1.356382415785447,1.357196865364972,1.348541823094009,1.349738063091589,1.36476872162638,1.3639620794975522,1.3530670507085385,1.360645886551841,1.3551077993326544,1.364594461349816,1.3586155791416255,1.3488111247526224,1.3430987325383512,1.34398040500195,1.3472615928260665,1.3416065770237917,1.3486336767002816,1.3587796811053674,1.3687636333709936,1.3622998155911394,1.3756090876048879,1.374961050315081,1.375606459793524,1.38312815517401,1.3752310920003614,1.396820059095944,1.3992313690397622,1.394295069191139,1.3872845974670782,1.3767894366446247,1.3813302969803316,1.362729316999912,1.3632111373632445,1.3637833640430017,1.36094905866593,1.3465666957737918,1.349908244236561,1.3524367693273613,1.3423648016837206,1.3439525613838366,1.335719431179185,1.3364797343410904,1.341239972434596,1.3456763842601125,1.353307156804385,1.355944348294141,1.3566754941230708,1.3526549588175159,1.3311416283347475,1.3402007023565525,1.3397406248336285,1.3416084697433766,1.3370894007369922,1.341889681524367,1.3296923561765197,1.3203818363371889,1.319715441660052,1.3261904702492757,1.3199452496893704,1.3099279495961962,1.3035140121131539,1.3057112954985162,1.3117591837135252,1.3293165343556894,1.3164139080307147,1.311398564330663,1.309022304441669,1.3130111999706136,1.3136210905487966,1.3235226841997019,1.3332527470292084,1.3371667032162577,1.341247186584519,1.3434677554618246,1.3602711265686973,1.3665919661742996,1.3727543465796164,1.3677997471206178,1.3668180266038916,1.3676387194543167,1.3719000370830448,1.373906165945838,1.371983402342039,1.3717704118704888,1.370179620274492,1.3625192520877818,1.3583149065352094,1.3467829119678376,1.3430238085502728,1.3411359936635259,1.337282526243856,1.3400778722928635,1.3420705753291107,1.3394074426101876,1.346087089914742,1.3500768929285945,1.3457318052823515,1.3495908324886234,1.3458887716106724,1.3447631650499412,1.3422894316234608,1.3304485670161437,1.335032840989402,1.338410327896539,1.3317915433468064,1.3304992961600344,1.322526557761186,1.324650941267176,1.323293772071247,1.3174198935734769,1.3139610300564528,1.3190518579411825,1.3193769566928646,1.3254554441418653,1.3254982067123593,1.3341457769414773,1.3475292013429376,1.3471063600903108,1.3467147898825034,1.353226810088169,1.3536849100541606,1.3543191189576496,1.349870965384245,1.3549262677322227,1.3666786275145872,1.3667636984750289,1.3686315987436046,1.3602770691072767,1.3492905182206034,1.3509767000181532,1.3517993003638518,1.3542921545865965,1.3589113718759185,1.3555484952476415,1.360411202958418,1.3592337241036527,1.3666938560674453,1.374899668605599,1.3781459423001858,1.3800646999657677,1.386517039933824,1.3903194044518614,1.395193650737383,1.4088863446534332,1.412824452480921,1.4140350492249354,1.4130889204272685,1.4165677758244404,1.4295693703976364,1.4129495572906914,1.4165206088086582,1.4196733826090926,1.4098554049830228,1.4033710823761187,1.3905943212462566,1.38144883702912,1.382250185714679,1.3816634186748995,1.385687331244579,1.37929236022804,1.3856712946512062,1.3868969378644502,1.380111401190561,1.3685105483894782,1.3745767777698348,1.3741028029405167,1.3674190311735552,1.3714383163673878,1.3733673102496746,1.3842235686570803,1.3914165964966287,1.387874890920845,1.3882738918498185,1.3808399991999067,1.3726972923955145,1.3610225675474188,1.3643091752945717,1.3731477242884769,1.3706065146456845,1.37838661422608,1.37479820771091,1.374806747051116,1.3702173689852164,1.373531387946923,1.3666653288084794,1.3683262196730994,1.3718611373862435,1.3832958802889608,1.3788276397867019,1.381533517718041,1.3799511175748345,1.374282728884403,1.3636105620695163,1.365572734815017,1.3626605170919144,1.3647401601693674,1.3626706239884698,1.3624661719562179,1.3573062303587753,1.3620695982557662,1.3641078169520369,1.3522497687405424,1.3393442054580647,1.330781898154161,1.3489168910978302,1.3642291980674297,1.3578249120827877,1.3572085911248146,1.3511346022813542,1.3524799940824626,1.3563685546213795,1.3599332973446205,1.364409752272301,1.3764999147664942,1.3703976258579738,1.3706838140819855,1.3695629539621375,1.3696246273941293,1.373632833006453,1.3685675145155376,1.3546557577104825,1.3743836929719238,1.3743333378986486,1.3874770621083068,1.3819507317660737,1.3797090816728845,1.3807119733069007,1.382557094777197,1.372647239465156,1.3605259998174764,1.351035934946564,1.3521608120632966,1.3507576979332347,1.355910013885159,1.3442519526583965,1.3508835998188715,1.3328644954084514,1.3459389353538882,1.344701850416474,1.3404130774559992,1.345937248651944,1.3460973893066996,1.3424007823263613,1.3401764880568257,1.3521311073918545,1.3525155438477972,1.3581045101120708,1.3650292709319274,1.3710780573982901,1.3846102553971074,1.3781802820707374,1.3804190734546864,1.3731375664354801,1.3742683247401752,1.3850755101040098,1.3780603045643451,1.3762390307136079,1.3637951621811377,1.3547814032326793,1.360458727379652,1.3635616400232418,1.367293776253761,1.3633786653090587,1.3597531522730908,1.3538591960249808,1.360544043835792,1.3643304400126302,1.3723672764569983,1.364435934076346,1.362914493264043,1.3604689881026844,1.361164875011324,1.3770723082284348,1.3915546788526323,1.3853268305596884,1.3831095530044573,1.3884517461994468,1.394147220309651,1.3926351668212191,1.4046272842345995,1.4002462392212085,1.39629684785585,1.3848526044683998,1.393026749486944,1.3922704665542218,1.3908776039930066,1.385325885528846,1.3869341391358982,1.3834575627858006,1.3901125038770108,1.3927494463280103,1.3972772479554048,1.3918873801995535,1.395253822656923,1.3844078041988117,1.382670561792323,1.3806087608340476,1.3793862723972778,1.3758252140899914,1.374758350752821,1.3772173690873084,1.3829491198946167,1.379439423827004,1.37642723973316,1.3792980343833885,1.3824604500026756,1.3752517255936254,1.381962696291248,1.381782137163403,1.3731316719615279,1.3778506006837081,1.3768222280617768,1.3848180253250726,1.390986339900913,1.3879741587315038,1.3934332938295333,1.379753827313986,1.3755502613943615,1.3875970375964244,1.3778096735463048,1.3738508563950593],\"type\":\"scatter\"},{\"mode\":\"lines\",\"name\":\"RewardAveraging\\u003cbr\\u003e  │eps=0.01\\u003cbr\\u003e  │optimism=5\",\"y\":[0.4079592870184271,0.4995940890028161,0.5735793005562401,0.6549212066097123,0.7464165765747953,0.8370009124070535,0.936099199736194,1.0380450814476363,1.1112066183593874,1.2022271330467011,1.284101881960108,1.2992344862505711,1.3079358845503413,1.3313124170562338,1.3444345592420681,1.3512009412921566,1.3772549337499347,1.3977024747238962,1.3966988535089915,1.4011220269936202,1.4076193406963287,1.4031052190953608,1.4039055260732356,1.4150036726832649,1.4194280643266999,1.4405723923031912,1.442957793524634,1.4673155725657672,1.467650259170065,1.4624975574827177,1.474023994626116,1.4603839254903948,1.4562286751805025,1.4687850788684256,1.480691397557918,1.4714183289776899,1.4775430913104666,1.4866493229727904,1.4813201558663995,1.4799128646869477,1.4679474216598056,1.4685128410891741,1.449466853820678,1.4522682117408432,1.4634753758465906,1.4564350912850008,1.461745463420577,1.4668524181923976,1.4566729608762656,1.4472503681866897,1.4519693592533476,1.458297690883138,1.452408616578957,1.4693894599444348,1.4849120413927102,1.4867158461591459,1.4883727435940046,1.4907717408233074,1.4909530117945005,1.4778413782821653,1.488323357390964,1.482171220372775,1.4832797823679689,1.4894907347110566,1.4868391332142608,1.4897894850839548,1.4789279850868156,1.4702588413770334,1.4565170294490088,1.4439290374978517,1.44719379131586,1.4556647771646625,1.458645023034784,1.444691609603088,1.451352513313527,1.4418982553405206,1.4481614697161689,1.4398509780016393,1.4459613122951993,1.4493789143856854,1.4422141722279709,1.4502266353077222,1.4639688408526856,1.4706976149673152,1.478184372054677,1.4753320226114803,1.460898300521913,1.4564494103557952,1.459755486427387,1.4565286014669199,1.4538117766368448,1.4523419398465678,1.4481462294160594,1.4433734036285795,1.4442193265021765,1.4477834412205994,1.4483052110562558,1.443059323117191,1.4411364415849979,1.4315426733244683,1.433565038498254,1.4385254679336734,1.4426830082847233,1.4416030227702967,1.44180246990508,1.4451009816486287,1.4470477517245854,1.4585755323563945,1.4556884045666114,1.4619693274092413,1.4623015960133272,1.4675346663805706,1.469345913840192,1.4605665454359287,1.4739208844130682,1.4760851275058977,1.4753731375277994,1.4815293142719421,1.4836809114056204,1.478535073264743,1.4830708171372218,1.4916060776249216,1.486828515908718,1.4975981574961528,1.494058726451152,1.5067660372959666,1.5062120147941016,1.5071406249246404,1.5096539738965835,1.5052741524817614,1.5080398228012162,1.514883990491713,1.5228164764368273,1.5262227930535592,1.52976131051268,1.5329148361083866,1.5193317117576157,1.5275409501396118,1.5200734350622913,1.523231977409398,1.5199892350930952,1.5089946989633214,1.505397774334481,1.515221320643523,1.5049689860851383,1.4945770772852163,1.4810155498620778,1.4732431136252653,1.4642255978540069,1.4659778396006422,1.463202879915438,1.4655325733490505,1.4686129954562148,1.4695474119349663,1.4686641516597603,1.4541814546653862,1.4585446794219517,1.465064050780012,1.4533611781409603,1.4606147324569443,1.4700055289606837,1.4740553280534054,1.4655104222126265,1.4761388244069071,1.4761640221084311,1.47931938092269,1.4735932576199937,1.4580739698075433,1.4611105979639452,1.4641936902820685,1.470592335148903,1.476569885835634,1.4700594593890248,1.476028104579918,1.4823843543092248,1.4665269941471308,1.4652464462814274,1.4767107691950552,1.472885848234201,1.4853169641596253,1.4812330508305782,1.4958441520718813,1.4926306943009535,1.489420446617703,1.4874796159016437,1.4885620592757485,1.4855124688075345,1.491869153897763,1.4965068593947004,1.4923299938274455,1.5090539972746,1.5137243562264038,1.501257933189758,1.5011618004085865,1.4862057342729675,1.482272168249896,1.4687198512913673,1.4703775718014753,1.4715554868019847,1.464343156711262,1.4610060687016737,1.455153848628754,1.4530208648817924,1.445815767343231,1.4345468457827601,1.4395536585605972,1.442638282062137,1.4547880339893557,1.457282318731984,1.4673047712146967,1.4753267915710278,1.4827453099985177,1.4851529004397017,1.4897840499192436,1.4836742391839683,1.4951208883146136,1.4977315552241597,1.5013585928969784,1.5110825027046304,1.5165159550762874,1.5044167607126573,1.5033164277221431,1.496006222949173,1.5042119811347865,1.5016507712327363,1.4981797612749308,1.4921538472116935,1.4898958109711733,1.4854558233675599,1.4982442932014994,1.4868800634703045,1.495343522628654,1.5031450114793075,1.5040925640900202,1.5128408356474816,1.50398789877266,1.4985371432614292,1.498143905153745,1.4876466943935838,1.4862608395730754,1.482366991222265,1.4942049142635332,1.4965707754513877,1.5019023409847856,1.5020354095174753,1.4992797046304607,1.495687718724821,1.4931197047225888,1.4811261741163397,1.4802098189808022,1.4903272547907136,1.4904829178394607,1.4915966195497845,1.493765189294489,1.4979607954775929,1.5049420499668296,1.4846803536729567,1.4877578542450427,1.489546742068914,1.4907692291106855,1.5045183442812762,1.5086913578035062,1.496539493915293,1.503410928538968,1.4972825225891824,1.4874634651757712,1.494296950515627,1.493316777576721,1.4953062070966705,1.4870554186179523,1.482049236895663,1.4905233406946499,1.4902779783720916,1.4893989848802864,1.4830512042989654,1.471378569599195,1.4618648788082396,1.4688635066660103,1.4644729879596639,1.4733969704190562,1.4834159526841328,1.4775307762313143,1.474720717569979,1.4654640208765728,1.4588381951276725,1.4550102511981702,1.4618340644976116,1.4644629242193445,1.4595832358431835,1.4680700882912485,1.4693478464051433,1.4785896633181628,1.460153617081255,1.4653484854456715,1.4682590949286465,1.4647525215491668,1.465475534174599,1.4777953847612366,1.4816267575666833,1.4943684364265133,1.50135082355373,1.502453165026725,1.5028864136305211,1.494502469498525,1.484003973167656,1.4951409528654571,1.493253738722702,1.5103791582380723,1.4993179789229658,1.4846184095500765,1.4952821798391331,1.5028156700049218,1.50061908837633,1.5103431007502839,1.5126986551704968,1.5093190609547151,1.508569212586436,1.5095949972185205,1.5177862319934472,1.5228819797571305,1.5099249657054543,1.516727836616629,1.509914559290769,1.5142031675003258,1.515439634506212,1.5082431485783219,1.4977409560100037,1.495613526089619,1.4932522259537033,1.4896564116832716,1.4938843839909812,1.4892446697965929,1.4929160423965488,1.4871254473335853,1.482880094729463,1.4925738268245823,1.4869974218551534,1.4968335490047024,1.4987966912978967,1.4986863140399314,1.501744569397863,1.5015748015828536,1.4982747335822295,1.5027818062329668,1.4978536456390619,1.4897283654235138,1.4872685866557505,1.4835193594374612,1.486803536711045,1.4959946392011374,1.4882178342959604,1.484729172614349,1.4914093203024927,1.4815304052414338,1.484302394653135,1.4922924795095318,1.4982253653388624,1.4980160736727688,1.4934315790742403,1.4990342301881658,1.5097708291649723,1.5107769498623536,1.5085719771111599,1.5051793322770513,1.495772621535116,1.5014475992558194,1.4934774562770674,1.4876236965412393,1.507842619586912,1.5093414515261807,1.4957225693214014,1.493508690771743,1.494976953601713,1.4875783535975264,1.4882171406068436,1.4833259677213846,1.4762345462266997,1.4771698222465754,1.4783932057023095,1.4861385340619866,1.4903287380840766,1.4927876293735456,1.4911968069067447,1.4837694473225838,1.483581676796454,1.4886157442338421,1.4926796584314843,1.4964671458446521,1.495186095759747,1.491480383671031,1.4828847057598447,1.4809214948124538,1.4837470902577783,1.4867606936869302,1.483233331503675,1.478820394773561,1.4861912794251946,1.4809299070555046,1.483210007048327,1.4803189378819903,1.4805182918353164,1.467133530211951,1.465428873817359,1.472929744677996,1.470863436942788,1.4822406894696845,1.4850545491029759,1.4880800560503986,1.4893974038493145,1.48959805400998,1.4888322939770433,1.4898634596162537,1.4843381598643721,1.4795159110068956,1.4926996533027175,1.49515684383861,1.4996896017996582,1.4951025092830454,1.4873478152977668,1.4874638019807436,1.4876541555892875,1.4917023256932453,1.4831912744817373,1.487147579163487,1.4893768514929207,1.491343995255996,1.4843247259003647,1.4906012721123565,1.499271797098057,1.4791570257905808,1.4716602567823656,1.477144437222834,1.485289904213778,1.4846993346617865,1.487650623181427,1.4928501079920882,1.4954921319754022,1.496655844716732,1.5021475794843657,1.4982630268813637,1.4983293773119157,1.5021873765663032,1.5005120262374172,1.485975135101368,1.4945629643838023,1.493449133456458,1.4928257781970387,1.4815834991422057,1.490150225017093,1.4893310740447,1.47894826366656,1.4864133887454045,1.4845598189474685,1.4667592423325535,1.4683497081071664,1.4715569872499221,1.4721729824750658,1.4734381734767414,1.4843486207208572,1.4906784245812257,1.4955629978377147,1.5027973045858365,1.5129856305515887,1.5192287756536567,1.5217988069086157,1.5325675382165855,1.532354707714482,1.5443228347853544,1.5536357433625123,1.5477284912731117,1.5404967274034032,1.5269655882686872,1.5295985410233166,1.5273621095573693,1.5194794820794337,1.516770621043823,1.5217379267127702,1.5162494142179943,1.5090974667781665,1.511970203440463,1.5015333008815939,1.488262455080894,1.4845703825540795,1.4839136939865816,1.4949074074087472,1.4927649874756905,1.5020620441132906,1.4962284405504307,1.4963957863045683,1.5027665579417393,1.517106292122283,1.5090433524484677,1.5158398951754861,1.5100071023884993,1.5076793100195118,1.5100573344708057,1.5124721994246784,1.5079740567902566,1.5072107373283719,1.5002123513257553,1.5007236527228618,1.501981983130789,1.5105015465892848,1.5036291162343711,1.4986122375978765,1.496151654272747,1.49421580271359,1.4875884628311495,1.4871510185166623,1.4934132811692962,1.4892049800225777,1.4866478709710995,1.487544292644346,1.4913073418265108,1.4943917792028818,1.4916503941913182,1.4971394138386132,1.4915902730956456,1.5022437365175847,1.506240129023657,1.5028068278832583,1.5027240606462025,1.5066806050734765,1.5181617312116107,1.5158238618690953,1.5155703349678107,1.5154134549060472,1.5173752877774784,1.515500368671375,1.517392685816056,1.5355461218201223,1.5243976649747613,1.5266918905684634,1.517246769998466,1.5127541989490283,1.5074334701974976,1.5099864799834222,1.5104703075834247,1.4917815396295206,1.487723630589964,1.5005711222853582,1.5069607017271514,1.5118459889763927,1.5163633012969664,1.5079043765604183,1.4978970592243968,1.500956474056928,1.4887692032142164,1.4939584317143424,1.4916712953229156,1.49918624870733,1.491388137164563,1.4814115012019784,1.5002490287729415,1.5028141267755397,1.4923336189861933,1.5005004720334,1.5015116731860492,1.4948605074939603,1.4898235649143543,1.4932314347202085,1.4988519717594575,1.5113738848232743,1.5164153195591175,1.5213824972017467,1.5142163051461845,1.5138860942070247,1.5203996924609025,1.5193851916626955,1.5047745081778885,1.5142600288653967,1.5063949694300467,1.49460193184478,1.4898650965895968,1.505252487314533,1.5000431391083566,1.4999707261043416,1.5016895310740666,1.4914980838784762,1.4952968407372964,1.4940095736604537,1.4943451645521084,1.497399111486061,1.4906273132450754,1.5064641904620126,1.4925674446701427,1.5015117223009837,1.5079894752170426,1.5056927741269344,1.5032676883507672,1.5061533352097436,1.5070487683712372,1.507513029818051,1.5136024397664565,1.5082942950010267,1.5090808601316363,1.5050215423201203,1.5034274066835376,1.5065360915603228,1.5017402102866677,1.5060796064380384,1.499160504969124,1.4981345875444882,1.5087595140106638,1.5075479721829652,1.5003345886526176,1.5072284834799348,1.5104505767532526,1.5100373890539838,1.5105390168832324,1.5107650742560206,1.5201316539682996,1.5141838844333355,1.514424808680322,1.5193947562408538,1.5193976225449888,1.5219719125021736,1.5175536083907142,1.511516977657349,1.5174444797464426,1.5173917980912772,1.5128268366448083,1.5018987303065388,1.500800294889958,1.504353437486922,1.5077790420949593,1.5055202850467821,1.5105593513669797,1.4987678936344915,1.491913851344475,1.5007002181325182,1.4900103466583308,1.4951988294176544,1.4956511605056904,1.4928064520698778,1.5017695554136101,1.4980130631702802,1.5014150715241006,1.5060055917744648,1.5061131707901874,1.5061431486862982,1.5067219074561762,1.5047186770875518,1.5170950506497016,1.5260939907675342,1.52087835172224,1.5289291689875655,1.5246727121680579,1.5319476081504415,1.525220108363237,1.5135451189120508,1.5179251528455173,1.5212297312205767,1.5138188447730803,1.5038776083599488,1.5037941495136011,1.5122797579764058,1.5071737901219118,1.5087320693776973,1.5034715543379888,1.4966448786447624,1.5032573241262905,1.5079000088835224,1.5122994406293022,1.5158263391100946,1.5253080609464404,1.5262454785707709,1.5182002762019617,1.5187361889566848,1.5351991864323433,1.532003006260652,1.518494632033556,1.52536364494678,1.5197326160161386,1.5289738496941179,1.5247589416529232,1.5156130672602104,1.5077695031565932,1.5075772810689008,1.5131095096435425,1.5103525234182447,1.5161992643339999,1.5228940106812312,1.5353222967863227,1.5276705139384679,1.5451399190251096,1.546732644817977,1.545765299158135,1.5536020062172307,1.5474069679073863,1.5669820818381823,1.5674921796668893,1.5619513768118243,1.5564955445184296,1.5427906318797493,1.5443524254963221,1.5240957565888569,1.5284494887175166,1.5291994398328674,1.5255261837400365,1.5094912849342412,1.5141159456941296,1.5180323422125184,1.5067946809259412,1.5057566879270325,1.497798933874492,1.4983770827684262,1.5046849639555149,1.5062683312968754,1.51672892229282,1.519104000331102,1.519784866934818,1.5160124852453616,1.4927840953652018,1.5014955075809364,1.4992956029081141,1.4978504852113776,1.4921420463658857,1.4991962948038084,1.4908333658562545,1.482340981079066,1.4839369285646626,1.4900405506555974,1.4851505488754961,1.4734497275631384,1.46730982499242,1.470660947394587,1.47444526797658,1.4929440923732273,1.4822252389290347,1.4801999642909474,1.4772557522423237,1.481641479235744,1.4830550747246283,1.4880677097809591,1.498107243094258,1.5023229733829189,1.506760310940687,1.5073338735568844,1.517473655730358,1.5251518217905413,1.5344714903084726,1.5317582868407953,1.5307080061259057,1.5283792598505745,1.5294314771239745,1.5319015499128454,1.530161121042041,1.528383475358669,1.531367472530125,1.522650528633691,1.518610560583314,1.5085858944947632,1.507144635087146,1.5119347167303963,1.5085279607475512,1.50853102021991,1.5099515170330051,1.5076583850325884,1.5143666706414327,1.5198083592561944,1.5139759848674355,1.512497091938091,1.508339086869728,1.503296245126982,1.5015747014469525,1.4880899347002923,1.4911284348230311,1.4930287813996983,1.4847511669867344,1.4818139662291439,1.4723189448544265,1.4739886473527954,1.472372755511727,1.4698492109926216,1.4665881189159942,1.4755330227706205,1.48176330708784,1.4865450183957667,1.487972921034725,1.495372732625871,1.5078833893180066,1.5070995876434607,1.5071626137375764,1.5136678600680322,1.5141415840016634,1.5184895810568075,1.5130206003137876,1.517717594108626,1.527389276119508,1.5264138173502184,1.5263093981004963,1.5167676980137004,1.5056319556344684,1.5077671359490523,1.51044257738043,1.514263395560253,1.5200207999851045,1.516762325957734,1.5212806612620777,1.5196856907122462,1.5268101778786938,1.535518644271345,1.53977601941574,1.5403475229160903,1.546942278319087,1.54976214319704,1.5549521126432257,1.5688429274037239,1.5720301477669334,1.5716268732671475,1.5675886371491894,1.5702293856739744,1.5819398420497994,1.5670312915426772,1.5710420172486617,1.5724940405765664,1.5637647474486889,1.555124654002581,1.5418995335951573,1.5318074693260617,1.5353652718674766,1.5345631510120257,1.5378159289034101,1.532969786305739,1.5377765772784036,1.5398218655607858,1.5331639296169972,1.522350210288793,1.5285023403501934,1.5274632940056867,1.5191693897376808,1.523119449351437,1.524550757923589,1.5368218820263033,1.5433776076468197,1.5378413226026018,1.5353206876972612,1.5259835111443862,1.5165517392753827,1.5040337646238187,1.508365920906696,1.5177075638425928,1.5158791529833857,1.5225091050633637,1.5189416088080785,1.5208338665978165,1.5145711203816519,1.5188146166112346,1.5113406116051162,1.5121944789185364,1.5161812633177305,1.529795120572741,1.529930907738905,1.5312268528239958,1.5312225607643388,1.5258905060272203,1.5142159858903748,1.5159939743220547,1.5123805567067696,1.515337277757332,1.512410363835367,1.5116804484498516,1.5058990104525796,1.509212854912706,1.5120007444741381,1.498507561009122,1.4861586684939994,1.4754101197891487,1.4943449360043057,1.5083139443817042,1.5014355366450824,1.5001998328429786,1.493494369860188,1.4943474125833291,1.4967109407697383,1.5000218938488161,1.5053245771822124,1.5144773685533892,1.5092085711795789,1.5084699351379944,1.508603764646326,1.5076268561669772,1.512166515267548,1.505893869726348,1.4913297463314392,1.5101652988345449,1.5104076011945835,1.521171322343783,1.5165633039102735,1.5157046332987496,1.5173282790885272,1.518379984330689,1.512470775958127,1.5029312317934,1.496566300216758,1.4966602978900332,1.4962700014360508,1.4993013390754641,1.4886077888519593,1.4989778564044476,1.4797700535877387,1.4919052190375623,1.4913911731500926,1.486582067620308,1.4901783896044283,1.4884652215593783,1.4861335472015373,1.4842014124593335,1.4932776680748399,1.4912141936215904,1.496936787894189,1.5027171348441697,1.5113470927743493,1.526279273639769,1.5187200819878701,1.5200531424830084,1.5142530814582946,1.5169369804116892,1.5277846346484694,1.5209010481718754,1.5200216345799467,1.505838732858183,1.4971012066239078,1.5034968985714536,1.5051588185697862,1.5088062819136667,1.5069875489917195,1.5003492570259065,1.4947097756545493,1.4989848877455492,1.506052604313633,1.5139991788885254,1.5046006483524708,1.503474780472076,1.5023232752827123,1.5017294163056552,1.5159912875947308,1.5261791422446853,1.5186290053283453,1.518721250495552,1.5232944230671517,1.5248877853642626,1.5257637313916197,1.5353592245481347,1.5324581199568912,1.5231367028353058,1.5094695617607612,1.5178840136723162,1.5172621880920663,1.5155103759255022,1.5131986940204418,1.516908337281211,1.514226128013115,1.5212322685862698,1.5238414790210604,1.5293887110696232,1.5246378434739198,1.526984858655184,1.5164056677610764,1.5135645644741544,1.5149222001474907,1.513245933512644,1.510240806703314,1.5088240184108144,1.510256605539977,1.5144251874173429,1.5095772260016929,1.5085357732744191,1.5118137082008465,1.511734419496952,1.5053895304698925,1.5155012475635583,1.5167066194973358,1.5072976892828138,1.511704812440439,1.5116967224994218,1.5211742708689446,1.526224285234245,1.5208885836352237,1.5262705692350058,1.5103915172042737,1.5084446860974368,1.5200599729829718,1.5092047493419158,1.5060437275111629],\"type\":\"scatter\"}],                        {\"template\":{\"data\":{\"barpolar\":[{\"marker\":{\"line\":{\"color\":\"white\",\"width\":0.5},\"pattern\":{\"fillmode\":\"overlay\",\"size\":10,\"solidity\":0.2}},\"type\":\"barpolar\"}],\"bar\":[{\"error_x\":{\"color\":\"rgb(36,36,36)\"},\"error_y\":{\"color\":\"rgb(36,36,36)\"},\"marker\":{\"line\":{\"color\":\"white\",\"width\":0.5},\"pattern\":{\"fillmode\":\"overlay\",\"size\":10,\"solidity\":0.2}},\"type\":\"bar\"}],\"carpet\":[{\"aaxis\":{\"endlinecolor\":\"rgb(36,36,36)\",\"gridcolor\":\"white\",\"linecolor\":\"white\",\"minorgridcolor\":\"white\",\"startlinecolor\":\"rgb(36,36,36)\"},\"baxis\":{\"endlinecolor\":\"rgb(36,36,36)\",\"gridcolor\":\"white\",\"linecolor\":\"white\",\"minorgridcolor\":\"white\",\"startlinecolor\":\"rgb(36,36,36)\"},\"type\":\"carpet\"}],\"choropleth\":[{\"colorbar\":{\"outlinewidth\":1,\"tickcolor\":\"rgb(36,36,36)\",\"ticks\":\"outside\"},\"type\":\"choropleth\"}],\"contourcarpet\":[{\"colorbar\":{\"outlinewidth\":1,\"tickcolor\":\"rgb(36,36,36)\",\"ticks\":\"outside\"},\"type\":\"contourcarpet\"}],\"contour\":[{\"colorbar\":{\"outlinewidth\":1,\"tickcolor\":\"rgb(36,36,36)\",\"ticks\":\"outside\"},\"colorscale\":[[0.0,\"#440154\"],[0.1111111111111111,\"#482878\"],[0.2222222222222222,\"#3e4989\"],[0.3333333333333333,\"#31688e\"],[0.4444444444444444,\"#26828e\"],[0.5555555555555556,\"#1f9e89\"],[0.6666666666666666,\"#35b779\"],[0.7777777777777778,\"#6ece58\"],[0.8888888888888888,\"#b5de2b\"],[1.0,\"#fde725\"]],\"type\":\"contour\"}],\"heatmapgl\":[{\"colorbar\":{\"outlinewidth\":1,\"tickcolor\":\"rgb(36,36,36)\",\"ticks\":\"outside\"},\"colorscale\":[[0.0,\"#440154\"],[0.1111111111111111,\"#482878\"],[0.2222222222222222,\"#3e4989\"],[0.3333333333333333,\"#31688e\"],[0.4444444444444444,\"#26828e\"],[0.5555555555555556,\"#1f9e89\"],[0.6666666666666666,\"#35b779\"],[0.7777777777777778,\"#6ece58\"],[0.8888888888888888,\"#b5de2b\"],[1.0,\"#fde725\"]],\"type\":\"heatmapgl\"}],\"heatmap\":[{\"colorbar\":{\"outlinewidth\":1,\"tickcolor\":\"rgb(36,36,36)\",\"ticks\":\"outside\"},\"colorscale\":[[0.0,\"#440154\"],[0.1111111111111111,\"#482878\"],[0.2222222222222222,\"#3e4989\"],[0.3333333333333333,\"#31688e\"],[0.4444444444444444,\"#26828e\"],[0.5555555555555556,\"#1f9e89\"],[0.6666666666666666,\"#35b779\"],[0.7777777777777778,\"#6ece58\"],[0.8888888888888888,\"#b5de2b\"],[1.0,\"#fde725\"]],\"type\":\"heatmap\"}],\"histogram2dcontour\":[{\"colorbar\":{\"outlinewidth\":1,\"tickcolor\":\"rgb(36,36,36)\",\"ticks\":\"outside\"},\"colorscale\":[[0.0,\"#440154\"],[0.1111111111111111,\"#482878\"],[0.2222222222222222,\"#3e4989\"],[0.3333333333333333,\"#31688e\"],[0.4444444444444444,\"#26828e\"],[0.5555555555555556,\"#1f9e89\"],[0.6666666666666666,\"#35b779\"],[0.7777777777777778,\"#6ece58\"],[0.8888888888888888,\"#b5de2b\"],[1.0,\"#fde725\"]],\"type\":\"histogram2dcontour\"}],\"histogram2d\":[{\"colorbar\":{\"outlinewidth\":1,\"tickcolor\":\"rgb(36,36,36)\",\"ticks\":\"outside\"},\"colorscale\":[[0.0,\"#440154\"],[0.1111111111111111,\"#482878\"],[0.2222222222222222,\"#3e4989\"],[0.3333333333333333,\"#31688e\"],[0.4444444444444444,\"#26828e\"],[0.5555555555555556,\"#1f9e89\"],[0.6666666666666666,\"#35b779\"],[0.7777777777777778,\"#6ece58\"],[0.8888888888888888,\"#b5de2b\"],[1.0,\"#fde725\"]],\"type\":\"histogram2d\"}],\"histogram\":[{\"marker\":{\"line\":{\"color\":\"white\",\"width\":0.6}},\"type\":\"histogram\"}],\"mesh3d\":[{\"colorbar\":{\"outlinewidth\":1,\"tickcolor\":\"rgb(36,36,36)\",\"ticks\":\"outside\"},\"type\":\"mesh3d\"}],\"parcoords\":[{\"line\":{\"colorbar\":{\"outlinewidth\":1,\"tickcolor\":\"rgb(36,36,36)\",\"ticks\":\"outside\"}},\"type\":\"parcoords\"}],\"pie\":[{\"automargin\":true,\"type\":\"pie\"}],\"scatter3d\":[{\"line\":{\"colorbar\":{\"outlinewidth\":1,\"tickcolor\":\"rgb(36,36,36)\",\"ticks\":\"outside\"}},\"marker\":{\"colorbar\":{\"outlinewidth\":1,\"tickcolor\":\"rgb(36,36,36)\",\"ticks\":\"outside\"}},\"type\":\"scatter3d\"}],\"scattercarpet\":[{\"marker\":{\"colorbar\":{\"outlinewidth\":1,\"tickcolor\":\"rgb(36,36,36)\",\"ticks\":\"outside\"}},\"type\":\"scattercarpet\"}],\"scattergeo\":[{\"marker\":{\"colorbar\":{\"outlinewidth\":1,\"tickcolor\":\"rgb(36,36,36)\",\"ticks\":\"outside\"}},\"type\":\"scattergeo\"}],\"scattergl\":[{\"marker\":{\"colorbar\":{\"outlinewidth\":1,\"tickcolor\":\"rgb(36,36,36)\",\"ticks\":\"outside\"}},\"type\":\"scattergl\"}],\"scattermapbox\":[{\"marker\":{\"colorbar\":{\"outlinewidth\":1,\"tickcolor\":\"rgb(36,36,36)\",\"ticks\":\"outside\"}},\"type\":\"scattermapbox\"}],\"scatterpolargl\":[{\"marker\":{\"colorbar\":{\"outlinewidth\":1,\"tickcolor\":\"rgb(36,36,36)\",\"ticks\":\"outside\"}},\"type\":\"scatterpolargl\"}],\"scatterpolar\":[{\"marker\":{\"colorbar\":{\"outlinewidth\":1,\"tickcolor\":\"rgb(36,36,36)\",\"ticks\":\"outside\"}},\"type\":\"scatterpolar\"}],\"scatter\":[{\"fillpattern\":{\"fillmode\":\"overlay\",\"size\":10,\"solidity\":0.2},\"type\":\"scatter\"}],\"scatterternary\":[{\"marker\":{\"colorbar\":{\"outlinewidth\":1,\"tickcolor\":\"rgb(36,36,36)\",\"ticks\":\"outside\"}},\"type\":\"scatterternary\"}],\"surface\":[{\"colorbar\":{\"outlinewidth\":1,\"tickcolor\":\"rgb(36,36,36)\",\"ticks\":\"outside\"},\"colorscale\":[[0.0,\"#440154\"],[0.1111111111111111,\"#482878\"],[0.2222222222222222,\"#3e4989\"],[0.3333333333333333,\"#31688e\"],[0.4444444444444444,\"#26828e\"],[0.5555555555555556,\"#1f9e89\"],[0.6666666666666666,\"#35b779\"],[0.7777777777777778,\"#6ece58\"],[0.8888888888888888,\"#b5de2b\"],[1.0,\"#fde725\"]],\"type\":\"surface\"}],\"table\":[{\"cells\":{\"fill\":{\"color\":\"rgb(237,237,237)\"},\"line\":{\"color\":\"white\"}},\"header\":{\"fill\":{\"color\":\"rgb(217,217,217)\"},\"line\":{\"color\":\"white\"}},\"type\":\"table\"}]},\"layout\":{\"annotationdefaults\":{\"arrowhead\":0,\"arrowwidth\":1},\"autotypenumbers\":\"strict\",\"coloraxis\":{\"colorbar\":{\"outlinewidth\":1,\"tickcolor\":\"rgb(36,36,36)\",\"ticks\":\"outside\"}},\"colorscale\":{\"diverging\":[[0.0,\"rgb(103,0,31)\"],[0.1,\"rgb(178,24,43)\"],[0.2,\"rgb(214,96,77)\"],[0.3,\"rgb(244,165,130)\"],[0.4,\"rgb(253,219,199)\"],[0.5,\"rgb(247,247,247)\"],[0.6,\"rgb(209,229,240)\"],[0.7,\"rgb(146,197,222)\"],[0.8,\"rgb(67,147,195)\"],[0.9,\"rgb(33,102,172)\"],[1.0,\"rgb(5,48,97)\"]],\"sequential\":[[0.0,\"#440154\"],[0.1111111111111111,\"#482878\"],[0.2222222222222222,\"#3e4989\"],[0.3333333333333333,\"#31688e\"],[0.4444444444444444,\"#26828e\"],[0.5555555555555556,\"#1f9e89\"],[0.6666666666666666,\"#35b779\"],[0.7777777777777778,\"#6ece58\"],[0.8888888888888888,\"#b5de2b\"],[1.0,\"#fde725\"]],\"sequentialminus\":[[0.0,\"#440154\"],[0.1111111111111111,\"#482878\"],[0.2222222222222222,\"#3e4989\"],[0.3333333333333333,\"#31688e\"],[0.4444444444444444,\"#26828e\"],[0.5555555555555556,\"#1f9e89\"],[0.6666666666666666,\"#35b779\"],[0.7777777777777778,\"#6ece58\"],[0.8888888888888888,\"#b5de2b\"],[1.0,\"#fde725\"]]},\"colorway\":[\"#1F77B4\",\"#FF7F0E\",\"#2CA02C\",\"#D62728\",\"#9467BD\",\"#8C564B\",\"#E377C2\",\"#7F7F7F\",\"#BCBD22\",\"#17BECF\"],\"font\":{\"color\":\"rgb(36,36,36)\"},\"geo\":{\"bgcolor\":\"white\",\"lakecolor\":\"white\",\"landcolor\":\"white\",\"showlakes\":true,\"showland\":true,\"subunitcolor\":\"white\"},\"hoverlabel\":{\"align\":\"left\"},\"hovermode\":\"closest\",\"mapbox\":{\"style\":\"light\"},\"paper_bgcolor\":\"white\",\"plot_bgcolor\":\"white\",\"polar\":{\"angularaxis\":{\"gridcolor\":\"rgb(232,232,232)\",\"linecolor\":\"rgb(36,36,36)\",\"showgrid\":false,\"showline\":true,\"ticks\":\"outside\"},\"bgcolor\":\"white\",\"radialaxis\":{\"gridcolor\":\"rgb(232,232,232)\",\"linecolor\":\"rgb(36,36,36)\",\"showgrid\":false,\"showline\":true,\"ticks\":\"outside\"}},\"scene\":{\"xaxis\":{\"backgroundcolor\":\"white\",\"gridcolor\":\"rgb(232,232,232)\",\"gridwidth\":2,\"linecolor\":\"rgb(36,36,36)\",\"showbackground\":true,\"showgrid\":false,\"showline\":true,\"ticks\":\"outside\",\"zeroline\":false,\"zerolinecolor\":\"rgb(36,36,36)\"},\"yaxis\":{\"backgroundcolor\":\"white\",\"gridcolor\":\"rgb(232,232,232)\",\"gridwidth\":2,\"linecolor\":\"rgb(36,36,36)\",\"showbackground\":true,\"showgrid\":false,\"showline\":true,\"ticks\":\"outside\",\"zeroline\":false,\"zerolinecolor\":\"rgb(36,36,36)\"},\"zaxis\":{\"backgroundcolor\":\"white\",\"gridcolor\":\"rgb(232,232,232)\",\"gridwidth\":2,\"linecolor\":\"rgb(36,36,36)\",\"showbackground\":true,\"showgrid\":false,\"showline\":true,\"ticks\":\"outside\",\"zeroline\":false,\"zerolinecolor\":\"rgb(36,36,36)\"}},\"shapedefaults\":{\"fillcolor\":\"black\",\"line\":{\"width\":0},\"opacity\":0.3},\"ternary\":{\"aaxis\":{\"gridcolor\":\"rgb(232,232,232)\",\"linecolor\":\"rgb(36,36,36)\",\"showgrid\":false,\"showline\":true,\"ticks\":\"outside\"},\"baxis\":{\"gridcolor\":\"rgb(232,232,232)\",\"linecolor\":\"rgb(36,36,36)\",\"showgrid\":false,\"showline\":true,\"ticks\":\"outside\"},\"bgcolor\":\"white\",\"caxis\":{\"gridcolor\":\"rgb(232,232,232)\",\"linecolor\":\"rgb(36,36,36)\",\"showgrid\":false,\"showline\":true,\"ticks\":\"outside\"}},\"title\":{\"x\":0.05},\"xaxis\":{\"automargin\":true,\"gridcolor\":\"rgb(232,232,232)\",\"linecolor\":\"rgb(36,36,36)\",\"showgrid\":false,\"showline\":true,\"ticks\":\"outside\",\"title\":{\"standoff\":15},\"zeroline\":false,\"zerolinecolor\":\"rgb(36,36,36)\"},\"yaxis\":{\"automargin\":true,\"gridcolor\":\"rgb(232,232,232)\",\"linecolor\":\"rgb(36,36,36)\",\"showgrid\":false,\"showline\":true,\"ticks\":\"outside\",\"title\":{\"standoff\":15},\"zeroline\":false,\"zerolinecolor\":\"rgb(36,36,36)\"}}},\"title\":{\"text\":\"Mean reward over all runs\"},\"height\":450,\"width\":750},                        {\"displayModeBar\": false, \"responsive\": true}                    ).then(function(){\n",
              "                            \n",
              "var gd = document.getElementById('15084d85-3308-4724-8139-7dcc01610472');\n",
              "var x = new MutationObserver(function (mutations, observer) {{\n",
              "        var display = window.getComputedStyle(gd).display;\n",
              "        if (!display || display === 'none') {{\n",
              "            console.log([gd, 'removed!']);\n",
              "            Plotly.purge(gd);\n",
              "            observer.disconnect();\n",
              "        }}\n",
              "}});\n",
              "\n",
              "// Listen for the removal of the full notebook cells\n",
              "var notebookContainer = gd.closest('#notebook-container');\n",
              "if (notebookContainer) {{\n",
              "    x.observe(notebookContainer, {childList: true});\n",
              "}}\n",
              "\n",
              "// Listen for the clearing of the current output cell\n",
              "var outputEl = gd.closest('.output');\n",
              "if (outputEl) {{\n",
              "    x.observe(outputEl, {childList: true});\n",
              "}}\n",
              "\n",
              "                        })                };                            </script>        </div>\n",
              "</body>\n",
              "</html>"
            ]
          },
          "metadata": {}
        }
      ],
      "source": [
        "class RewardAveraging(Agent):\n",
        "    def __init__(self, num_arms: int, seed: int, epsilon: float, optimism: float):\n",
        "        self.epsilon = epsilon\n",
        "        self.optimism = optimism\n",
        "        super().__init__(num_arms, seed)\n",
        "        self.q = [self.optimism]*self.num_arms\n",
        "        self.num_hits = [0]*self.num_arms\n",
        "\n",
        "    def get_action(self):\n",
        "        if np.random.random() < self.epsilon:\n",
        "          return np.random.choice(self.num_arms)\n",
        "        return np.argmax(self.q)\n",
        "\n",
        "    def observe(self, action, reward, info):\n",
        "        self.num_hits[action] += 1\n",
        "        self.q[action] = self.q[action] + 1/self.num_hits[action]*(reward - self.q[action])\n",
        "\n",
        "    def reset(self, seed: int):\n",
        "        super().reset(seed)\n",
        "        self.q = [self.optimism]*self.num_arms\n",
        "        self.num_hits = [0]*self.num_arms\n",
        "\n",
        "    def __repr__(self):\n",
        "        # For the legend, when plotting\n",
        "        return f\"RewardAveraging(eps={self.epsilon}, optimism={self.optimism})\"\n",
        "\n",
        "\n",
        "num_arms = 10\n",
        "stationary = True\n",
        "names = []\n",
        "all_rewards = []\n",
        "env = gym.make(\"ArmedBanditTestbed-v0\", num_arms=num_arms, stationary=stationary)\n",
        "\n",
        "for optimism in [0, 5]:\n",
        "    agent = RewardAveraging(num_arms, 0, epsilon=0.01, optimism=optimism)\n",
        "    (rewards, num_correct) = run_agent(env, agent, n_runs=N_RUNS, base_seed=1)\n",
        "    all_rewards.append(rewards)\n",
        "    names.append(str(agent))\n",
        "    print(agent)\n",
        "    print(f\" -> Frequency of correct arm: {num_correct.mean():.4f}\")\n",
        "    print(f\" -> Average reward: {rewards.mean():.4f}\")\n",
        "\n",
        "utils.plot_rewards(all_rewards, names, moving_avg_window=15)"
      ]
    },
    {
      "cell_type": "markdown",
      "metadata": {
        "id": "UWzxi47b-1Dn"
      },
      "source": [
        "<details>\n",
        "<summary>Question - can you interpret these results?</summary>\n",
        "\n",
        "At the very start, the more optimistic agent performs worse, because it explores more and exploits less (here you will see it at the very beginning if you zoom in). Its estimates are wildly over-optimistic, so even if it finds a good arm, its Q-value for that arm will decrease. On the other hand, if the realistic agent finds a good arm early on, it'll probably return to exploit it.\n",
        "\n",
        "However, the optimistic agent eventually outperforms the realistic agent, because its increased exploration means it's more likely to converge on the best arm.\n",
        "</details>\n",
        "\n",
        "<details>\n",
        "<summary>Question - how do you think these results would change if epsilon was decreased for both agents?</summary>\n",
        "\n",
        "You should expect the optimistic agent to outperform the realistic agent even more. The smaller epsilon is, the more necessary optimism is (because without it the agent won't explore enough).\n",
        "</details>\n",
        "\n",
        "\n",
        "<details><summary>Solution</summary>\n",
        "\n",
        "```python\n",
        "class RewardAveraging(Agent):\n",
        "    def __init__(self, num_arms: int, seed: int, epsilon: float, optimism: float):\n",
        "        self.epsilon = epsilon\n",
        "        self.optimism = optimism\n",
        "        super().__init__(num_arms, seed)\n",
        "\n",
        "    def get_action(self):\n",
        "        if self.rng.random() < self.epsilon:\n",
        "            return self.rng.integers(low=0, high=self.num_arms).item()\n",
        "        else:\n",
        "            return np.argmax(self.Q)\n",
        "\n",
        "    def observe(self, action, reward, info):\n",
        "        self.N[action] += 1\n",
        "        self.Q[action] += (reward - self.Q[action]) / self.N[action]\n",
        "\n",
        "    def reset(self, seed: int):\n",
        "        super().reset(seed)\n",
        "        self.N = np.zeros(self.num_arms)\n",
        "        self.Q = np.full(self.num_arms, self.optimism, dtype=float)\n",
        "\n",
        "    def __repr__(self):\n",
        "        # For the legend, when plotting\n",
        "        return f\"RewardAveraging(eps={self.epsilon}, optimism={self.optimism})\"\n",
        "```\n",
        "</details>"
      ]
    },
    {
      "cell_type": "markdown",
      "metadata": {
        "id": "6hQjF33n-1Dn"
      },
      "source": [
        "### Exercise - implement cheater agent\n",
        "\n",
        "> ```yaml\n",
        "> Difficulty: 🔴🔴⚪⚪⚪\n",
        "> Importance: 🔵🔵🔵⚪⚪\n",
        ">\n",
        "> You should spend up to 5-15 minutes on this exercise.\n",
        "> It's important for you to understand why cheater agents are important for debugging.\n",
        "> ```\n",
        "\n",
        "The cheater agent will always choose the best arm. It's a good idea to implement, because you can compare your other agents to it to make sure they're not doing better than the cheater (if they are, you probably have a bug!).\n",
        "\n",
        "You should fill in the methods `get_action` and `observe` below. The cheater agent will always choose the best arm available to it (remember that the best arm is stored in the `info` dictionary of each observation - see the `step` method in the `MultiArmedBandit` class)."
      ]
    },
    {
      "cell_type": "code",
      "execution_count": 14,
      "metadata": {
        "colab": {
          "base_uri": "https://localhost:8080/",
          "height": 536
        },
        "id": "eGAKJHpB-1Do",
        "outputId": "4cb48ea9-8655-48b6-fd14-94e748ebef22"
      },
      "outputs": [
        {
          "output_type": "stream",
          "name": "stderr",
          "text": [
            "100%|██████████| 200/200 [00:00<00:00, 312.71it/s]\n",
            "100%|██████████| 200/200 [00:03<00:00, 61.78it/s]\n",
            "100%|██████████| 200/200 [00:03<00:00, 50.47it/s]\n"
          ]
        },
        {
          "output_type": "display_data",
          "data": {
            "text/html": [
              "<html>\n",
              "<head><meta charset=\"utf-8\" /></head>\n",
              "<body>\n",
              "    <div>            <script src=\"https://cdnjs.cloudflare.com/ajax/libs/mathjax/2.7.5/MathJax.js?config=TeX-AMS-MML_SVG\"></script><script type=\"text/javascript\">if (window.MathJax && window.MathJax.Hub && window.MathJax.Hub.Config) {window.MathJax.Hub.Config({SVG: {font: \"STIX-Web\"}});}</script>                <script type=\"text/javascript\">window.PlotlyConfig = {MathJaxConfig: 'local'};</script>\n",
              "        <script charset=\"utf-8\" src=\"https://cdn.plot.ly/plotly-2.35.2.min.js\"></script>                <div id=\"de91c55c-fc06-42e7-ac37-cd584f542eca\" class=\"plotly-graph-div\" style=\"height:450px; width:750px;\"></div>            <script type=\"text/javascript\">                                    window.PLOTLYENV=window.PLOTLYENV || {};                                    if (document.getElementById(\"de91c55c-fc06-42e7-ac37-cd584f542eca\")) {                    Plotly.newPlot(                        \"de91c55c-fc06-42e7-ac37-cd584f542eca\",                        [{\"mode\":\"lines\",\"name\":\"Cheater\",\"y\":[1.48430664354447,1.6031731168107308,1.586067116259427,1.5791920523359144,1.580962279377163,1.5865026368187896,1.5884766676671964,1.5907087970578024,1.578565847450274,1.5766865568986568,1.563976135040125,1.5677980082348832,1.5586547375269362,1.5705960051449008,1.5730138493338297,1.5678395401492937,1.5810772988719919,1.5930096439624655,1.586492492164733,1.5833659509762275,1.583817054042154,1.576281148760726,1.5740502307765283,1.5799718597457248,1.5799734093979017,1.5962527728604963,1.5948841704594197,1.61669415827941,1.6158782158778147,1.6127956044472795,1.6248811432322308,1.6108642387342063,1.6044367441114151,1.6157824171399113,1.625598650234315,1.6159007427310437,1.6195066622067154,1.626541348503676,1.6212945853756768,1.6181104655113998,1.607486145873502,1.6061121244722414,1.5869642687849876,1.5903278357918376,1.5975939506126668,1.5874317174617867,1.5939111188133361,1.5990004622772014,1.588182850640348,1.5785939296572205,1.5832249844108504,1.590186332491722,1.5846184024273091,1.601005575464319,1.6166287673401825,1.6167129570395133,1.6200431781779598,1.6215975851245967,1.6198236313611658,1.605844430063549,1.615666798544793,1.6092996472916554,1.6105189292009356,1.617007868350341,1.6142076529168226,1.6148330125530663,1.6028328012456663,1.5925393423424272,1.5796400581930699,1.5673273048216023,1.570083997909152,1.576988872363259,1.5797614834254516,1.566078605558668,1.57391159934371,1.566519580291928,1.5701752691495272,1.561623623552731,1.5662173277081688,1.5678027090734077,1.561051511604118,1.5689606300703824,1.5827080315126827,1.5892114282305594,1.5956919419937472,1.5933305746254784,1.5791101992771113,1.5757542820657326,1.5804876173151967,1.5775437863210395,1.5727268278799877,1.5718213004841894,1.566698923125792,1.5620071322928235,1.56285305516642,1.5664458076187202,1.566875055275536,1.5612753177886607,1.5587587816785988,1.5498478936855482,1.5535673279681779,1.5583998742758884,1.5625295978961902,1.5622058579301514,1.5618968618425053,1.5668437341056156,1.5689048566659891,1.5799866718863125,1.578494151951287,1.584915422352331,1.5863089474260468,1.5932648960159668,1.595404011487102,1.587229682963571,1.60164040209843,1.60228196970232,1.6030220926682888,1.609219191388242,1.609170773386478,1.6043199155450945,1.6076182714406628,1.6157535881402965,1.6116079436420876,1.6205983865647569,1.6174004067691252,1.6306230709954965,1.6288994831388928,1.6296450694345745,1.6341311668654555,1.6291060701038438,1.6316107904035297,1.636524765341064,1.6428297536474608,1.645823792892666,1.6482197097842857,1.6513079712842038,1.6369943872659956,1.6446167460784087,1.6373422992524014,1.6400190427917267,1.6343491647664166,1.6227231431825582,1.6195857983298443,1.6255661916890385,1.6171941704432224,1.6065814491474764,1.5958001332794027,1.5900679038149121,1.5830161083714755,1.5859832193934418,1.5831987524987274,1.5859145381988506,1.588737451671195,1.5912419849352413,1.5901800649193016,1.5758650945133164,1.5810300986765318,1.5869341570706108,1.5760361517091668,1.580404434574757,1.5890029079919317,1.5918112208483117,1.5815297915137725,1.5899349647454148,1.589135410056584,1.592531040082963,1.5867270555446302,1.5721427826761176,1.5745652100835628,1.578604286603589,1.5861676413377608,1.5912277983960241,1.585299654619799,1.5913401512617649,1.5988228923711745,1.5854891579272552,1.584511755957188,1.5966686951548694,1.5931602157426292,1.6047671799414427,1.6002324070509795,1.6148582164508336,1.6132974886671454,1.6090118735694394,1.6065779221082457,1.6067257064103047,1.6045525314736173,1.6111485287875362,1.6165130786623536,1.6126657806189921,1.629245671893716,1.631356513346255,1.618946007269479,1.6205585622870482,1.6068649019263412,1.603509203425305,1.5893935233751335,1.5898719227192335,1.5912530827482139,1.583664507301133,1.5809630668015606,1.574309822894793,1.5714009878221342,1.5647723007258947,1.5526549275965331,1.5562494936653024,1.5598322273645484,1.571091712396128,1.5733225006795768,1.5831539685764673,1.5911976381523611,1.5989426160495328,1.601973738107726,1.6077271272288498,1.601655075955898,1.612587036661019,1.6179267048063746,1.622560937448308,1.6301827191509537,1.6380032230122046,1.6258769904899357,1.6259480237735109,1.6209939915719436,1.628546843159874,1.625630933774384,1.6211209708705534,1.6171089992428733,1.6170250216944206,1.6107931244906089,1.6236690843865669,1.6129097762517821,1.6201364917101273,1.6275376522200342,1.628450384775033,1.633597144933579,1.6242091852822265,1.6172713752923642,1.6182960029896094,1.6076754081968716,1.606309452130726,1.6023188658626206,1.6129607375797832,1.6136511688117934,1.6191780918254797,1.6203349561662397,1.618195671518754,1.614630168916627,1.611976447638195,1.6008881959976862,1.601078424405815,1.6108527766952307,1.6123341378946483,1.6111374472283273,1.614373173469672,1.617669604884994,1.6254960116942963,1.6065696343589744,1.6088110272325329,1.612304355753046,1.6128644455510084,1.625406186856003,1.6295002184313527,1.6177922454238152,1.6242522030250712,1.617621554951567,1.6087043250912225,1.6148335705999557,1.6129297662637139,1.6139266224313018,1.6070792029448777,1.6026391345032645,1.6085347362816529,1.6082431386579628,1.606303693742196,1.5997928601650528,1.588236200066884,1.5771256109375031,1.5828083692859802,1.5806829127562347,1.5911924521224932,1.601023055273591,1.5959517142951767,1.5926225675143542,1.5833906862033662,1.575481081472852,1.5713084299905518,1.578504887170258,1.5793069678834892,1.5733472724835906,1.582345279506213,1.5853420495371855,1.595017907506057,1.5770618774117982,1.5798168282881306,1.5805527423001005,1.5777177510589468,1.5774326675884291,1.5903922999182176,1.5947615398756398,1.60738362872479,1.6131105500263287,1.6137952099706505,1.6153594137426732,1.6100070194405285,1.5982181022398587,1.6065713425646322,1.6057193311075972,1.6227723481159917,1.6122447438821192,1.598457120417106,1.6090022191364104,1.6157822194817073,1.6127980466073912,1.6227198906658828,1.6250304074376838,1.6231802479597528,1.6233414638873076,1.6242635833980141,1.6298351625085579,1.636201272987868,1.6240040384941836,1.6298798345756345,1.6226139059656892,1.6271157785532675,1.6272710090734488,1.6195047529266882,1.6103367975938074,1.6077900070347444,1.603481481880984,1.6013784394674682,1.6072636212913418,1.6022464514465733,1.6082811662463579,1.60328021420684,1.5986588599559355,1.608478127931888,1.603470149485535,1.6138575997334177,1.616722807192726,1.6166124299347606,1.6202457937164505,1.618551634227371,1.6166995629766385,1.622330402914478,1.6171616415050645,1.6076436764030102,1.6073210011213632,1.6010791042784907,1.6046108623110664,1.6147943035517605,1.6071431689871285,1.602763141940568,1.6106742141556576,1.6000800396352437,1.6039183676229414,1.610636343416248,1.6165741563750922,1.615717895184927,1.6108754087352812,1.6153180830262348,1.6255718673844664,1.624505906721159,1.6227396395534925,1.6191606622904753,1.6086485247856672,1.6133099284718961,1.6048644730600017,1.5970174209841388,1.6157051134065115,1.617964308505202,1.6039458856584663,1.6030683991151895,1.6035246730032364,1.5986339011868647,1.5997724344787456,1.5943748908326825,1.5879762492311784,1.5885463358811118,1.590236443999667,1.5977372704538917,1.6021985272194115,1.6046216495978343,1.6060296817058997,1.5998296733556798,1.5977087350267387,1.602707033553088,1.6053279317792506,1.6109522328569028,1.60648209518882,1.604667522529591,1.5969455854104277,1.5951290138450456,1.5973971745488293,1.5994671717612619,1.5984680281944974,1.5942895777169421,1.6026163794435433,1.5943203835879407,1.5969497631755682,1.5971280547088402,1.5979188467489773,1.5881218817101777,1.5860801350343006,1.5932896178299492,1.588493416538457,1.598118428147192,1.6014512704531172,1.6048941923753242,1.6062559315390217,1.6042767037590617,1.6061369593297286,1.6070476384698245,1.602572729865877,1.5965621075415433,1.6074265722625418,1.6092923247116233,1.6108709525477782,1.6057426576521796,1.6016859687614822,1.6020508172667556,1.6028611854737391,1.6060285985270033,1.5974969150792806,1.6025223269326412,1.6043699476628868,1.6034270724757562,1.5959503057501023,1.6027719897540995,1.6109319948555367,1.5921374601330172,1.5847763175934915,1.5902872787303144,1.5970876105961906,1.5923083321370237,1.5946599966232118,1.5984259667472012,1.599595609238592,1.6001982415129987,1.6029551000461348,1.5978883174489436,1.5970569507188277,1.6021335963141914,1.600258045175959,1.5874664696228062,1.593203219036847,1.5916304102944878,1.5911089695124019,1.5804580284911025,1.5896379954537603,1.5895831536730232,1.5805526910420666,1.5891278631467989,1.587265580776807,1.5696472933340146,1.5737690165346672,1.5774896396618336,1.5760509319120577,1.579315224052895,1.5888352890980741,1.5951650929584427,1.601083920349894,1.6075047010139694,1.6168120385571,1.623349842216832,1.6255770065406143,1.6349933901014007,1.6343764774385818,1.6466793212994995,1.6565569187033133,1.6490920709430534,1.64213365285093,1.6294833966989093,1.6313805344498102,1.6292713798409977,1.6223369692275205,1.6196112754483996,1.6248540965369558,1.6203391960762852,1.6132205710154266,1.6175601687253902,1.6076269019382303,1.5944293872979112,1.5896522472945966,1.5893133958595476,1.6004072736958885,1.5987947453609574,1.6085569843756276,1.6005088401267433,1.6001225299499842,1.6055808536337433,1.619819855280419,1.6114798740256597,1.6175709575087618,1.6105430612193308,1.6076764627813798,1.6108252088524446,1.6146444945375833,1.6103052534798128,1.6092056445421576,1.6020066366391574,1.6016375116908192,1.6016085511051188,1.609079397294416,1.602418263149381,1.6000184583220516,1.5963598937964663,1.5961132305595507,1.5904350647036987,1.5924232428271807,1.5975559957934289,1.5929025205187828,1.5907931785589502,1.5917115666738861,1.595697489852561,1.6003307131079283,1.5977514440002096,1.6039748225781372,1.6002188052342186,1.6115746176773427,1.6138973443230422,1.610565268333221,1.6083425848473325,1.6124775999081369,1.622218678411241,1.6214261813715212,1.620978113108375,1.6183687538911196,1.6215594095801635,1.6188700848837092,1.6195491694299942,1.6384408551759029,1.6276943283060594,1.6292342189858497,1.6207017503722077,1.615812462144489,1.611598550724769,1.616587556798519,1.615839088826495,1.5984652679835032,1.5925680443235932,1.605112246066915,1.612265288090157,1.6155517217247886,1.6200690340453698,1.6123382674591766,1.6028685481028637,1.6062084361965845,1.5936734637851335,1.5975729970376127,1.5958831059926069,1.6027819325051647,1.5949482134169861,1.5874034140521038,1.6062550368295585,1.609223695226577,1.5999450615451603,1.6075291258039064,1.6096746231275423,1.604693961844411,1.5994133646827853,1.602103276736701,1.6081267715931895,1.62041558634722,1.624352401088178,1.6294642894254443,1.62167136170364,1.6189570533141553,1.6228762619473855,1.619812323973118,1.6045833333248918,1.6136834941294487,1.6070059166563244,1.5961744887107898,1.5929781303611283,1.6065137492772767,1.6016316381327669,1.599339930915024,1.6012735174060178,1.5919612071845526,1.5957691171764812,1.5970126934151192,1.5987349555521329,1.6016294429398612,1.5961193505755848,1.6126254350276819,1.5998082085024103,1.6065556945920434,1.6111932666742026,1.6053900795171028,1.6031024453469096,1.6043461835651973,1.606272911894113,1.6058701236111195,1.6109209370391833,1.6075061568872873,1.6057946724900376,1.6012446687747495,1.5996505331381665,1.6022959492660902,1.5983937981495424,1.6003472981688296,1.593428196699915,1.5924749306981842,1.6039995473159023,1.6037648113355394,1.6003847683896537,1.606247368049541,1.6103942638731799,1.6100823013244963,1.607648419521585,1.6089124013402019,1.6182876015173406,1.6147382335661633,1.615505160928918,1.6198809620234291,1.6218251686624172,1.6288397227738414,1.6251972347981716,1.620719253506445,1.6272618583538057,1.6251657058394358,1.6222195327404658,1.6118443960743283,1.6116641653738497,1.617465225856904,1.621023490262769,1.6182676707458767,1.6225020000042074,1.6109079344178174,1.6039999985180278,1.6118600259031912,1.5979477541773879,1.6042577326284269,1.6026568545681963,1.6002966070552929,1.6096048385452908,1.6042105678664333,1.6067216469390586,1.6121853979646705,1.612014552591078,1.6124470778974076,1.6125506808943253,1.610886278874159,1.622723415597587,1.6313271219859113,1.6267501719493338,1.6360136087492265,1.6314207090028352,1.6391080442471926,1.6333527757598252,1.6214172231245962,1.6265832340634765,1.631307935412921,1.623836717382225,1.6124974405199586,1.6111221663444666,1.619712562586589,1.6125040706189642,1.613362708376432,1.6080144397699163,1.5992031410869307,1.6041849709030582,1.6072931431048951,1.6105566567566407,1.6105791544159729,1.618684717999031,1.6185368003188312,1.6089164616598888,1.6102430464592241,1.6255460292619925,1.6232758088328108,1.6115161084771443,1.6189618835587225,1.6144653898462669,1.6237029751500813,1.6195006517708104,1.609236561219162,1.60213059027213,1.6028255155601225,1.6084178861552119,1.6048442751085834,1.6117866524562032,1.6219042848603293,1.6319599982642103,1.6259967814094276,1.6418590117294873,1.6410357438751058,1.641792068648086,1.6490134139538744,1.6423169553723862,1.661892069303197,1.6639105403621215,1.6589067242871351,1.6527921235068486,1.6395976255852929,1.64194194107619,1.6230398087915394,1.6232204768506562,1.624966447023841,1.6205611062215364,1.605054785541491,1.6098552043622476,1.6119729384619859,1.6014104396188789,1.6014506705237637,1.5955463211278886,1.5964206765876952,1.601938148670024,1.6045194459827294,1.6143429663623465,1.6166957432109788,1.618366801550883,1.6147140745645325,1.590915024929988,1.5992589385186269,1.5983134873813014,1.5982614368529235,1.5932293340380663,1.598328484581619,1.589098482335127,1.5787831364634712,1.5785745041529935,1.5851386997952734,1.5801124945225637,1.5686103783101317,1.5622850353091962,1.5634149278695078,1.5688792955155957,1.5863839838195115,1.5753740632579594,1.5718537543513624,1.5687600345885888,1.5729654675980025,1.5743790630868717,1.5811433932855683,1.5909524830366688,1.5954343433866294,1.5986326367179269,1.601014359613085,1.6170691865215001,1.6241725723272187,1.63291324384345,1.6296101642441803,1.628628443727454,1.6278987354193002,1.6298173375132592,1.6330980407526567,1.6303885873868693,1.6286314642417286,1.629268488896499,1.6220830928687822,1.6180760012796933,1.6092808793171267,1.6054985860507258,1.6040661197685797,1.600659363785735,1.6013675864013446,1.602474395578747,1.6011053468632175,1.6073313820704698,1.6126751673203974,1.607551131661512,1.6129010920285054,1.6098502769682,1.6064968541566942,1.6030928010684269,1.5912114873800116,1.5929167140729683,1.594833745958931,1.589444296762061,1.5881920262721148,1.5796398862601413,1.5822061952595807,1.580506297251956,1.576388328338256,1.572424533174899,1.5785633415552183,1.5778643578713551,1.582834718946909,1.5839051556603105,1.5924121711058281,1.6041127078726125,1.6042765098608622,1.6042633878460342,1.6085908561394717,1.6093999286492362,1.6116692641869728,1.6069614430578136,1.610749799536158,1.6204214815470246,1.6199383155927989,1.6203604207551356,1.6112257009016957,1.599743776557913,1.6004187751322811,1.6028369435365828,1.6057965068588298,1.6100357508833136,1.6078568646620017,1.6135683728307413,1.61029582399586,1.6175920688077592,1.6254548059456737,1.6302369030027422,1.6322305796555763,1.6383695783651244,1.6425890898991686,1.6494000459521128,1.6632061462427978,1.6679879249490872,1.6670014802359674,1.664921568191979,1.6685582390382478,1.6803031288523167,1.6654588382014481,1.6707341961704818,1.672676954353498,1.6626678172199718,1.6550881624549978,1.6431200696165282,1.633436337205103,1.6349705975129079,1.632445370668999,1.6363818661285374,1.6311508457933541,1.636356259244591,1.6371401699065244,1.6315784080509275,1.6197640175195223,1.624616985182714,1.6226916401469529,1.6156681298143971,1.6191001040633182,1.6205568840761468,1.6299604873852027,1.6364539991893556,1.6313520043045628,1.6308982967553978,1.6230738659015362,1.6133832761947966,1.6013541511891012,1.6054846563697538,1.6125715163377512,1.6111397775537475,1.6179512540144667,1.6138248279132463,1.6141718130766094,1.6088095004615752,1.6117833138701674,1.6043349423780606,1.605558825129477,1.6100392442893432,1.621300452906083,1.6189396562804177,1.6199604239332832,1.6190855548326606,1.6128644333881008,1.6010826562322715,1.6016901670013795,1.598011779444808,1.60118922229852,1.5990286352150784,1.5990851507924768,1.5933872159827691,1.5996349966315848,1.60193769360723,1.5882130487992374,1.5774529232021754,1.5663987535341979,1.5864617758362176,1.601018088626961,1.594708109591511,1.594863772467473,1.5881583094846823,1.5887892375151296,1.591647232601569,1.5939270577378617,1.5978636294106916,1.609816340298903,1.6031835311327995,1.6027575003257273,1.6030674508507825,1.6051818719080984,1.609956465992415,1.6030115106604323,1.5896342808550494,1.6083659834826751,1.6075529149249632,1.6215214753313982,1.6172569447213845,1.6153582945638845,1.6167321457545314,1.619160920902444,1.609864654053581,1.6011562784526632,1.5941452226914103,1.595341158742076,1.5900122495317797,1.5955731027051419,1.5842344881015682,1.5925349769350305,1.5745158725246104,1.5874436670420438,1.5850558322475536,1.5807122118792145,1.5851750728634064,1.5849964986138427,1.5813427129475257,1.5804074279506797,1.5884704706186008,1.5864437407132603,1.5904692304999268,1.5971678124160462,1.6034302393371036,1.6178209225889684,1.6105137177326165,1.6125794216285916,1.6058901840161222,1.6082238356140048,1.617712045028611,1.6110239879729458,1.6110177240551367,1.5984828892864396,1.5887176556937297,1.5943193794371988,1.5966808749423156,1.5998225555738828,1.5975717769258002,1.5923581625166814,1.5869899173844866,1.5929514076970919,1.5976332036323735,1.6059354861999813,1.5966807209457936,1.5961670938563506,1.5945345008039717,1.5925994338075877,1.6084054474865752,1.6207148776890334,1.6146212588542919,1.6138198158926116,1.6189228799650057,1.6228060890907727,1.6214180271028908,1.6307422840202586,1.6267715292590765,1.6213767132159471,1.6080890781559296,1.6168515703733495,1.6156175040021632,1.6133068377053406,1.6096833947496483,1.6109522761924078,1.6078241850536565,1.6133851697439392,1.6155906248462846,1.621378789750194,1.6170510978546644,1.6205597847950381,1.6099805939009153,1.6067487428840954,1.6051364133308652,1.6044020258650107,1.5999242904732456,1.598507502180731,1.5999179628821518,1.6047285136628033,1.6003133168174373,1.5987545540608457,1.6021029855400835,1.6044589644136522,1.5973741086435136,1.6042866139683307,1.6043319813024632,1.5955030983909941,1.6006166488405598,1.5996519230476527,1.607571861081078,1.6140673182427843,1.6128266110533787,1.6199650151007519,1.606212482939039,1.602519611541887,1.6133873319712166,1.603389951658149,1.5988765979198434],\"type\":\"scatter\"},{\"mode\":\"lines\",\"name\":\"RewardAveraging\\u003cbr\\u003e  │eps=0.1\\u003cbr\\u003e  │optimism=0\",\"y\":[0.5964591969510898,0.6639852909871176,0.6930076950461878,0.721747788725874,0.7593413722006598,0.790153840479697,0.8158733491939997,0.8366084048848247,0.8448570199467123,0.8536363479953356,0.860322769995302,0.8741976387681851,0.8730926155964767,0.8979382931114663,0.9106499766543708,0.915034710408019,0.9362969137434141,0.9524643589400433,0.9551392559864932,0.9607784618506091,0.9696861519565101,0.9665145814615204,0.9642888171023336,0.9722331368267189,0.9790347449156798,0.995977875447345,1.0065048984563851,1.0287219601941415,1.0349402260898977,1.038933705062532,1.0560239099529503,1.0474344061758836,1.0447282457039295,1.060936015084318,1.069999348552519,1.0615447927128256,1.0717548445144938,1.084838430978696,1.0821514707830457,1.084478245172041,1.082770738894223,1.0804981215464768,1.071138765851371,1.072633141116675,1.081973996565485,1.0774812073533473,1.0868503592761238,1.0933976274165176,1.084341982471528,1.0783052371356214,1.0852039967394347,1.0911741985961523,1.0896115725374442,1.1052390884162966,1.1247387132448046,1.1275647334309937,1.1305401823289443,1.1390117420690908,1.1457328663257054,1.1366430734653472,1.1493635741364903,1.150614184535039,1.161083225848744,1.1709358344138867,1.1751311028398035,1.1815484975936963,1.1740631099816028,1.170316831551294,1.1691371072048549,1.159296566351305,1.163867887473929,1.1835842060844328,1.186223206243191,1.1753850543563507,1.1822968397713132,1.1743053816206317,1.175511291097314,1.1715543560834893,1.1810885930981547,1.183772756740286,1.178369607813793,1.1878729444375513,1.2037311568169182,1.2043129420838312,1.21086597253343,1.2075467058095115,1.1927329622762604,1.188400064345809,1.1961924024035067,1.1938890184462678,1.185045158334386,1.1879468527985124,1.1789328274496824,1.1764785062420713,1.1778801714023264,1.1820311077661045,1.1879055168852717,1.1818817612033485,1.1865409670956126,1.1757740088670905,1.1820223117174247,1.1902322855044019,1.1977183569198682,1.1953350039598272,1.2012830248480886,1.2151948627336906,1.2165204784183392,1.2280401836549326,1.2288023719041965,1.231615966429203,1.2344868288716546,1.2411102472245592,1.247593443226317,1.246187461522451,1.269177424554107,1.2770042701347866,1.2803681646624077,1.2880815969596238,1.293543727784215,1.2888662827485518,1.2953139758785794,1.3021826016119935,1.3013022647993486,1.3090588391778908,1.314046695883163,1.3350388887245306,1.3381046075196688,1.3419888752391254,1.346546375080923,1.3475719051112758,1.3502448103864007,1.3521510944029747,1.3604510118657231,1.367395320653507,1.372278365746477,1.3757671061428085,1.3624952195980824,1.3720374665005144,1.366262505116157,1.3704358930393046,1.360249993037534,1.3450408284086317,1.3354793692620055,1.3418598728194808,1.3283948543855522,1.3170777587617597,1.3102115572367723,1.3054572917372391,1.2974992314739533,1.3026562927801915,1.3004364386172407,1.30623223184737,1.3106720080562866,1.314296482659133,1.3163732353784554,1.303128664466317,1.3108204234189997,1.3247031834327307,1.3112850831565595,1.3111675473781588,1.319484416662982,1.3214317752868852,1.3033307458754506,1.3138219297271196,1.3097159822617357,1.3136659179322332,1.3036277737323283,1.2871869236045712,1.2916846412644134,1.29438798469655,1.3046649839605493,1.311793842164923,1.3073425877140588,1.3142268652128413,1.3208518552896806,1.3057208302691758,1.3009046529436432,1.32223438964805,1.317027058878989,1.326366224005894,1.3202610535648944,1.3433350075395973,1.3410950697552873,1.3347383949305234,1.3328396445683381,1.3311145246633223,1.3258750019569143,1.3295912658422973,1.3354613091422494,1.3388570525221895,1.3620630001730925,1.3678085122364771,1.3547163601468584,1.3542777202937581,1.3424538209444052,1.34036568832607,1.3281814870484216,1.3329843443905096,1.3363701521946003,1.3279987298024782,1.3270534829542213,1.3260712843929146,1.3214973227185094,1.3104824086944462,1.3002805691830759,1.3022199383974509,1.3061347028190728,1.3215598476390331,1.3226316675484877,1.3360611299348837,1.3402326201653447,1.3445903198035922,1.3465884880343444,1.355631723700312,1.3540796475980832,1.3647234680480873,1.372728830744281,1.3776879992417794,1.3856575156385607,1.3916777582427622,1.37968761383792,1.3842105913983838,1.3776745332921185,1.3843380265106249,1.375408088786488,1.369272252914023,1.3608896458563058,1.3546726486514862,1.3440376430760503,1.352589583953833,1.3405670790867286,1.3435648450812665,1.344035394639813,1.3523316932255511,1.3603727544014115,1.3436631271993595,1.3366859205013688,1.3359342708767599,1.3282211594582918,1.333304975066028,1.3352290094461372,1.3506015515656942,1.35307824342212,1.3572203433729746,1.3557805951448132,1.3543046962196323,1.348509432632443,1.3521242584445115,1.3368090098671928,1.3335319415592533,1.3466868650939887,1.3420493446235355,1.340223372509009,1.338205281552727,1.3392895133237137,1.346082331303929,1.3244239921296563,1.3329950092762715,1.3375720390596864,1.3429251667270212,1.3558656977915575,1.3612583553015951,1.3538459844872819,1.36353772542584,1.3556501443897977,1.3529139665444214,1.3655857404845277,1.364942792186461,1.375556253304353,1.3727710295721485,1.3743686770395924,1.3819373399813382,1.382896879507397,1.3820679581135815,1.3751209813694762,1.3648523437776627,1.3547148152930504,1.360079469161413,1.3588189272267641,1.3689706840918765,1.3798771591273369,1.3761483227396374,1.3700129410916362,1.361626674193019,1.3564202732383441,1.3451898158593925,1.35636584405421,1.3563195698669082,1.352136228211763,1.3529881211240915,1.361010185044385,1.3745795688160494,1.3587259320083112,1.3586780579393158,1.3649452249667207,1.360921481586081,1.3600571788459812,1.3748559091301824,1.374597838971863,1.3853597392599188,1.3936670080739835,1.392728102486554,1.3960986250174605,1.3920445671232984,1.3910850648233426,1.396212466849795,1.3926012287376504,1.409085049095726,1.4006885326002665,1.388410156344556,1.4021614067482042,1.4096978904094308,1.4070205806885647,1.4215723316461777,1.4226253566684857,1.4258293544897014,1.425745232034611,1.426515898393355,1.4297955719455406,1.4362072273007167,1.4223188604692913,1.4285263937801385,1.4228735978285083,1.429099985249949,1.4246625560166042,1.4133629209394334,1.4021385515333955,1.4013161183599663,1.3966804265544435,1.4000336301156153,1.4037270998912126,1.4011930153255132,1.4058845381743745,1.4083640586172463,1.4069618534175448,1.41946745116353,1.4166988898633273,1.4279603613928507,1.431035500595912,1.433730737071744,1.4401634416996407,1.4403026855419208,1.4423100149929005,1.4456215731561808,1.4367876450885737,1.4267266703807915,1.4220706952221462,1.4144774333274388,1.4089144077804234,1.4137525949689878,1.402759785602632,1.3963989489545459,1.4002168541236073,1.394106218711132,1.3968646220822356,1.401741636220595,1.406162903759836,1.3968392731321502,1.3961987484129017,1.3994567092061934,1.4065853649655993,1.4057382674951782,1.4098262371597607,1.4077811362921162,1.3989583276711908,1.4084842400450233,1.3999098575114848,1.3888503062778872,1.4006414817133266,1.4003276028746123,1.3848198108624463,1.3815675103444354,1.3859113028811596,1.373839409605076,1.3770338579426076,1.3748026278356102,1.3737928718762722,1.3739518847107282,1.3774754874120996,1.3807916049770446,1.3798236261130001,1.378404625235934,1.384755407307667,1.3815587620174332,1.3814509782730398,1.3883847232664683,1.394387900594063,1.4027213737939557,1.4005265817802448,1.393438203279417,1.3871176635125722,1.3809930964447024,1.3804384766608715,1.3809600678123046,1.383506557006289,1.3826267358377398,1.396619745947252,1.3834342306787866,1.3850748189163065,1.3880694799914446,1.3887616375589422,1.3766278639723926,1.3761678086763671,1.3855898590030316,1.3837954875456262,1.3899138469739531,1.3948169977672251,1.401049818139245,1.4051954333401986,1.405070674145342,1.4008731999485386,1.3997438499302006,1.3996604293802042,1.3925399989696492,1.4060453662028976,1.4089557980243625,1.4154959821904944,1.408844241321314,1.4033293296860014,1.4072347265998058,1.4119274303139036,1.4142190191862787,1.4063895182885668,1.4123633774189177,1.411746900378292,1.4216819565848255,1.409309843198374,1.4180154310231652,1.429130290187292,1.406544342968315,1.3923194752860506,1.3985375470483858,1.4028356927150298,1.3968372783932181,1.3974336903238584,1.3982883676022386,1.4025051494193954,1.4012777128486809,1.4064291464547145,1.400470941187488,1.395393842012019,1.40473973713149,1.404039493154596,1.3893337292999226,1.3956890059883487,1.3950165090145978,1.3934375398012055,1.3850884931918168,1.39814687905811,1.3942125715411975,1.3869704093747564,1.3919709419038477,1.3912010193800748,1.3748702715172612,1.38021901472304,1.3779757390821563,1.3803483206652725,1.3815420669006395,1.3931292932000285,1.3991134914143306,1.4089282437088742,1.4142437774321024,1.424084042369077,1.4260388807895577,1.4309008354573356,1.4390981913962226,1.443379947423849,1.4530342731739514,1.4560727520269134,1.4501519157043352,1.4490967152296585,1.4353772372530633,1.4345338648965025,1.4312467693674156,1.4270792114114101,1.422451199662214,1.4224879519385543,1.4182153491592089,1.4115166798893597,1.418562302066774,1.4070952712375933,1.3920365201756946,1.3845425523084183,1.3826047165445212,1.392019468840878,1.3920360458133927,1.3922706783451229,1.388243973745034,1.390572582141355,1.3901164531453105,1.4020096667474415,1.399432489591383,1.4059488305382806,1.4014311484853428,1.3950036663857417,1.402035633859153,1.4028469133262207,1.402614971159725,1.4026255962213554,1.3940027800636623,1.3896886922906713,1.402711292089134,1.412059444187465,1.4001255450968757,1.3961893765317503,1.396248553566367,1.3940699525808138,1.3857349720169017,1.3861982045237482,1.3957062332959216,1.3885527776486242,1.3821107934258634,1.3876158980394544,1.3982823602865968,1.399398872847549,1.3952000323249194,1.4005292881810343,1.3958551511482937,1.4148957142079628,1.4210527747094905,1.417422047391013,1.4150765773121596,1.4194177857468957,1.4329605036081223,1.4284170452534,1.4300101410600594,1.433852793015103,1.4317018325909203,1.4225061122248615,1.428467819479594,1.4503703957688914,1.4397804315058313,1.4418271734533543,1.4264995064940498,1.4230559194664694,1.4199379482513677,1.4299856944117968,1.430097540860326,1.4152744786549798,1.4097766359792028,1.4277055261675817,1.4371154296804434,1.4410392914779777,1.4455040334613463,1.4403302919991272,1.4335336529930829,1.4312279602696283,1.420373829892113,1.421529029855295,1.4223328516778488,1.4271588348495015,1.4118518819171262,1.406065281200055,1.4234319592874953,1.4265781067604848,1.4114458298424704,1.4173762699141055,1.4202545731385803,1.4202877975548442,1.411367971866677,1.415445010644741,1.4212913209671874,1.4229432030705462,1.43052690981746,1.4336980499246237,1.4176716419923803,1.419335576379505,1.4221655337806776,1.4174626557044046,1.3980959610510277,1.4062990599893055,1.4003832130990228,1.3880693552316492,1.3802526627420473,1.3967357635971438,1.390532511104872,1.3919388653033669,1.403384571060595,1.3953745597140446,1.3995685029927927,1.415067415715157,1.4151045458305058,1.4185730050968763,1.4131860327588508,1.434409295067174,1.422071902919697,1.422040253340492,1.4264519771777866,1.4238058766299142,1.4219556229744208,1.4191423003383534,1.4224507964542832,1.4162525502222403,1.423808856268958,1.42230431943514,1.4196845861118013,1.4148495995662036,1.4154430210342526,1.419765475481616,1.4108482431340614,1.4113637671664112,1.4087244634283025,1.409973660418344,1.4196434828307323,1.4178131247022596,1.4155236952014245,1.4176025093601614,1.4291761711987572,1.4283893503871166,1.4253509281844117,1.4247462209546635,1.4351380800564357,1.4273275273460286,1.4288964654165663,1.435564554420883,1.4429305968265378,1.4523129193033886,1.4463242081321672,1.4480555445562004,1.4562728787711952,1.4556922726157078,1.4570144050426355,1.4433066972110888,1.4347123630702072,1.438781035129667,1.4409289733134907,1.43728843902868,1.4427836032577868,1.4244054170023976,1.418320645197438,1.4224725458638963,1.4066320113383957,1.4168005649001771,1.4097888078499485,1.4068032012469227,1.418015935406038,1.4162903958885484,1.4172920529011133,1.4291180554151046,1.4302214399113002,1.43407556739672,1.4358798271130808,1.4356740514089477,1.4520934597163355,1.467848285092767,1.4656825260804303,1.4769205867569402,1.470622765381836,1.479514284532373,1.476173773128941,1.470422326831355,1.4703110453875676,1.476303680831878,1.4692401042017385,1.4583901145674418,1.454679919850249,1.4642948776129514,1.4537475338567978,1.4517918086247998,1.441886497783139,1.4262819626979157,1.4356380718285513,1.4352643303124295,1.4422126508359876,1.4421076361564702,1.4425059436070569,1.4453206833676784,1.4340630716751928,1.4329312341226947,1.4454392064893606,1.4467622185253277,1.4317731663256306,1.4432530643894703,1.4401130351666476,1.452605067291279,1.4560834618639167,1.4432050404238528,1.4385799445892264,1.4381437515975526,1.4381438172034071,1.4393250082101379,1.4432918831288135,1.4502337259980018,1.4630278422050575,1.4571811038066775,1.4726809523586857,1.4718377343672349,1.4711841952867417,1.4750022077589164,1.4674144468062498,1.4876056241070426,1.48916519276598,1.4853793130961852,1.4813758405832687,1.4681925086095968,1.4637611367680847,1.4439328376719458,1.4466637932486492,1.4483976878388907,1.4424201421511953,1.4224282082929676,1.4314002522125595,1.4365967996182765,1.433269039851272,1.4354025354840512,1.4249069740285374,1.4179941267903737,1.4248135573820035,1.4269656794306154,1.4406357434781587,1.446174654412304,1.4459427669426228,1.4414526535939027,1.4178002979952529,1.4300609529462462,1.4303390117780963,1.4281525645588318,1.422903268191226,1.4287860564232764,1.4059060798791885,1.394123712001192,1.3993247074322046,1.4018636026401055,1.3925325517036906,1.3819642184039442,1.3794201305933635,1.3769261352006423,1.3827360244735094,1.4023163408237906,1.393001932673413,1.388435794592927,1.384427771828185,1.3805825718224696,1.3846477889897566,1.4023997980477059,1.413501007113579,1.4173815398899479,1.425502967131547,1.431171040964758,1.4431172741779088,1.4465282431103181,1.4599105773948016,1.4611758438151432,1.4577897148175452,1.4552335797066387,1.4552309666127787,1.455134069373283,1.4618595864131065,1.4524477495973847,1.4479667348064897,1.4441171741529994,1.440573627114774,1.4271002534515824,1.4204917109752462,1.4263719674325632,1.4212159282071979,1.4233165042878757,1.4231575603579132,1.4229628468240358,1.430415184396323,1.4366579760308469,1.4365543064222872,1.4395356700949682,1.436969644982052,1.4383617215868678,1.4368287520709297,1.4269334921995778,1.4281699509956374,1.4321894242836606,1.420918794643118,1.410799212726882,1.4030385503483254,1.400372172277048,1.3973370901907705,1.388712022618362,1.3886794716964082,1.392067535665304,1.3924366248805806,1.4019073400967803,1.401878712207887,1.4037832263167578,1.414439361076605,1.4140900086622423,1.4087757995692602,1.4154473090411406,1.425902927949725,1.4273174060951836,1.4273349738869607,1.4283755575392965,1.440010495612978,1.436713720845637,1.4403196415613517,1.4259114898907985,1.4089503738932156,1.4063453644455726,1.4147029537105027,1.4147190143600104,1.4176523617274597,1.4204194403645336,1.4289591095574452,1.4217575759602066,1.4314129652701468,1.437789428807567,1.446489769055885,1.4481968642964602,1.452119051984558,1.4529474627756371,1.4662100140869976,1.4828985395504484,1.4888158150344377,1.4804562829752135,1.4778021538658777,1.4811146242523137,1.4929874887255816,1.4713743719901686,1.4788160102866337,1.4814172592556134,1.4743249776634002,1.4653422767897004,1.4471785560029276,1.441252761384203,1.4464040229459594,1.439600313446302,1.4433380317892746,1.442529739321541,1.4529717166940677,1.4613356573191898,1.456372988364122,1.4488650175993978,1.4555201339266053,1.452750191918373,1.441771109959715,1.4445349920785702,1.4440578407799118,1.4556938062713924,1.4606292389172268,1.45293105221261,1.45385052316592,1.4461099472675565,1.4309653318588516,1.4150055609457013,1.4130010018544605,1.4228814402890597,1.4150540491665198,1.4251802923024115,1.4228375338276844,1.4246035071638743,1.4109592297892353,1.4185607136124418,1.4153261208673484,1.422034879309058,1.4276320095490065,1.437238367027976,1.4356975398527234,1.4356191820801087,1.4359524701071678,1.430227991239705,1.4190953604337058,1.4191747928136162,1.4121214639833397,1.4146231519695296,1.4126406248453955,1.4198002122832654,1.412643654757024,1.4204785114778133,1.418929272646695,1.4060656676590648,1.3965449694413867,1.3831097917929733,1.4060466723567364,1.42386862703767,1.4217741197624794,1.423047946177697,1.416476802838012,1.4229637633029901,1.429278680814817,1.4296750012767159,1.4330321368659649,1.4445193472997744,1.4409556677430373,1.4402956364524166,1.4362143581521498,1.4365715169700706,1.4445969741674616,1.4379299601820548,1.4253761946911558,1.4409421284189647,1.4366704481371015,1.4508708620482897,1.4452913274155585,1.4405733203897397,1.4422950290624916,1.4439053821739283,1.4323307989114407,1.4172151058930165,1.4093843316444843,1.415575316720727,1.4109655949266502,1.4120218072603317,1.4057204811243385,1.4127796638655885,1.3975488220601315,1.4159591478460547,1.4099238820817694,1.4028516775346815,1.4129567899813689,1.414965399691179,1.414368368503877,1.4158189244379475,1.4271389478810004,1.4251778827191932,1.428332831292937,1.4328163059718917,1.447099287117741,1.4552692476415208,1.4445433617474008,1.4427331699827544,1.4302608818143048,1.4352839009168898,1.4431463227867576,1.4364590646881576,1.4398557691297205,1.4301235007184006,1.4211745141572314,1.4300291399837686,1.4305609802053973,1.431512153346163,1.4317503386236845,1.421159385165735,1.4213805325010374,1.4298652092595452,1.4356611480638246,1.445148951267265,1.436170477597155,1.4297388216386935,1.4248541284525043,1.4213026205398667,1.4334434629095085,1.447601032863804,1.4393271910825358,1.4434191084489156,1.4521034327995344,1.4590106180319404,1.4572537658738687,1.46798276443742,1.46224486439102,1.458252334597349,1.4459581950255749,1.4589797579136605,1.4658743988885363,1.4638352204775704,1.4584256529905208,1.458526177303717,1.448872381402407,1.4560531218214692,1.4536021016000025,1.4619582343274942,1.4538160981164614,1.4588784198119205,1.4476337963244836,1.4460331475117072,1.44441694499842,1.4432600473908224,1.429808912456944,1.4274871282366197,1.4299485532682108,1.438694404368971,1.433496726724646,1.4343991438822135,1.4347289939993515,1.4390002361030534,1.4241443847546331,1.4331293015445226,1.4295974772741677,1.4188511609264272,1.4216518322867766,1.4258063859397831,1.4285647319406658,1.4376726363026895,1.43718508082549,1.4383683645272565,1.4215507009329638,1.4154887251443142,1.4291074886443462,1.418912418705016,1.4182819812497505],\"type\":\"scatter\"},{\"mode\":\"lines\",\"name\":\"RandomAgent\",\"y\":[-0.019766974327998343,-0.010818263066920597,-0.022641582547683572,-0.03202868603370141,-0.04493818695580341,-0.04297067704732142,-0.034607865510752664,-0.024619384318568877,-0.024829970269219324,-0.018798411352263893,-0.03980831026066666,-0.03745396169822038,-0.04513262016122045,-0.03024169937250334,-0.02053744767840723,-0.024090611291021694,-0.009811563627858618,0.00508269459579677,0.0005139179382009621,0.004683194919831017,0.005148174957572685,-0.018062547206004063,-0.017121777917041725,-0.019045273688321217,-0.023036025167428257,-0.004562764599410696,-0.001273259522387371,0.016380992974841205,0.015111101856516033,0.011016954280948595,0.024410644567234723,0.008594407571678724,0.006048483555051062,0.026122027246349242,0.040456323649413664,0.041007458181227245,0.05317976747264525,0.058941022196470474,0.05123934383765142,0.04700701397535974,0.03945556497897935,0.02879864372653944,0.002887608156590608,0.011508276722464428,0.018054562810061472,0.007035018332932741,0.01725866588901954,0.022411864192410876,0.0018000585165639275,-0.005355635983285913,-0.003133332463720581,0.007061855654213903,-0.004059475261351251,0.009359756720232554,0.03440887479348827,0.02619626239457418,0.03292261573663905,0.04039585434724679,0.03450345820286859,0.023442285489504774,0.03335693152903384,0.023180047299705686,0.018553613718992296,0.026990493899344256,0.016436475603924812,0.008308981233097113,-0.008756112940348003,-0.01677400191012366,-0.032980017960200024,-0.05640069147775542,-0.05043901767347377,-0.0336105921643117,-0.024107907816115055,-0.03566607542346228,-0.02641085328095834,-0.04169107201921872,-0.0332949620604502,-0.04334300295550139,-0.031757763377053896,-0.029292726704106195,-0.023529373642918384,-0.016833643164506355,-0.00031273140865308485,0.012703450756770608,0.021620367027471717,0.02163087434051068,0.00822947862844479,-0.000970520312946969,-0.00035244107343281684,-0.008975463323641368,-0.00542649497687806,-0.0064155890730052565,-0.008132517215058688,-0.020910432194824018,-0.022289169478380423,-0.019775769183394055,-0.010317350566748736,-0.021566724953238532,-0.02399086937926844,-0.03517892547926307,-0.031809422523099026,-0.036048440915479166,-0.02639347274798749,-0.02225964366428962,-0.019789331393605367,-0.013201696937038047,-0.017510273830158456,-0.0032683273823609286,-0.011996823357514874,-0.0011976910038117442,-0.0006220962913480621,0.0025618206497676544,0.006220751198351737,-0.008147588643072764,0.007179855025728813,0.01052279588784515,0.014558680981091492,0.018476398882729606,0.01473679146464965,0.0027982842996180663,0.00023958390313922145,0.005440036815533963,0.0006811645520629406,0.01745221008780964,0.00920682257699618,0.015393765018947281,0.004325302049601839,0.006176243807401575,0.017367222230388817,0.017162355637394523,0.011343734421249384,0.01903620981352382,0.02055032719185772,0.0264878003158635,0.03172457763297961,0.026425838926377614,0.013447623971309046,0.01374302288878726,0.006710450437170027,0.012280340660757236,0.015478879385393872,0.001192221810288213,-0.00821583116742941,0.0007302708388891132,-0.009665650684242714,-0.005057786439498526,-0.023068814994280318,-0.023378944528680327,-0.028233183363716892,-0.01974240226581124,-0.012590628277243134,-0.010265464308666646,0.008596866287258953,0.0009287825341248575,0.002080429519225487,-0.023504345133417835,-0.006637274506684378,0.0029818177964364367,-0.020324762753212988,-0.011608779461232717,-0.015328090097740714,-0.00023714280952539247,-0.012334281458035808,-0.008159576599951542,-0.010435371098938821,-0.007218339230511287,-0.014763715112426764,-0.04329218174781411,-0.037762589198217116,-0.03859722318230636,-0.023058270930301737,-0.024247203078202037,-0.028576382361637467,-0.014101377936296748,-0.007335417776169869,-0.017639554710081145,-0.019033520292490416,-0.014022919812911306,-0.018482261971296845,-0.005254529933283836,-0.005518353333511413,0.017310266157556806,0.02536988234021873,0.020292688961000026,0.024381488657607166,0.02293656714104753,0.019334940951954725,0.030121906587292937,0.034618003513521026,0.026677040503149747,0.0430442191519136,0.04115368139373403,0.042122118729251395,0.04573410473663507,0.02185071189814336,0.011678238656785836,-0.0012162347522013024,-0.0032786914012434237,0.01093473522958776,-0.002390756596329687,-0.012353360976945766,-0.011010311287949836,-0.017189844954064896,-0.02623411975361282,-0.03503369765974906,-0.034527116449941074,-0.035732992212723705,-0.022625723222637208,-0.0189954808349686,-0.0024276211920159756,0.00446576523760196,-0.0011282169738123793,-0.0047176040162901925,-0.011638335621911959,-0.01982391621391957,-0.007450911405548077,-0.014816156279799212,-0.003721120978537214,0.009012087429504117,0.015163147491034394,0.005051409775797618,0.0019014838654213939,-0.008160578270269147,-0.0018343035032182117,-0.008192165761897012,-0.01379351394715157,-0.004619990833885268,-0.009441728454274526,-0.01610695144536499,0.004104776691532234,-0.007591147370403865,0.012300247128948349,0.007363801581647947,0.010689835503306048,0.010353699171790893,0.004493085027551265,-0.0035899771207863252,0.002083408885110124,-0.00792956179102759,0.009252639965129006,0.007934136617255986,0.018318937323467958,0.03765926880534309,0.047210297065202377,0.04251405103146435,0.05090282774198184,0.0487574703049164,0.04768752247025908,0.04102902816480918,0.04608699961465117,0.051506332906106955,0.06099509749051468,0.0527903280634555,0.05482241377722377,0.043546408080766624,0.05754338926523076,0.033126521717296006,0.028272201757423142,0.028456660673034904,0.029991386858056707,0.03496356789819439,0.03277956637915483,0.028509200649493378,0.019552519989538417,0.0007836257543856195,-0.0056158448136105505,-0.0068991874407411165,-0.005183894709307542,-0.005293825316365384,0.000621745082577263,-0.004800185732918864,-0.0011315005465216688,-0.004013595359109253,0.006716913920579171,0.008034559367786924,0.005543265185471676,-0.0038057381570484844,-0.005793604422929051,-0.00717356590026386,0.015120983782965313,0.02551743401712186,0.029503396520454105,0.02300000855703316,0.018258908533251485,-0.0024639186973341924,-0.0024406865434631665,0.011952388346091228,0.014593685136693924,0.004650256729293904,0.0045772907536621625,-0.0038885445878595287,0.003990711613029611,-0.020380493014002833,-0.009536772802010658,-0.0045212078117894405,-0.01783248154440947,-0.017728722766003013,0.003441105895525561,0.009026235828876258,0.019114829155342898,0.014940003216433606,0.006589977461101023,0.005153890675559573,0.0021933789450726622,-0.009229042880898463,0.006095642948929318,0.009062554228920291,0.0421188170338966,0.023968808856026133,0.009283106922515749,0.019804359939974255,0.024654799197816952,0.011632508274999738,0.021304773879963153,0.03059017811990954,0.033538107605954055,0.03842357274877304,0.04335722214603419,0.0375978383463375,0.040337844182864645,0.028858870215272885,0.020235695740276675,0.003906154430434435,0.0032723964115268273,0.0012433107006515269,0.0031660984310739972,-0.004032857608435236,-0.006615391878504751,-0.011421285370993036,-0.02249200794808979,-0.01850850671180236,-0.019488381436058903,-0.02117093548903759,-0.021990146934374608,-0.01948024713140623,-0.01952664612113962,-0.013663761764336228,-0.006651739349424675,-0.0001513832650157513,-0.00042146804781960275,0.003974811232600987,-0.0040380959508664015,-0.0033827170494744522,-0.003117573899899321,-0.0026225457856664082,-0.012567628133999054,-0.020829052526099796,-0.02882051537958376,-0.022745061368091003,-0.014139835321536879,-0.011210366936509978,-0.018003329981230044,-0.0019821938173152217,-0.005771810904265647,-0.0033343353017911024,0.002557087068259241,0.008700903541491422,0.0063540813299929255,-0.0014913650994822743,-0.002913039319083784,0.00910018847315502,0.010171165192449871,0.012764477603237656,0.00737122622947776,-0.003914112794024904,-0.0029892605561940917,-0.01080586320267573,-0.016675988441588664,-0.0017928051646906992,0.005026348887298493,-0.011921444049321828,-0.012432702124918841,-0.007241430236461525,-0.007059668571864345,-0.0006065802118989291,-0.007232087750442721,-0.011917988320893531,-0.016687671923875488,-0.009383403852281695,0.002371557985564317,-0.002625742832062002,0.0024447605639485153,0.0002749454513908178,-0.003607161236065348,-0.005391517973605671,0.005991156212680271,0.004631298243340372,0.007728977593692917,0.006708448192522624,-0.005892608960276509,-0.014871499474001966,-0.011034961257294787,-0.003051393762022355,-0.005202045881875109,-0.012614385913509293,-0.009358091870276742,0.0056005887265665796,-0.0020353053640012053,0.00641001813473272,0.008801032641752405,0.007466424076151287,0.0025432711622868456,0.0033781534042572376,0.0046375669954705845,0.01251560489004618,0.022856466256711297,0.023417578536556977,0.03189528058025639,0.02851486094070281,0.027676441088503152,0.035911199702842914,0.02138353732326673,0.025821355508095677,0.01549509512925274,0.020472961765406954,0.016730474170171882,0.014796934279367251,0.0058886359859424324,0.005096025608122819,-0.0015870818267708087,-0.002976408827218265,0.005297952982732671,-0.006794897987130999,0.005687379778673832,0.009029705391996235,0.007533416886692334,0.0057720218563541035,0.005620176639931492,0.013818442486926668,-0.007263471543146401,-0.011011280023171791,-0.003846086877346444,-0.0011310072798192887,-0.0014102977217269387,0.007319120498512939,0.014750925231617591,0.0076243175440458815,0.007860115000080718,0.0009497669114957604,-0.00019354491863104634,-0.008902026516112842,-0.002476980970884098,-0.0027938987543202638,-0.018755011583159384,-0.011095457460559436,-0.008180733042739925,-8.805741843039468e-6,-0.0038426057059733824,0.0009471608415521304,-0.002723159628379701,-0.009186117842572838,0.005312942468400987,0.004009514469712524,-0.011345625792063973,-0.01012051630284155,-0.002140433476553734,0.005301456563050507,0.0016511578727972523,0.015290102260723219,0.017747411962908664,0.0217327249219342,0.020068005200178183,0.029810971735245072,0.03317119041573256,0.032300956790802915,0.03638812800302759,0.029897515220742014,0.03501703619104049,0.04916155063438858,0.04671702036505503,0.03928577851349903,0.01278064915080607,0.018147877272363652,0.019496542839993566,0.013580688003421982,0.009417742373735782,0.0223523788814559,0.010991357280792908,0.00988497921952288,0.01913885019320379,0.012517539200790498,0.00705434426987083,0.002635577264148766,0.007499289827551999,0.013728811638781657,0.010402234450662195,0.031193215031567467,0.02547062067622523,0.022094512378665568,0.0315132888499714,0.03221409889375734,0.016773672887967894,0.02836807315211812,0.026782021413980183,0.020545804877142023,0.021346171653612345,0.012895151535291409,0.017485313998955906,0.009464733435035096,0.0007913013615146772,-0.0011098454773307805,-0.004740457720586422,-0.0015367669139617105,-0.013541635800694356,-0.020243305168570393,-0.004192996449678965,-0.007201412638357852,-0.019980392279875653,-0.028420168060368355,-0.013263846005005363,-0.014795326874889003,-0.004271336670970645,-0.004224244057032174,-0.0028997233699198303,-0.0018074639709136549,0.0016708263071826342,0.006714248971613864,0.010823979917539406,0.028606834701738852,0.03089634136320408,0.01741471396987033,0.011751484113295695,0.025938659993092358,0.04005401225884393,0.03889836729804889,0.03236077366063085,0.02561451895770229,0.030371244793293575,0.031867947191378636,0.04448555360437155,0.06082630090578752,0.05164427262138519,0.03767804699549493,0.02897551649441389,0.022037904909587496,0.024392722073692957,0.030645046483991342,0.014539834075130079,-0.010649726266245451,-0.024681372985854554,-0.009299150395718743,0.0000348802128829521,-0.0038009560588371906,0.004753775384790692,-0.01099342422477078,-0.025307547966941256,-0.01996210408264843,-0.011314281635929143,-0.01012007338582744,-0.009541312439637089,0.00046354971265660794,-0.007138442649146922,-0.0034066280645433564,0.013259323789542659,0.013943623273133188,0.005692888607487238,0.0066590354489754,0.007254169428076432,-0.001216046259431458,-0.010801772398011063,0.007621649982918773,0.012510576291269733,0.004058199074058481,0.008234173223253993,0.00921861141298453,-0.01800549923131302,-0.013646740923078509,-0.014736740024398539,-0.00975714344079166,-0.022282681556501684,-0.01185907625205879,-0.019065418304798538,-0.02591341854968509,-0.03065613529475808,-0.015340934934111669,-0.034566881560608546,-0.048924234207537394,-0.03803424451706613,-0.048231745070284465,-0.04133903192649392,-0.03371195444423359,-0.03448351852165241,-0.03057603611722448,-0.03550218329720523,-0.011474426163560677,-0.015360835371061017,-0.006999658101543341,-0.005168910542219699,-0.01756542534131699,-0.016165072666877358,-0.01606187333404566,0.001657138375813849,0.0031292511121942053,0.0021034706974389916,0.0032856381331515176,0.008531934696662965,0.007231178851412186,0.0035047944706840064,0.0014269961082520914,-0.007369467489726593,-0.008845374583433152,-0.010634521995315286,-0.011376548358752635,0.0010721816472301822,0.00526711704185591,0.007834000909720877,0.0026421526046949287,0.007701854538404055,0.01323542189533568,0.007717996238323958,0.011940872288844447,0.021453216120598605,0.02332251607375726,0.0211287274913824,0.02893367928393394,0.02025588220327106,0.026368798004179423,0.023335590867465193,0.026500636321291744,0.023106557912621447,0.01934989479209855,0.019493059637175625,0.007818591138535055,0.006611307377211325,0.0209288344721173,0.01603602284335546,0.017515934816865714,0.022874646166188395,0.014475836901040307,0.002055821731793239,0.010573030177718696,-0.005846259721949891,0.009974569820219633,0.004881688220177293,0.008133588946689422,0.014633720263843382,0.013998819827383697,0.013539147383114776,0.01738824206290278,0.0005804453803776847,0.004835536930149893,-0.007147480151365452,-0.013163394251689952,-0.0024223637542719464,0.0034549159695429045,0.0033570937752080234,0.010936130884267451,-0.00671814050186789,0.01161294249114803,0.0041262444284943635,0.00599356917457247,0.0053061339284457,0.007823835220293684,-0.0034618106430397864,-0.011458448107013346,-0.01563359645452502,0.001643608774429269,-0.004337084837413811,-0.0008789234666485364,-0.009075420324698087,-0.020736670045734467,-0.013535700781668887,-0.014376643278252966,-0.019959295070921045,-0.01300032116347909,-0.012239089907122126,-0.008282405800639776,-0.0074267623980994145,0.012538526592045152,0.03152810595986282,0.03752184577019211,0.02193963418788322,0.02654880703912412,0.02326179244255108,0.03619447771749267,0.030703794090080876,0.012618604674099476,0.006809301589442018,0.006357949005921689,0.009548195215095106,0.010739937125471352,0.01457307013581343,0.01809712118956064,0.02137595341306673,0.022328570003018113,0.03406507552903042,0.035280158852719505,0.0335506221962891,0.043724147538532834,0.030698598959971513,0.05084989546293469,0.06330196652149578,0.07776533817817262,0.07647350871185742,0.05768365243875187,0.04816570492464125,0.02999488440693311,0.02200734696761959,0.0199155197050129,0.010680048084253919,-0.008728691886813127,-0.003197802171999549,-0.003381346131661663,-0.014548731521222802,0.0001046342160278139,-0.014682286618448703,-0.01766141276987258,-0.025807085372732855,-0.022174599695827062,-0.016369354389280725,-0.014256895461800815,-0.015241105848819547,-0.005994949921361048,-0.026973882507430248,-0.021010741563094015,-0.024753193918077798,-0.02372637021411759,-0.01693800266785989,-0.021599135863346348,-0.03418012984061883,-0.02466268816524675,-0.021882538224149546,-0.014984995650005484,-0.017639918175573043,-0.027788864314201037,-0.02814999808185809,-0.018960648229257217,-0.01656890395389349,0.0008940991267752274,-0.0022593348446546518,-0.002607542143528511,-0.00676036580087489,-0.00382741876059501,0.006635782737959476,0.006637190613597384,0.013622286014645043,0.008771259849717872,0.010361617401381225,-0.004015966442966779,0.01405851211660858,0.01199395243034589,0.01606454388976921,0.020668474504555334,0.014755708451170513,0.0074280905866417335,0.010985586684491396,0.022791581177241317,0.015724568235257735,0.01266059237015238,0.019857266220499704,0.011692689543113517,0.012295135067572538,0.015959724444948295,0.020726909142839832,0.030668899095117563,0.03267147200193466,0.032662030866200835,0.03337454834586057,0.03321922231227274,0.03990997184249219,0.047016230006092535,0.03627155179418263,0.04753274881681531,0.04940100378765697,0.039956125172690864,0.03266197232407692,0.031353629600285725,0.025391105685692434,0.025609800906696765,0.011544175248140191,0.005919068871955938,-0.008604478230398182,-0.008690844571498869,-0.006910693014576659,-0.007475892349639649,-0.009841568553516804,-0.010589143667972057,-0.017672871655909715,-0.014688585343666608,-0.008547893814038036,-0.010386415384721352,-0.013162592774932206,-0.011963245987600502,-0.0055307698181046305,0.005782158955630656,0.023782074785765713,0.030884044745635286,0.010663638467579043,0.008119024972094262,0.009561294021565647,0.00858786015391777,0.015618855466977492,0.0064423186865513555,-0.0036080232525285065,0.004903744967043474,0.017510522243705307,0.02493137437276207,0.0300072042423673,0.012047822894100158,0.01024944676227791,-0.005909961960977247,0.010935842862995345,0.030856760101605887,0.03705689534631969,0.051448214806231775,0.04978180479484141,0.05190375517097389,0.06970291387582253,0.08861791268050763,0.08120802665826433,0.07881878758566066,0.08125694783753265,0.08274847462047102,0.10477151988199317,0.09055259548427583,0.10118894281905302,0.0983631516768492,0.08433763550212024,0.08143663920292028,0.06217316931805771,0.05572742331898753,0.06343300769268752,0.04744991377625052,0.04447504968998928,0.036675606410418324,0.04057075681744848,0.037465718825673434,0.033682089273850774,0.02321795264204714,0.02559185329840812,0.01983689791780196,0.01289342884831394,0.018628208200776975,0.018326197317731167,0.0272268330032763,0.03179390326048897,0.017059106832645967,0.020678862825215145,0.003205619525181014,-0.0049931533634672105,-0.016455462316630746,-0.017672203223297524,-0.013070380546779604,-0.011080230250046341,0.0014099435028597895,-0.0031769344502005008,-0.006293534711509826,-0.021020229146214518,-0.016303859146878943,-0.022298421457184504,-0.020426822185581332,-0.01874749083680438,0.010476863090352673,0.01630173596341618,0.020462610568872167,0.019078031545113974,0.02406079908943409,0.01251202314193313,0.013083117233785716,0.005513094687403945,0.0063183123106499055,0.004311406971190005,0.01254977331407486,0.0007228516516191756,0.010240164482095082,0.018593292440688042,0.01624651903339913,-0.00494425228069364,-0.015878695813650503,0.004987438144686192,0.014073093615167604,0.011746434448822582,0.0068681735750509764,0.00003033571254125178,-0.010065928329853454,-0.003056303351694467,-0.0007172379253075196,0.004932401822485133,0.012373173581985596,0.008116236700805798,0.01188436613909077,0.008073087333757141,0.009325838084492588,0.01433234924736689,0.010539478901310536,0.0031103485875156284,0.010469507383596977,0.009884411588718696,0.013006749981218904,0.011830361759594983,0.005621778361821761,0.00928835593626965,0.013113944229449241,0.013304874956207276,-0.0017690678570389195,-0.010653599241144344,-0.00940421278040778,-0.017487619352712258,-0.014305370618206581,-0.027861752917770488,-0.015824777299745147,-0.02353452329450665,-0.0017393360041370561,0.00345383785041052,0.01117517662521467,0.023761835994338655,0.02438068426046449,0.01935270674301742,0.027960349860651174,0.03273473718241344,0.02109727056462886,0.028763195119757928,0.030009299024409703,0.04919180324558307,0.07050705152413658,0.07018166040522077,0.07544983365597963,0.06934452799107961,0.06543036743425593,0.06612093395901132,0.04803604393714469,0.0457897434913427,0.03198136011282552,0.01081897039351715,0.017654646365040112,0.02843799112351905,0.024404158067392955,0.02535334694921699,0.009459192281973708,-0.0074701952912940095,-0.0035095734555265897,-0.009127956113524032,-0.0004780893471953836,-0.0013260531552341823,0.008157517314280287,0.013064309606575364,0.018219095356291605,0.04189555766642498,0.052830838983710805,0.05281383731028436,0.05356177427997651,0.06083797380277562,0.05695152402365302,0.05572308245891436,0.07321936487840469,0.06848372567280918,0.06329326853238175,0.04359610236527125,0.04416439903785007,0.041530392803591866,0.04435899092262344,0.029093834568399403,0.01594694156904956,0.0037180662419226945,-0.003315866126481796,-0.010172996253384525,-0.006617574155813521,0.005227391921101799,0.009244752273040942,-0.002471557003952777,-0.01355979422270496,-0.013825321523637453,-0.009598212885916505,-0.010760079940609598,-0.02180931925784364,-0.023185403074956725,-0.008494697702152661,-0.0018232549139547416,0.008318906710513415,0.025840719608827396,0.03247923184626676,0.020111670630590044,0.020659565487852957,0.017890910280800122,0.0006269832063545995,0.010614253188936591,0.007784962178518088,0.014723229426429185,0.028380303059971666,0.034370049898123096,0.03909295682815929,0.014486419575262843,0.001850441697947976,0.0036077092408768625,-0.010801660054043675,-0.010262644314300455],\"type\":\"scatter\"}],                        {\"template\":{\"data\":{\"barpolar\":[{\"marker\":{\"line\":{\"color\":\"white\",\"width\":0.5},\"pattern\":{\"fillmode\":\"overlay\",\"size\":10,\"solidity\":0.2}},\"type\":\"barpolar\"}],\"bar\":[{\"error_x\":{\"color\":\"rgb(36,36,36)\"},\"error_y\":{\"color\":\"rgb(36,36,36)\"},\"marker\":{\"line\":{\"color\":\"white\",\"width\":0.5},\"pattern\":{\"fillmode\":\"overlay\",\"size\":10,\"solidity\":0.2}},\"type\":\"bar\"}],\"carpet\":[{\"aaxis\":{\"endlinecolor\":\"rgb(36,36,36)\",\"gridcolor\":\"white\",\"linecolor\":\"white\",\"minorgridcolor\":\"white\",\"startlinecolor\":\"rgb(36,36,36)\"},\"baxis\":{\"endlinecolor\":\"rgb(36,36,36)\",\"gridcolor\":\"white\",\"linecolor\":\"white\",\"minorgridcolor\":\"white\",\"startlinecolor\":\"rgb(36,36,36)\"},\"type\":\"carpet\"}],\"choropleth\":[{\"colorbar\":{\"outlinewidth\":1,\"tickcolor\":\"rgb(36,36,36)\",\"ticks\":\"outside\"},\"type\":\"choropleth\"}],\"contourcarpet\":[{\"colorbar\":{\"outlinewidth\":1,\"tickcolor\":\"rgb(36,36,36)\",\"ticks\":\"outside\"},\"type\":\"contourcarpet\"}],\"contour\":[{\"colorbar\":{\"outlinewidth\":1,\"tickcolor\":\"rgb(36,36,36)\",\"ticks\":\"outside\"},\"colorscale\":[[0.0,\"#440154\"],[0.1111111111111111,\"#482878\"],[0.2222222222222222,\"#3e4989\"],[0.3333333333333333,\"#31688e\"],[0.4444444444444444,\"#26828e\"],[0.5555555555555556,\"#1f9e89\"],[0.6666666666666666,\"#35b779\"],[0.7777777777777778,\"#6ece58\"],[0.8888888888888888,\"#b5de2b\"],[1.0,\"#fde725\"]],\"type\":\"contour\"}],\"heatmapgl\":[{\"colorbar\":{\"outlinewidth\":1,\"tickcolor\":\"rgb(36,36,36)\",\"ticks\":\"outside\"},\"colorscale\":[[0.0,\"#440154\"],[0.1111111111111111,\"#482878\"],[0.2222222222222222,\"#3e4989\"],[0.3333333333333333,\"#31688e\"],[0.4444444444444444,\"#26828e\"],[0.5555555555555556,\"#1f9e89\"],[0.6666666666666666,\"#35b779\"],[0.7777777777777778,\"#6ece58\"],[0.8888888888888888,\"#b5de2b\"],[1.0,\"#fde725\"]],\"type\":\"heatmapgl\"}],\"heatmap\":[{\"colorbar\":{\"outlinewidth\":1,\"tickcolor\":\"rgb(36,36,36)\",\"ticks\":\"outside\"},\"colorscale\":[[0.0,\"#440154\"],[0.1111111111111111,\"#482878\"],[0.2222222222222222,\"#3e4989\"],[0.3333333333333333,\"#31688e\"],[0.4444444444444444,\"#26828e\"],[0.5555555555555556,\"#1f9e89\"],[0.6666666666666666,\"#35b779\"],[0.7777777777777778,\"#6ece58\"],[0.8888888888888888,\"#b5de2b\"],[1.0,\"#fde725\"]],\"type\":\"heatmap\"}],\"histogram2dcontour\":[{\"colorbar\":{\"outlinewidth\":1,\"tickcolor\":\"rgb(36,36,36)\",\"ticks\":\"outside\"},\"colorscale\":[[0.0,\"#440154\"],[0.1111111111111111,\"#482878\"],[0.2222222222222222,\"#3e4989\"],[0.3333333333333333,\"#31688e\"],[0.4444444444444444,\"#26828e\"],[0.5555555555555556,\"#1f9e89\"],[0.6666666666666666,\"#35b779\"],[0.7777777777777778,\"#6ece58\"],[0.8888888888888888,\"#b5de2b\"],[1.0,\"#fde725\"]],\"type\":\"histogram2dcontour\"}],\"histogram2d\":[{\"colorbar\":{\"outlinewidth\":1,\"tickcolor\":\"rgb(36,36,36)\",\"ticks\":\"outside\"},\"colorscale\":[[0.0,\"#440154\"],[0.1111111111111111,\"#482878\"],[0.2222222222222222,\"#3e4989\"],[0.3333333333333333,\"#31688e\"],[0.4444444444444444,\"#26828e\"],[0.5555555555555556,\"#1f9e89\"],[0.6666666666666666,\"#35b779\"],[0.7777777777777778,\"#6ece58\"],[0.8888888888888888,\"#b5de2b\"],[1.0,\"#fde725\"]],\"type\":\"histogram2d\"}],\"histogram\":[{\"marker\":{\"line\":{\"color\":\"white\",\"width\":0.6}},\"type\":\"histogram\"}],\"mesh3d\":[{\"colorbar\":{\"outlinewidth\":1,\"tickcolor\":\"rgb(36,36,36)\",\"ticks\":\"outside\"},\"type\":\"mesh3d\"}],\"parcoords\":[{\"line\":{\"colorbar\":{\"outlinewidth\":1,\"tickcolor\":\"rgb(36,36,36)\",\"ticks\":\"outside\"}},\"type\":\"parcoords\"}],\"pie\":[{\"automargin\":true,\"type\":\"pie\"}],\"scatter3d\":[{\"line\":{\"colorbar\":{\"outlinewidth\":1,\"tickcolor\":\"rgb(36,36,36)\",\"ticks\":\"outside\"}},\"marker\":{\"colorbar\":{\"outlinewidth\":1,\"tickcolor\":\"rgb(36,36,36)\",\"ticks\":\"outside\"}},\"type\":\"scatter3d\"}],\"scattercarpet\":[{\"marker\":{\"colorbar\":{\"outlinewidth\":1,\"tickcolor\":\"rgb(36,36,36)\",\"ticks\":\"outside\"}},\"type\":\"scattercarpet\"}],\"scattergeo\":[{\"marker\":{\"colorbar\":{\"outlinewidth\":1,\"tickcolor\":\"rgb(36,36,36)\",\"ticks\":\"outside\"}},\"type\":\"scattergeo\"}],\"scattergl\":[{\"marker\":{\"colorbar\":{\"outlinewidth\":1,\"tickcolor\":\"rgb(36,36,36)\",\"ticks\":\"outside\"}},\"type\":\"scattergl\"}],\"scattermapbox\":[{\"marker\":{\"colorbar\":{\"outlinewidth\":1,\"tickcolor\":\"rgb(36,36,36)\",\"ticks\":\"outside\"}},\"type\":\"scattermapbox\"}],\"scatterpolargl\":[{\"marker\":{\"colorbar\":{\"outlinewidth\":1,\"tickcolor\":\"rgb(36,36,36)\",\"ticks\":\"outside\"}},\"type\":\"scatterpolargl\"}],\"scatterpolar\":[{\"marker\":{\"colorbar\":{\"outlinewidth\":1,\"tickcolor\":\"rgb(36,36,36)\",\"ticks\":\"outside\"}},\"type\":\"scatterpolar\"}],\"scatter\":[{\"fillpattern\":{\"fillmode\":\"overlay\",\"size\":10,\"solidity\":0.2},\"type\":\"scatter\"}],\"scatterternary\":[{\"marker\":{\"colorbar\":{\"outlinewidth\":1,\"tickcolor\":\"rgb(36,36,36)\",\"ticks\":\"outside\"}},\"type\":\"scatterternary\"}],\"surface\":[{\"colorbar\":{\"outlinewidth\":1,\"tickcolor\":\"rgb(36,36,36)\",\"ticks\":\"outside\"},\"colorscale\":[[0.0,\"#440154\"],[0.1111111111111111,\"#482878\"],[0.2222222222222222,\"#3e4989\"],[0.3333333333333333,\"#31688e\"],[0.4444444444444444,\"#26828e\"],[0.5555555555555556,\"#1f9e89\"],[0.6666666666666666,\"#35b779\"],[0.7777777777777778,\"#6ece58\"],[0.8888888888888888,\"#b5de2b\"],[1.0,\"#fde725\"]],\"type\":\"surface\"}],\"table\":[{\"cells\":{\"fill\":{\"color\":\"rgb(237,237,237)\"},\"line\":{\"color\":\"white\"}},\"header\":{\"fill\":{\"color\":\"rgb(217,217,217)\"},\"line\":{\"color\":\"white\"}},\"type\":\"table\"}]},\"layout\":{\"annotationdefaults\":{\"arrowhead\":0,\"arrowwidth\":1},\"autotypenumbers\":\"strict\",\"coloraxis\":{\"colorbar\":{\"outlinewidth\":1,\"tickcolor\":\"rgb(36,36,36)\",\"ticks\":\"outside\"}},\"colorscale\":{\"diverging\":[[0.0,\"rgb(103,0,31)\"],[0.1,\"rgb(178,24,43)\"],[0.2,\"rgb(214,96,77)\"],[0.3,\"rgb(244,165,130)\"],[0.4,\"rgb(253,219,199)\"],[0.5,\"rgb(247,247,247)\"],[0.6,\"rgb(209,229,240)\"],[0.7,\"rgb(146,197,222)\"],[0.8,\"rgb(67,147,195)\"],[0.9,\"rgb(33,102,172)\"],[1.0,\"rgb(5,48,97)\"]],\"sequential\":[[0.0,\"#440154\"],[0.1111111111111111,\"#482878\"],[0.2222222222222222,\"#3e4989\"],[0.3333333333333333,\"#31688e\"],[0.4444444444444444,\"#26828e\"],[0.5555555555555556,\"#1f9e89\"],[0.6666666666666666,\"#35b779\"],[0.7777777777777778,\"#6ece58\"],[0.8888888888888888,\"#b5de2b\"],[1.0,\"#fde725\"]],\"sequentialminus\":[[0.0,\"#440154\"],[0.1111111111111111,\"#482878\"],[0.2222222222222222,\"#3e4989\"],[0.3333333333333333,\"#31688e\"],[0.4444444444444444,\"#26828e\"],[0.5555555555555556,\"#1f9e89\"],[0.6666666666666666,\"#35b779\"],[0.7777777777777778,\"#6ece58\"],[0.8888888888888888,\"#b5de2b\"],[1.0,\"#fde725\"]]},\"colorway\":[\"#1F77B4\",\"#FF7F0E\",\"#2CA02C\",\"#D62728\",\"#9467BD\",\"#8C564B\",\"#E377C2\",\"#7F7F7F\",\"#BCBD22\",\"#17BECF\"],\"font\":{\"color\":\"rgb(36,36,36)\"},\"geo\":{\"bgcolor\":\"white\",\"lakecolor\":\"white\",\"landcolor\":\"white\",\"showlakes\":true,\"showland\":true,\"subunitcolor\":\"white\"},\"hoverlabel\":{\"align\":\"left\"},\"hovermode\":\"closest\",\"mapbox\":{\"style\":\"light\"},\"paper_bgcolor\":\"white\",\"plot_bgcolor\":\"white\",\"polar\":{\"angularaxis\":{\"gridcolor\":\"rgb(232,232,232)\",\"linecolor\":\"rgb(36,36,36)\",\"showgrid\":false,\"showline\":true,\"ticks\":\"outside\"},\"bgcolor\":\"white\",\"radialaxis\":{\"gridcolor\":\"rgb(232,232,232)\",\"linecolor\":\"rgb(36,36,36)\",\"showgrid\":false,\"showline\":true,\"ticks\":\"outside\"}},\"scene\":{\"xaxis\":{\"backgroundcolor\":\"white\",\"gridcolor\":\"rgb(232,232,232)\",\"gridwidth\":2,\"linecolor\":\"rgb(36,36,36)\",\"showbackground\":true,\"showgrid\":false,\"showline\":true,\"ticks\":\"outside\",\"zeroline\":false,\"zerolinecolor\":\"rgb(36,36,36)\"},\"yaxis\":{\"backgroundcolor\":\"white\",\"gridcolor\":\"rgb(232,232,232)\",\"gridwidth\":2,\"linecolor\":\"rgb(36,36,36)\",\"showbackground\":true,\"showgrid\":false,\"showline\":true,\"ticks\":\"outside\",\"zeroline\":false,\"zerolinecolor\":\"rgb(36,36,36)\"},\"zaxis\":{\"backgroundcolor\":\"white\",\"gridcolor\":\"rgb(232,232,232)\",\"gridwidth\":2,\"linecolor\":\"rgb(36,36,36)\",\"showbackground\":true,\"showgrid\":false,\"showline\":true,\"ticks\":\"outside\",\"zeroline\":false,\"zerolinecolor\":\"rgb(36,36,36)\"}},\"shapedefaults\":{\"fillcolor\":\"black\",\"line\":{\"width\":0},\"opacity\":0.3},\"ternary\":{\"aaxis\":{\"gridcolor\":\"rgb(232,232,232)\",\"linecolor\":\"rgb(36,36,36)\",\"showgrid\":false,\"showline\":true,\"ticks\":\"outside\"},\"baxis\":{\"gridcolor\":\"rgb(232,232,232)\",\"linecolor\":\"rgb(36,36,36)\",\"showgrid\":false,\"showline\":true,\"ticks\":\"outside\"},\"bgcolor\":\"white\",\"caxis\":{\"gridcolor\":\"rgb(232,232,232)\",\"linecolor\":\"rgb(36,36,36)\",\"showgrid\":false,\"showline\":true,\"ticks\":\"outside\"}},\"title\":{\"x\":0.05},\"xaxis\":{\"automargin\":true,\"gridcolor\":\"rgb(232,232,232)\",\"linecolor\":\"rgb(36,36,36)\",\"showgrid\":false,\"showline\":true,\"ticks\":\"outside\",\"title\":{\"standoff\":15},\"zeroline\":false,\"zerolinecolor\":\"rgb(36,36,36)\"},\"yaxis\":{\"automargin\":true,\"gridcolor\":\"rgb(232,232,232)\",\"linecolor\":\"rgb(36,36,36)\",\"showgrid\":false,\"showline\":true,\"ticks\":\"outside\",\"title\":{\"standoff\":15},\"zeroline\":false,\"zerolinecolor\":\"rgb(36,36,36)\"}}},\"title\":{\"text\":\"Mean reward over all runs\"},\"height\":450,\"width\":750},                        {\"displayModeBar\": false, \"responsive\": true}                    ).then(function(){\n",
              "                            \n",
              "var gd = document.getElementById('de91c55c-fc06-42e7-ac37-cd584f542eca');\n",
              "var x = new MutationObserver(function (mutations, observer) {{\n",
              "        var display = window.getComputedStyle(gd).display;\n",
              "        if (!display || display === 'none') {{\n",
              "            console.log([gd, 'removed!']);\n",
              "            Plotly.purge(gd);\n",
              "            observer.disconnect();\n",
              "        }}\n",
              "}});\n",
              "\n",
              "// Listen for the removal of the full notebook cells\n",
              "var notebookContainer = gd.closest('#notebook-container');\n",
              "if (notebookContainer) {{\n",
              "    x.observe(notebookContainer, {childList: true});\n",
              "}}\n",
              "\n",
              "// Listen for the clearing of the current output cell\n",
              "var outputEl = gd.closest('.output');\n",
              "if (outputEl) {{\n",
              "    x.observe(outputEl, {childList: true});\n",
              "}}\n",
              "\n",
              "                        })                };                            </script>        </div>\n",
              "</body>\n",
              "</html>"
            ]
          },
          "metadata": {}
        },
        {
          "output_type": "stream",
          "name": "stdout",
          "text": [
            "Tests passed!\n"
          ]
        }
      ],
      "source": [
        "class CheatyMcCheater(Agent):\n",
        "    def __init__(self, num_arms: int, seed: int):\n",
        "        super().__init__(num_arms, seed)\n",
        "        self.best_arm = 0\n",
        "\n",
        "    def get_action(self):\n",
        "        return self.best_arm\n",
        "\n",
        "    def observe(self, action: int, reward: float, info: dict):\n",
        "        self.best_arm = info['best_arm']\n",
        "\n",
        "    def __repr__(self):\n",
        "        return \"Cheater\"\n",
        "\n",
        "\n",
        "cheater = CheatyMcCheater(num_arms, 0)\n",
        "reward_averaging = RewardAveraging(num_arms, 0, epsilon=0.1, optimism=0)\n",
        "random = RandomAgent(num_arms, 0)\n",
        "\n",
        "names = []\n",
        "all_rewards = []\n",
        "\n",
        "for agent in [cheater, reward_averaging, random]:\n",
        "    (rewards, num_correct) = run_agent(env, agent, n_runs=N_RUNS, base_seed=1)\n",
        "    names.append(str(agent))\n",
        "    all_rewards.append(rewards)\n",
        "\n",
        "utils.plot_rewards(all_rewards, names, moving_avg_window=15)\n",
        "\n",
        "assert (all_rewards[0] < all_rewards[1]).mean() < 0.001, \"Cheater should be better than reward averaging\"\n",
        "print(\"Tests passed!\")"
      ]
    },
    {
      "cell_type": "markdown",
      "metadata": {
        "id": "8AvdqrTE-1Do"
      },
      "source": [
        "<details><summary>Solution</summary>\n",
        "\n",
        "```python\n",
        "class CheatyMcCheater(Agent):\n",
        "    def __init__(self, num_arms: int, seed: int):\n",
        "        super().__init__(num_arms, seed)\n",
        "        self.best_arm = 0\n",
        "\n",
        "    def get_action(self):\n",
        "        return self.best_arm\n",
        "\n",
        "    def observe(self, action: int, reward: float, info: dict):\n",
        "        self.best_arm = info[\"best_arm\"]\n",
        "\n",
        "    def __repr__(self):\n",
        "        return \"Cheater\"\n",
        "```\n",
        "</details>"
      ]
    },
    {
      "cell_type": "markdown",
      "metadata": {
        "id": "DuAm1jOs-1Do"
      },
      "source": [
        "### The Authentic RL Experience\n",
        "\n",
        "It would be nice if we could say something like \"optimistic reward averaging is a good/bad feature that improves/decreases performance in bandit problems.\" Unfortunately, we can't justifiably claim either at this point.\n",
        "\n",
        "Usually, RL code fails silently, which makes it difficult to be confident that you don't have any bugs. I had a bug in my first attempt that made both versions appear to perform equally, and there were only 13 lines of code, and I had written similar code before.\n",
        "\n",
        "The number of hyperparameters also grows rapidly, and hyperparameters have interactions with each other. Even in this simple problem, we already have two different ways to encourage exploration (`epsilon` and `optimism`), and it's not clear whether it's better to use one or the other, or both in some combination. It's actually worse than that, because `epsilon` should probably be annealed down at some rate.\n",
        "\n",
        "Even in this single comparison, we trained 200 agents for each version. Is that a big number or a small number to estimate the effect size? Probably we should like, compute some statistics? And test with a different number of arms - maybe we need more exploration for more arms? The time needed for a rigorous evaluation is going to increase quickly.\n",
        "\n",
        "As we continue onward to more complicated algorithms, keep an eye out for small discrepancies or minor confusions. Look for opportunities to check and cross-check everything, and be humble with claims."
      ]
    },
    {
      "cell_type": "markdown",
      "metadata": {
        "id": "12KYS9Ss-1Do"
      },
      "source": [
        "### Exercise - implement UCBA selection\n",
        "> ```yaml\n",
        "> Difficulty: 🔴🔴🔴⚪⚪\n",
        "> Importance: 🔵🔵⚪⚪⚪\n",
        ">\n",
        "> You should spend up to 15-30 minutes on this exercise.\n",
        "> ```\n",
        "\n",
        "Once you feel good about your `RewardAveraging` implementation, you should implement `UCBActionSelection`.\n",
        "\n",
        "This should store the same moving average rewards for each action as `RewardAveraging` did, but instead of taking actions using the epsilon-greedy strategy it should use Equation 2.10 in Section 2.7 to select actions using the upper confidence bound.\n",
        "\n",
        "You should expect to see a small improvement over `RewardAveraging` using this strategy.\n",
        "\n",
        "*Tip - be careful of division-by-zero errors!*"
      ]
    },
    {
      "cell_type": "code",
      "execution_count": null,
      "metadata": {
        "id": "jOqe09s8-1Do"
      },
      "outputs": [],
      "source": [
        "class UCBActionSelection(Agent):\n",
        "    def __init__(self, num_arms: int, seed: int, c: float, eps: float = 1e-6):\n",
        "        super().__init__(num_arms, seed)\n",
        "        self.c = c\n",
        "        self.eps = eps\n",
        "        self.Nt = np.zeros(self.num_arms)\n",
        "        self.t = 0\n",
        "        self.Qs = np.zeros(self.num_arms)\n",
        "\n",
        "\n",
        "    def get_action(self):\n",
        "        if np.any(self.Nt == 0):\n",
        "          return np.random.choice(np.zero\n",
        "\n",
        "\n",
        "    def observe(self, action, reward, info):\n",
        "        raise NotImplementedError()\n",
        "\n",
        "    def reset(self, seed: int):\n",
        "        super().reset(seed)\n",
        "        raise NotImplementedError()\n",
        "\n",
        "    def __repr__(self):\n",
        "        return f\"UCB(c={self.c})\"\n",
        "\n",
        "\n",
        "cheater = CheatyMcCheater(num_arms, 0)\n",
        "reward_averaging = RewardAveraging(num_arms, 0, epsilon=0.1, optimism=0)\n",
        "reward_averaging_optimism = RewardAveraging(num_arms, 0, epsilon=0.1, optimism=5)\n",
        "ucb = UCBActionSelection(num_arms, 0, c=2.0)\n",
        "random = RandomAgent(num_arms, 0)\n",
        "\n",
        "names = []\n",
        "all_rewards = []\n",
        "\n",
        "for agent in [cheater, reward_averaging, reward_averaging_optimism, ucb, random]:\n",
        "    (rewards, num_correct) = run_agent(env, agent, n_runs=N_RUNS, base_seed=1)\n",
        "    names.append(str(agent))\n",
        "    all_rewards.append(rewards)\n",
        "\n",
        "utils.plot_rewards(all_rewards, names, moving_avg_window=15)\n",
        "# utils.plot_rewards(all_rewards, names, moving_avg_window=15, filename=str(section_dir / \"2103.html\"))"
      ]
    },
    {
      "cell_type": "markdown",
      "metadata": {
        "id": "ick4cFb--1Do"
      },
      "source": [
        "<details><summary>Solution</summary>\n",
        "\n",
        "```python\n",
        "class UCBActionSelection(Agent):\n",
        "    def __init__(self, num_arms: int, seed: int, c: float, eps: float = 1e-6):\n",
        "        super().__init__(num_arms, seed)\n",
        "        self.c = c\n",
        "        self.eps = eps\n",
        "\n",
        "    def get_action(self):\n",
        "        # This method avoids division by zero errors, and makes sure N=0 entries are chosen by argmax\n",
        "        ucb = self.Q + self.c * np.sqrt(np.log(self.t) / (self.N + self.eps))\n",
        "        return np.argmax(ucb)\n",
        "\n",
        "    def observe(self, action, reward, info):\n",
        "        self.t += 1\n",
        "        self.N[action] += 1\n",
        "        self.Q[action] += (reward - self.Q[action]) / self.N[action]\n",
        "\n",
        "    def reset(self, seed: int):\n",
        "        super().reset(seed)\n",
        "        self.t = 1\n",
        "        self.N = np.zeros(self.num_arms)\n",
        "        self.Q = np.zeros(self.num_arms)\n",
        "\n",
        "    def __repr__(self):\n",
        "        return f\"UCB(c={self.c})\"\n",
        "```\n",
        "</details>"
      ]
    },
    {
      "cell_type": "markdown",
      "metadata": {
        "id": "A8rErCts-1Do"
      },
      "source": [
        "## Bonus\n",
        "\n",
        "Here are a few bonus exercises you can try if you're interested. You could instead progress to the second section, and return to them if you have time.\n",
        "\n",
        "* Implement the gradient bandit algorithm.\n",
        "* Implement an environment and an agent for the contextual bandit problem.\n",
        "* Complete the exercises at the end of Chapter 2 of Sutton and Barto."
      ]
    },
    {
      "cell_type": "markdown",
      "metadata": {
        "id": "f3Z2FF1E-1Do"
      },
      "source": [
        "# 2️⃣ Tabular RL & Policy Improvement\n",
        "\n",
        "> ##### Learning Objectives\n",
        ">\n",
        "> * Learn how to numerically evaluate a given policy (via an iterative update formula).\n",
        "> *Understand the policy improvement theorem, and understand what circumstances can allow us to directly solve for the optimal policy."
      ]
    },
    {
      "cell_type": "markdown",
      "metadata": {
        "id": "4zrqFLxu-1Dp"
      },
      "source": [
        "## RL, Known Environments\n",
        "\n",
        "We are presented with a environment, and the transition function that indicates how the environment will transition from state to state based on the action chosen. We will see how we can turn the problem of finding the best agent into an optimization problem, which we can then solve iteratively.\n",
        "\n",
        "Here, we assume environments small enough where visiting all pairs of states and actions is tractable. These types of models don't learn any relationships between states that can be treated similarly, but keep track of an estimate\n",
        "of how valuable each state is in a large lookup table."
      ]
    },
    {
      "cell_type": "markdown",
      "metadata": {
        "id": "4QHn4W0j-1Dp"
      },
      "source": [
        "## Readings (optional)\n",
        "\n",
        "There are no compulsory readings before the material in this section, although the following sections of [Sutton and Barto](https://www.andrew.cmu.edu/course/10-703/textbook/BartoSutton.pdf) are relevant and so you may want to refer to them if you get stuck / confused with anything:\n",
        "\n",
        "- Chapter 3, Sections 3.1, 3.2, 3.3, 3.4, 3.5, 3.6\n",
        "- Chapter 4, Sections 4.1, 4.2, 4.3, 4.4"
      ]
    },
    {
      "cell_type": "markdown",
      "metadata": {
        "id": "5DoDsGvK-1Dp"
      },
      "source": [
        "## What is Reinforcement Learning?\n",
        "\n",
        "In reinforcement learning, the agent interacts with an environment in a loop: The agent in state $s$ issues an **action** $a$ to the environment, and the environment replies with **state, reward** pairs $(s',r)$. We will assume the environment is **Markovian**, in that the next state $s'$ and reward $r$ depend solely on the current state $s$ and the action $a$ chosen by the agent (as opposed to environments which may depend on actions taken far in the past.)\n",
        "\n",
        "Note - some of the sections below have a TLDR at the start. This indicates that not the entire section is crucially important to read and understand (e.g. it's a small pedantic note or a mathematical divergence), and you can safely read the TLDR and move onto the next section if you want."
      ]
    },
    {
      "cell_type": "markdown",
      "metadata": {
        "id": "nM3cferf-1D5"
      },
      "source": [
        "### Trajectories\n",
        "\n",
        "We define a trajectory in RL as a sequence of states and actions:\n",
        "\n",
        "$$\n",
        "s_0, a_0, r_1, s_1, a_1, r_2, s_2, a_2, r_3, \\ldots\n",
        "$$\n",
        "\n",
        "With this notation, it's the environment action that causes the timestep transition. In other words, given state $s_t$ the agent returns action $a_t$ (in the same time step), but given $(s_t, a_t)$ the environment generates $(s_{t+1}, r_{t+1})$.\n",
        "\n",
        "> *Note - some authors use the convention that the agent's action causes the timestep transition, i.e. the trajectory looks like $s_0, a_0, r_0, s_1, a_1, r_1, \\ldots$. We're following the convention in Sutton & Barto here, but it's important to be aware of this possible notation difference when reading other sources.*\n",
        "\n",
        "The agent chooses actions using a policy $\\pi$, which we can think of as either a deterministic function $a = \\pi(s)$ from states to actions, or more generally a stochastic function from which actions are sampled, $a \\sim \\pi(\\cdot | s)$.\n",
        "\n",
        "Implicitly, we have assumed that the agent need only be Markovian as well (i.e. the action depends on the current state, not past states). Do you think this this a reasonable assumption? You should think about this before reading the dropdown.\n",
        "\n",
        "<details>\n",
        "<summary>Answer / discussion</summary>\n",
        "\n",
        "In most environments, this may well be a reasonable assumption. For example, in a game of tic-tac-toe, knowledge of the current state of the board is sufficient to determine the optimal move, how the board got to that state is irrelevant.\n",
        "\n",
        "There are more complex environments where a Markovian assumption wouldn't work. One classic example is a game of poker, since past player behaviour (betting patterns, bluffing, etc) might change what the optimal strategy is at a given point in time, even if the resulting game state is the same.\n",
        "\n",
        "Of course, a non-Markovian game can be turned Markovian by redefining the state space to include relevant historical information, but this is splitting hairs.\n",
        "\n",
        "</details>\n",
        "\n",
        "\n",
        "The environment samples (state, reward) pairs from a probability distribution conditioned on the current state $s$ and the action $a$ the policy chose in that state, $(s', r) \\sim p(\\cdot | s, a)$. In the case where the environment is also deterministic, we write $(s', r) = p(s, a)$."
      ]
    },
    {
      "cell_type": "markdown",
      "metadata": {
        "id": "qpRhQ1LD-1D5"
      },
      "source": [
        "### Value function\n",
        "\n",
        "The goal of the agent is to choose a policy that maximizes the **expected discounted return**, the sum of rewards it would expect to obtain by following it's currently chosen **policy** $\\pi$. We call the expected discounted return from a state $s$ following policy $\\pi$ the **state value function** $V_{\\pi}(s)$, or simply **value function**, as\n",
        "$$\n",
        "V_{\\pi}(s) = \\mathbb{E}_{\\pi} \\left[ \\sum_{i=t}^\\infty \\gamma^{i-t} r_{i+1} \\Bigg| s_t = s \\right]\n",
        "$$\n",
        "where the expectation is with respect to sampling actions from $\\pi$, and (implicitly) sampling states and rewards from $p$.\n",
        "\n",
        "> *Note - technically $V_\\pi$ is also a function of the choice of environment $p$ and discount factor $\\gamma$. We write $V_\\pi$ rather than $V_{\\pi, p, \\gamma}$ simply because during training we're usually just optimizing for $\\pi$.\n",
        "\n",
        "Here are a few divergences into the exact nature of the reward function. You can just read the TLDRs and move on if you're not super interested in the deeper mathematics.\n",
        "\n",
        "<details>\n",
        "<summary>Divergence #1: why do we discount? <i>TLDR - not discounting leads to possibly weird behaviour with infinite non-converging sums</i></summary>\n",
        "\n",
        "We would like a way to signal to the agent that reward now is better than reward later.\n",
        "If we didn't discount, the sum $\\sum_{i=t}^\\infty r_i$ may diverge.\n",
        "This leads to strange behavior, as we can't meaningfully compare the returns for sequences of rewards that diverge. Trying to sum the sequence $1,1,1,\\ldots$ or $2,2,2,2\\ldots$ or even $2, -1, 2 , -1, \\ldots$ is a problem since they all diverge to positive infinity. An agent with a policy that leads to infinite expected return might become lazy, as waiting around doing nothing for a thousand years, and then actually optimally leads to the same return (infinite) as playing optimal from the first time step.\n",
        "\n",
        "Worse still, we can have reward sequences for which the sum may never approach any finite value, nor diverge to $\\pm \\infty$ (like summing $-1, 1, -1 ,1 , \\ldots$).\n",
        "We could otherwise patch this by requiring that the agent has a finite number of interactions with the environment (this is often true, and is called an **episodic** environment that we will see later) or restrict ourselves to environments for which the expected return for the optimal policy is finite, but these can often be undesirable constraints to place.\n",
        "\n",
        "</details>\n",
        "\n",
        "<details>\n",
        "<summary>Divergence #2: why do we discount geometrically? <i>TLDR - geometric discounting is \"time consistent\", since the nature of the problem looks the same from each timestep.</i></summary>\n",
        "\n",
        "In general, we could consider a more general discount function $\\Gamma : \\mathbb{N} \\to [0,1)$ and define the discounted return as $\\sum_{i=t}^\\infty \\Gamma(i) r_i$. The geometric discount $\\Gamma(i) = \\gamma^i$ is commonly used, but other discounts include the hyperbolic discount $\\Gamma(i) = \\frac{1}{1 + iD}$, where $D>0$ is a hyperparameter. (Humans are [often said](https://chris-said.io/2018/02/04/hyperbolic-discounting/) to act as if they use a hyperbolic discount.) Other than  being mathematically convenient to work with (as the sum of geometric discounts has an elegant closed form expression $\\sum_{i=0}^\\infty \\gamma^i  = \\frac{1}{1-\\gamma}$), geometric is preferred as it is *time consistent*, that is, the discount from one time step to the next remains constant.\n",
        "Rewards at timestep $t+1$ are always worth a factor of $\\gamma$ less than rewards on timestep $t$\n",
        "\n",
        "$$\n",
        "\\frac{\\Gamma(t+1)}{\\Gamma(t)} = \\frac{\\gamma^{t+1}}{\\gamma^t} = \\gamma\n",
        "$$\n",
        "\n",
        "whereas for the hyperbolic reward, the amount discounted from one step to the next\n",
        "is a function of the timestep itself, and decays to 1 (no discount)\n",
        "\n",
        "$$\n",
        "\\frac{\\Gamma(t+1)}{\\Gamma(t)} =  \\frac{1+tD}{1+(t+1)D} \\to 1\n",
        "$$\n",
        "\n",
        "so very little discounting is done once rewards are far away enough in the future.\n",
        "\n",
        "Hence, using geometric discount lends a certain symmetry to the problem. If after $N$ actions the agent ends up in exactly the same state as it was in before, then there will be less total value remaining (because of the decay rate), but the optimal policy won't change (because the rewards the agent gets if it takes a series of actions will just be a scaled-down version of the rewards it would have gotten for those actions $N$ steps ago).\n",
        "\n",
        "</details>"
      ]
    },
    {
      "cell_type": "markdown",
      "metadata": {
        "id": "unLWWp3V-1D5"
      },
      "source": [
        "### Bellman equation\n",
        "\n",
        "> Note we can write the value function in the following recursive manner:\n",
        ">\n",
        "> $$\n",
        "> V_\\pi(s) = \\sum_a \\pi(a | s) \\sum_{s', r} p(s',r \\mid s, a) \\left( r + \\gamma V_\\pi(s') \\right)\n",
        "> $$\n",
        ">\n",
        "> (Optional) Try to prove this for yourself!\n",
        ">\n",
        "> <details>\n",
        "> <summary>Hint</summary>\n",
        ">\n",
        "> Start by writing the expectation as a sum over all possible actions $a$ that can be taken from state $s$. Then, try to separate $r_{t+1}$ and the later reward terms inside the sum.\n",
        "> </details>\n",
        ">\n",
        "> <details>\n",
        "> <summary>Answer</summary>\n",
        ">\n",
        "> First, we write it out as a sum over possible next actions, using the **policy function** $\\pi$:\n",
        "> $$\n",
        "> \\begin{aligned}\n",
        "> V_\\pi(s) &=\\mathbb{E}_\\pi\\left[\\sum_{i=t}^{\\infty} \\gamma^{i-t} r_{i+1} \\mid s_t=s\\right] \\\\\n",
        "> &=\\sum_a \\pi(a \\mid s) \\mathbb{E}_\\pi\\left[\\sum_{i=t}^{\\infty} \\gamma^{i-t} r_{i+1} \\mid s_t=s, a_t=a\\right]\n",
        "> \\end{aligned}\n",
        "> $$\n",
        "> In other words, this is an average of the possible expected reward streams after a particular action, weighted by the probability that this action is chosen.\n",
        ">\n",
        "> We can then separate out the term for the rewward at step $t+1$:\n",
        "> $$\n",
        "> =\\sum_a \\pi(a \\mid s) \\mathbb{E}_\\pi\\left[r_{t+1}+\\sum_{i=t+1}^{\\infty} \\gamma^{i-t} r_{i+1} \\mid s_t=s, a_t=a\\right]\n",
        "> $$\n",
        "> And then we expand the sum over all possible state-reward pairs $(s', r)$ which we might evolve to, following state-action pair $(s, a)$:\n",
        "> $$\n",
        "> \\begin{aligned}\n",
        "> &=\\sum_{a, s^{\\prime}, r} \\pi(a \\mid s) p\\left(s^{\\prime}, r \\mid s, a\\right)\\left(r+\\gamma \\cdot \\mathbb> {E}_\\pi\\left[\\sum_{i=t+1}^{\\infty} \\gamma^{i-(t+1)} r_{i+1} \\mid s_{t+1}=s^{\\prime}\\right]\\right) \\\\\n",
        "> \\end{aligned}\n",
        "> $$\n",
        "> Finally, we can notice that the sum term looks a lot like our original expression for $V_{\\pi}(s)$, just starting from $s'$ rather than $s$. So we can write this as:\n",
        "> $$\n",
        "> \\begin{aligned}\n",
        "> &=\\sum_{a, s, r} \\pi(a \\mid s) p\\left(s^{\\prime}, r \\mid s, a\\right)\\left(r+\\gamma V_\\pi\\left(s^{\\prime}\\right)\\right) \\\\\n",
        "> \\end{aligned}\n",
        "> $$\n",
        "> And finally, we rearrange the sum terms:\n",
        "> $$\n",
        "> \\begin{aligned}\n",
        "> &=\\sum_a \\pi(a \\mid s) \\sum_{s^{\\prime}, r} p\\left(s^{\\prime}, r \\mid s, a\\right)\\left(r+\\gamma V_\\pi\\left(s^{\\prime}\\right)\\right)\n",
        "> \\end{aligned}\n",
        "> $$\n",
        "> as required.\n",
        ">\n",
        "> How should we interpret this? This formula tells us that the total value from present time can be written as sum of next-timestep rewards and value terms discounted by a factor of $\\gamma$. Recall earlier in our discussion of **geometric** vs **hyperbolic** discounting, we argued that geometric discounting has a symmetry through time, because of the constant discount factor. This is exactly what this formula shows, just on the scale of a single step.\n",
        ">\n",
        "> </details>\n",
        "\n",
        "This recursive formulation of the value function is called the **Bellman equation**, and can be thought of as <i>\"(value of following policy $\\pi$ at current state) = (value of next reward, which is determined from following $\\pi$) + (discounted value at next state if we continue following $\\pi$)\"</i>.\n",
        "\n",
        "We can also define the **action-value function**, or **Q-value** of state $s$ and action $a$ following policy $\\pi$:\n",
        "\n",
        "$$\n",
        "Q_\\pi(s,a) = \\mathbb{E}\\left[ \\sum_{i=t}^\\infty \\gamma^{i-t}r_{i+1} \\Bigg| s_t=s, a_t=a   \\right]\n",
        "$$\n",
        "\n",
        "which can be written recursively much like the value function can:\n",
        "\n",
        "$$\n",
        "Q_\\pi(s,a) = \\sum_{s',r} p(s',r \\mid s,a) \\left( r + \\gamma \\sum_{a'} \\pi(a' \\mid s') Q_\\pi(s', a') \\right)\n",
        "$$\n",
        "\n",
        "This equation can be thought of as <i>\"(value of choosing particular action $a$ at current state, then following $\\pi$) = (value of next reward, which is determined from action $a$) + (discounted value at next state if we continue following $\\pi$)\"</i>. In other words it's conceptually the same equation as before but rewritten in terms of $Q$, conditionining on what the next action is before we go back to following $\\pi$.\n",
        "\n",
        "<details>\n",
        "<summary>Question - what do you think is the formula relating V and Q to each other?</summary>\n",
        "\n",
        "$V_\\pi(s)$ is the value at a given state according to policy $\\pi$, but this must be the average of all the values of taking action $a$ at this state, weighted by the probability that they're taken (under $\\pi$). So we have:\n",
        "\n",
        "$$\n",
        "V_\\pi(s) = \\sum_a \\pi(a \\mid s) Q_\\pi(s, a)\n",
        "$$\n",
        "\n",
        "Note, this also gives a slightly different form of the Q-value Bellman equation, which will be useful for policy iteration later on:\n",
        "\n",
        "$$\n",
        "Q_\\pi(s,a) = \\sum_{s',r} p(s',r \\mid s,a) \\left( r + \\gamma V_\\pi(s')\\right)\n",
        "$$\n",
        "\n",
        "</details>"
      ]
    },
    {
      "cell_type": "markdown",
      "metadata": {
        "id": "fXfuMthF-1D5"
      },
      "source": [
        "### Optimal policies\n",
        "\n",
        "We say that two policies $\\pi_1$ and $\\pi_2$ are **equivalent** if $\\forall s \\in S. V_{\\pi_1}(s) = V_{\\pi_2}(s)$. A policy $\\pi_1$ is **better** than $\\pi_2$ (denoted $\\pi_1 \\geq \\pi_2$) if\n",
        "$\\forall s \\in S. V_{\\pi_1}(s) \\geq V_{\\pi_2}(s)$.\n",
        "\n",
        "An **optimal** policy (denoted $\\pi^*$) is a policy that is better than all other policies. There may be more than one optimal policy, so we refer to any of them as $\\pi^*$, with the understanding that since all optimal policies have the same value $V_{\\pi^*}$ for all states, it doesn't actually matter which is chosen.\n",
        "\n",
        "It is possible to prove that, for any environment, an optimal policy exists, but we won't go into detail on this proof today."
      ]
    },
    {
      "cell_type": "markdown",
      "metadata": {
        "id": "cF9neraH-1D6"
      },
      "source": [
        "### Exercise - reason about toy environment\n",
        "\n",
        "> ```yaml\n",
        "> Difficulty: 🔴🔴🔴⚪⚪\n",
        "> Importance: 🔵🔵🔵⚪⚪\n",
        ">\n",
        "> You should spend up to 15-25 minutes on this exercise.\n",
        "> This will help build your intuition for these formulas and expressions.\n",
        "> ```\n",
        "\n",
        "Consider the following environment: There are two actions $A = \\{a_L, a_R\\}$, three states $S = \\{s_0, s_L, s_R\\}$ and three rewards $R = \\{0,1,2\\}$. The environment is deterministic, and can be represented by the following transition diagram:\n",
        "\n",
        "<img src=\"https://raw.githubusercontent.com/info-arena/ARENA_img/main/misc/markov-diagram.png\" width=\"400\">\n",
        "\n",
        "The edges represent the state transitions given an action, as well as the reward received. For example, in state $s_0$, taking action $a_L$ means the new state is $s_L$, and the reward received is $+1$. The transitions for $s_L$ and $s_R$ always happen, independently of action taken. This gives us effectively two choices of deterministic policies, $\\pi_L(s_0) = s_L$ and $\\pi_R(s_0) = s_R$. (It is irrelevant what those policies do in the other states.)\n",
        "\n",
        "Your task here is to compute the value $V_{\\pi}(s_0)$ for $\\pi = \\pi_L$ and $\\pi = \\pi_R$. Which policy is better? Does the answer depend on the choice of discount factor $\\gamma$? If so, how?\n",
        "\n",
        "<details>\n",
        "<summary>Answer</summary>\n",
        "\n",
        "Following the first policy, this gives\n",
        "$$\n",
        "V_{\\pi_L}(s_0) = 1 + \\gamma V_{\\pi_L}(s_L) = 1 + \\gamma(0 + \\gamma V_{\\pi_L}(s_0)) = 1 +\\gamma^2 V_{\\pi_L}(s_0)\n",
        "$$\n",
        "Rearranging, this gives\n",
        "$$\n",
        "V_{\\pi_L}(s_0) = \\frac{1}{1-\\gamma^2}\n",
        "$$\n",
        "Following the second policy, this gives\n",
        "$$\n",
        "V_{\\pi_R}(s_0) = 0 + \\gamma V_{\\pi_R}(s_R) = \\gamma(2 + \\gamma V_{\\pi_R}(s_0)) = 2 \\gamma + \\gamma^2 V_{\\pi_R}(s_0)\n",
        "$$\n",
        "Rearranging, this gives\n",
        "$$\n",
        "V_{\\pi_R}(s_0) = \\frac{2\\gamma}{1-\\gamma^2}\n",
        "$$\n",
        "Therefore,\n",
        "$$\n",
        "\\pi^* = \\begin{cases}\n",
        "\\pi_L & \\gamma < 1/2 \\\\\n",
        "\\pi_L \\text{ or } \\pi_R & \\gamma = 1/2 \\\\\n",
        "\\pi_R & \\gamma > 1/2\n",
        "\\end{cases}\n",
        "$$\n",
        "which makes sense, an agent that discounts heavily ($\\gamma < 1/2$) is shortsighted,\n",
        "and will choose the reward 1 now, over the reward 2 later.\n",
        "</details>"
      ]
    },
    {
      "cell_type": "markdown",
      "metadata": {
        "id": "iVpx__la-1D6"
      },
      "source": [
        "## Tabular RL, Known Environments\n",
        "\n",
        "For the moment, we focus on environments for which the agent has access to $p$, the function describing the underlying dynamics of the environment, which will allow us to solve the Bellman equation explicitly. While unrealistic, it means we can explicitly solve the Bellman equation. Later on we will remove this assumption and treat the environment as a black box from which the agent can sample from.\n",
        "\n",
        "We will simplify things a bit further, and assume that the environment samples states from a probability distribution $T(\\cdot | s, a)$ conditioned on the current state $s$ and the action $a$ the policy $\\pi$ chose in that state.\n",
        "\n",
        "Normally, the reward is also considered to be a stochastic function of both state and action $r \\sim  R(\\cdot \\mid s,a)$, but we will assume the reward is a deterministic function $R(s,a,s')$ of the current state, action and next state, and offload the randomness in the rewards to the next state $s'$ sampled from $T$.\n",
        "\n",
        "This (together with assuming $\\pi$ is deterministic) gives a simpler recursive form of the value function\n",
        "\n",
        "$$\n",
        "V_\\pi(s) = \\sum_{s'} T(s' \\mid s, a) \\Big( R(s,a,s') + \\gamma V_\\pi (s') \\Big)\n",
        "\\text{ where } a = \\pi(s)\n",
        "$$\n",
        "\n",
        "and in $Q$-value form:\n",
        "\n",
        "$$\n",
        "\\begin{aligned}\n",
        "Q_\\pi(s,a) &= \\sum_{s'} T(s' \\mid s,a) \\left( R(s, a, s') + \\gamma \\sum_{a'} \\pi(a' \\mid s') Q_\\pi (s', a') \\right) \\\\ &= \\sum_{s'} T(s' \\mid s,a) \\left( R(s, a, s') + \\gamma V_\\pi(s') \\right)\n",
        "\\end{aligned}\n",
        "$$\n",
        "\n",
        "Below, we've provided a simple environment for a gridworld taken from [Russell and Norvig](http://aima.cs.berkeley.edu/). The agent can choose one of four actions: `up` (0), `right` (1), `down` (2) and `left` (3), encoded as numbers. The observation is just the state that the agent is in (encoded as a number from 0 to 11).\n",
        "\n",
        "<img src=\"https://raw.githubusercontent.com/info-arena/ARENA_img/main/misc/gridworld.png\" width=\"300\">\n",
        "\n",
        "The result of choosing an action from an empty cell will move the agent in that direction, unless they would bump into a wall or walk outside the grid, in which case the next state is unchanged. Both the terminal states \"trap\" the agent, and any movement from one of the terminal states leaves the agent in the same state, and no reward is received. The agent receives a small penalty for each move $r = -0.04$ to encourage them to move to a terminal state quickly, unless the agent is moving into a terminal state, in which case they recieve reward either $+1$ or $-1$ as appropriate.\n",
        "\n",
        "Lastly, the environment is slippery, and the agent only has a 70\\% chance of moving in the direction chosen, with a 10% chance each of attempting to move in the other three cardinal directions.\n",
        "\n",
        "<details>\n",
        "<summary>There are two possible routes to +1, starting from the cell immediately to the <b>right of START</b>. Which one do you think the agent will prefer? How do you think changing the penalty value r=-0.04 to something else might affect this?\n",
        "</summary>\n",
        "\n",
        "The two routes are moving clockwise and anticlockwise around the center obstacle. The clockwise route requires more steps, which (assuming $r<0$) will be penalised more, but the anticlockwise route has a different disadvantage. The agent has a 70% probability of slipping, and the anticlockwise route brings them into closer proximity with the $-1$ terminal state.\n",
        "\n",
        "We can guess that there is a certain threshold value $r^* < 0$ such that the optimal policy is clockwise when $r<r^*$ (because movement penalty is large, making the anticlockwise route less attractive), and anticlockwise when $r>r^*$.\n",
        "\n",
        "You can test this out (and find the approximate value of $r^*$) when you run your RL agent!\n",
        "</details>\n",
        "\n",
        "Provided is a class that allows us to define environments with known dynamics. The only parts you should be concerned\n",
        "with are\n",
        "\n",
        "* `.num_states`, which gives the number of states,\n",
        "* `.num_actions`, which gives the number of actions\n",
        "* `.T`, a 3-tensor of shape  `(num_states, num_actions, num_states)` representing the probability $T(s_{next} \\mid s, a)$ = `T[s,a,s_next]`\n",
        "* `.R`, the reward function, encoded as a vector of shape `(num_states, num_actions, num_states)` that returns the reward $R(s,a,s_{next})$ = `R[s,a,s_next]` associated with entering state $s_{next}$ from state $s$ by taking action $a$.\n",
        "\n",
        "This environment also provides two additional parameters which we will not use now, but need for part 3 where the environment is treated as a black box, and agents learn from interaction.\n",
        "* `.start`, the state with which interaction with the environment begins. By default, assumed to be state zero.\n",
        "* `.terminal`, a list of all the terminal states (with which interaction with the environment ends). By default, terminal states are empty."
      ]
    },
    {
      "cell_type": "code",
      "execution_count": null,
      "metadata": {
        "id": "RPRwrSLG-1D6"
      },
      "outputs": [],
      "source": [
        "class Environment:\n",
        "    def __init__(self, num_states: int, num_actions: int, start=0, terminal=None):\n",
        "        self.num_states = num_states\n",
        "        self.num_actions = num_actions\n",
        "        self.start = start\n",
        "        self.terminal = np.array([], dtype=int) if terminal is None else terminal\n",
        "        (self.T, self.R) = self.build()\n",
        "\n",
        "    def build(self):\n",
        "        \"\"\"\n",
        "        Constructs the T and R tensors from the dynamics of the environment.\n",
        "\n",
        "        Returns:\n",
        "            T : (num_states, num_actions, num_states) State transition probabilities\n",
        "            R : (num_states, num_actions, num_states) Reward function\n",
        "        \"\"\"\n",
        "        num_states = self.num_states\n",
        "        num_actions = self.num_actions\n",
        "        T = np.zeros((num_states, num_actions, num_states))\n",
        "        R = np.zeros((num_states, num_actions, num_states))\n",
        "        for s in range(num_states):\n",
        "            for a in range(num_actions):\n",
        "                (states, rewards, probs) = self.dynamics(s, a)\n",
        "                (all_s, all_r, all_p) = self.out_pad(states, rewards, probs)\n",
        "                T[s, a, all_s] = all_p\n",
        "                R[s, a, all_s] = all_r\n",
        "        return (T, R)\n",
        "\n",
        "    def dynamics(self, state: int, action: int) -> tuple[Arr, Arr, Arr]:\n",
        "        \"\"\"\n",
        "        Computes the distribution over possible outcomes for a given state\n",
        "        and action.\n",
        "\n",
        "        Args:\n",
        "            state  : int (index of state)\n",
        "            action : int (index of action)\n",
        "\n",
        "        Returns:\n",
        "            states  : (m,) all the possible next states\n",
        "            rewards : (m,) rewards for each next state transition\n",
        "            probs   : (m,) likelihood of each state-reward pair\n",
        "        \"\"\"\n",
        "        raise NotImplementedError()\n",
        "\n",
        "    def render(pi: Arr):\n",
        "        \"\"\"\n",
        "        Takes a policy pi, and draws an image of the behavior of that policy, if applicable.\n",
        "\n",
        "        Args:\n",
        "            pi : (num_actions,) a policy\n",
        "\n",
        "        Returns:\n",
        "            None\n",
        "        \"\"\"\n",
        "        raise NotImplementedError()\n",
        "\n",
        "    def out_pad(self, states: Arr, rewards: Arr, probs: Arr):\n",
        "        \"\"\"\n",
        "        Args:\n",
        "            states  : (m,) all the possible next states\n",
        "            rewards : (m,) rewards for each next state transition\n",
        "            probs   : (m,) likelihood of each state-reward pair\n",
        "\n",
        "        Returns:\n",
        "            states  : (num_states,) all the next states\n",
        "            rewards : (num_states,) rewards for each next state transition\n",
        "            probs   : (num_states,) likelihood of each state-reward pair (including zero-prob outcomes.)\n",
        "        \"\"\"\n",
        "        out_s = np.arange(self.num_states)\n",
        "        out_r = np.zeros(self.num_states)\n",
        "        out_p = np.zeros(self.num_states)\n",
        "        for i in range(len(states)):\n",
        "            idx = states[i]\n",
        "            out_r[idx] += rewards[i]\n",
        "            out_p[idx] += probs[i]\n",
        "        return out_s, out_r, out_p"
      ]
    },
    {
      "cell_type": "markdown",
      "metadata": {
        "id": "coNXvKXr-1D6"
      },
      "source": [
        "For example, here is the toy environment from the theory exercises earlier (the **3-state environment**) implemented in this format.\n",
        "\n",
        "*Note - don't spend too much time reading this code and the plots generated below; this is just designed to illustrate how we can implement a particular environment on top of our class above by defining certain environment dynamics. The environment you'll actually be working with is the gridworld environment described above.*\n",
        "\n",
        "<img src=\"https://raw.githubusercontent.com/info-arena/ARENA_img/main/misc/markov-diagram.png\" width=\"400\">"
      ]
    },
    {
      "cell_type": "code",
      "execution_count": null,
      "metadata": {
        "id": "GsgXXoJI-1D6"
      },
      "outputs": [],
      "source": [
        "class Toy(Environment):\n",
        "    def dynamics(self, state: int, action: int):\n",
        "        \"\"\"\n",
        "        Sets up dynamics for the toy environment:\n",
        "            - In state s_L, we move to s_0 & get +0 reward regardless of action\n",
        "            - In state s_R, we move to s_0 & get +2 reward regardless of action\n",
        "            - In state s_0,\n",
        "                - action LEFT=0 leads to s_L & get +1,\n",
        "                - action RIGHT=1 leads to s_R & get +0\n",
        "        \"\"\"\n",
        "        (SL, S0, SR) = (0, 1, 2)\n",
        "        LEFT = 0\n",
        "\n",
        "        assert 0 <= state < self.num_states and 0 <= action < self.num_actions\n",
        "\n",
        "        if state == S0:\n",
        "            (next_state, reward) = (SL, 1) if action == LEFT else (SR, 0)\n",
        "        elif state == SL:\n",
        "            (next_state, reward) = (S0, 0)\n",
        "        elif state == SR:\n",
        "            (next_state, reward) = (S0, 2)\n",
        "        else:\n",
        "            raise ValueError(f\"Invalid state: {state}\")\n",
        "\n",
        "        return (np.array([next_state]), np.array([reward]), np.array([1]))\n",
        "\n",
        "    def __init__(self):\n",
        "        super().__init__(num_states=3, num_actions=2)"
      ]
    },
    {
      "cell_type": "markdown",
      "metadata": {
        "id": "y-nmiod0-1D6"
      },
      "source": [
        "Given a definition for the `dynamics` function, the `Environment` class automatically generates `T` and `R` for us. We can plot these below:\n",
        "\n",
        "- The first plot shows **transition probabilities** $T(s_{next} \\mid s, a)$. It has only probabilities of 1 and 0 because transitions are deterministic ($s_{next}$ is a function of $s$ and $a$). At $s_L$ or $s_R$ you'll move back to the center $s_0$ regardless of what action you take, but at $s_0$ you can move either left or right and it will have different outcomes.\n",
        "- The second plot shows **rewards** $R(s, a, s_{next})$. The rewards are $1$ for $s_0 \\to s_L$, and $2$ for $s_R \\to s_0$, and zero reward for all other possible transitions.\n",
        "\n",
        "Note that the environment being deterministic means the reward is uniquely determined by $s$ and $a$ (because $s_{next}$ is a function of $s$ and $a$). This won't always be the case in RL, as we move to more complex environments (where e.g. a move has a certain chance of causing you to slip and move in a different direction)."
      ]
    },
    {
      "cell_type": "code",
      "execution_count": null,
      "metadata": {
        "id": "ULtGf2XM-1D7"
      },
      "outputs": [],
      "source": [
        "toy = Toy()\n",
        "\n",
        "actions = [\"a_L\", \"a_R\"]\n",
        "states = [\"s_L\", \"s_0\", \"s_R\"]\n",
        "\n",
        "imshow(\n",
        "    toy.T,  # dimensions (s, a, s_next)\n",
        "    title=\"Transition probabilities T(s_next | s, a) for toy environment\",\n",
        "    facet_col=0,\n",
        "    facet_labels=[f\"Current state is s = {s}\" for s in states],\n",
        "    y=actions,\n",
        "    x=states,\n",
        "    labels={\"x\": \"Next state, s_next\", \"y\": \"Action taken, a\", \"color\": \"Transition<br>Probability\"},\n",
        "    text_auto=\".0f\",\n",
        "    border=True,\n",
        "    width=850,\n",
        "    height=350,\n",
        ")\n",
        "\n",
        "imshow(\n",
        "    toy.R,  # dimensions (s, a, s_next)\n",
        "    title=\"Rewards R(s, a, s_next) for toy environment\",\n",
        "    facet_col=0,\n",
        "    facet_labels=[f\"Current state is s = {s}\" for s in states],\n",
        "    y=actions,\n",
        "    x=states,\n",
        "    labels={\"x\": \"Next state, s_next\", \"y\": \"Action taken, a\", \"color\": \"Reward\"},\n",
        "    text_auto=\".0f\",\n",
        "    border=True,\n",
        "    width=850,\n",
        "    height=350,\n",
        ")"
      ]
    },
    {
      "cell_type": "markdown",
      "metadata": {
        "id": "GDF67axg-1D7"
      },
      "source": [
        "We also provide an implementation of the gridworld environment above.\n",
        "\n",
        "The `dynamics` function sets up the dynamics of the Gridworld environment: if the agent takes an action, there is a 70% chance the action is successful, and 10% chance the agent moves in one of the other 3 directions randomly. The rest of the code here deals with edge cases like hitting a wall or being in a terminal state. It's not important to fully read through & understand how this method works.\n",
        "\n",
        "We include a definition of `render`, which given a policy, prints out a grid showing the direction the policy will try to move in from each cell."
      ]
    },
    {
      "cell_type": "code",
      "execution_count": null,
      "metadata": {
        "id": "ngo1VPsB-1D7"
      },
      "outputs": [],
      "source": [
        "class Norvig(Environment):\n",
        "    def dynamics(self, state: int, action: int) -> tuple[Arr, Arr, Arr]:\n",
        "        def state_index(state):\n",
        "            assert 0 <= state[0] < self.width and 0 <= state[1] < self.height, print(state)\n",
        "            pos = state[0] + state[1] * self.width\n",
        "            assert 0 <= pos < self.num_states, print(state, pos)\n",
        "            return pos\n",
        "\n",
        "        pos = self.states[state]\n",
        "        if state in self.terminal or state in self.walls:\n",
        "            return (np.array([state]), np.array([0]), np.array([1]))\n",
        "        out_probs = np.zeros(self.num_actions) + 0.1\n",
        "        out_probs[action] = 0.7\n",
        "        out_states = np.zeros(self.num_actions, dtype=int) + self.num_actions\n",
        "        out_rewards = np.zeros(self.num_actions) + self.penalty\n",
        "        new_states = [pos + x for x in self.actions]\n",
        "        for i, s_new in enumerate(new_states):\n",
        "            if not (0 <= s_new[0] < self.width and 0 <= s_new[1] < self.height):\n",
        "                out_states[i] = state\n",
        "                continue\n",
        "            new_state = state_index(s_new)\n",
        "            if new_state in self.walls:\n",
        "                out_states[i] = state\n",
        "            else:\n",
        "                out_states[i] = new_state\n",
        "            for idx in range(len(self.terminal)):\n",
        "                if new_state == self.terminal[idx]:\n",
        "                    out_rewards[i] = self.goal_rewards[idx]\n",
        "        return (out_states, out_rewards, out_probs)\n",
        "\n",
        "    def render(self, pi: Arr):\n",
        "        assert len(pi) == self.num_states\n",
        "        emoji = [\"⬆️\", \"➡️\", \"⬇️\", \"⬅️\"]\n",
        "        grid = [emoji[act] for act in pi]\n",
        "        grid[3] = \"🟩\"\n",
        "        grid[7] = \"🟥\"\n",
        "        grid[5] = \"⬛\"\n",
        "        print(\"\".join(grid[0:4]) + \"\\n\" + \"\".join(grid[4:8]) + \"\\n\" + \"\".join(grid[8:]))\n",
        "\n",
        "    def __init__(self, penalty=-0.04):\n",
        "        self.height = 3\n",
        "        self.width = 4\n",
        "        self.penalty = penalty\n",
        "        num_states = self.height * self.width\n",
        "        num_actions = 4\n",
        "        self.states = np.array([[x, y] for y in range(self.height) for x in range(self.width)])\n",
        "        self.actions = np.array([[0, -1], [1, 0], [0, 1], [-1, 0]])\n",
        "        self.dim = (self.height, self.width)\n",
        "        terminal = np.array([3, 7], dtype=int)\n",
        "        self.walls = np.array([5], dtype=int)\n",
        "        self.goal_rewards = np.array([1.0, -1])\n",
        "        super().__init__(num_states, num_actions, start=8, terminal=terminal)\n",
        "\n",
        "\n",
        "# Example use of `render`: print out a random policy\n",
        "norvig = Norvig()\n",
        "pi_random = np.random.randint(0, 4, (12,))\n",
        "norvig.render(pi_random)"
      ]
    },
    {
      "cell_type": "markdown",
      "metadata": {
        "id": "4LvhuWb3-1D7"
      },
      "source": [
        "## Policy Evaluation\n",
        "\n",
        "At the moment, we would like to determine the value function $V_\\pi$ of some policy $\\pi$. **We will assume policies are deterministic**, and encode policies as a lookup table from states to actions (so $\\pi$ will be a vector of length `num_states`, and $\\pi(i)$ is the action we take at state $i$).\n",
        "\n",
        "Firstly, we will use the Bellman equation as an update rule: Given a current estimate $\\hat{V}_\\pi$ of the value function $V_{\\pi}$, we can obtain a better estimate by using the Bellman equation, sweeping over all states.\n",
        "$$\n",
        "\\forall s. \\hat{V}_\\pi(s) \\leftarrow \\sum_{s'} T(s' \\,|\\, s, a) \\left( R(s,a,s') + \\gamma \\hat{V}_\\pi(s') \\right) \\;\\text{ where } a = \\pi(s)\n",
        "$$\n",
        "Recall that the true value function $V_\\pi$ satisfies this as an equality, i.e. it is a fixed point of the iteration. So we can start with $\\hat{V}_\\pi(s) = 0$ for all $s$ as our initial guess, and continue applying this update rule until the result stabilizes: $\\max_s |\\hat{V}^{new}(s) - \\hat{V}^{old}(s)| < \\epsilon$ for some small $\\epsilon > 0$."
      ]
    },
    {
      "cell_type": "markdown",
      "metadata": {
        "id": "jWn6z4ow-1D7"
      },
      "source": [
        "### Exercise - implement `policy_eval_numerical`\n",
        "\n",
        "> ```yaml\n",
        "> Difficulty: 🔴🔴🔴⚪⚪\n",
        "> Importance: 🔵🔵🔵⚪⚪\n",
        ">\n",
        "> You should spend up to 15-30 minutes on this exercise.\n",
        "> ```\n",
        "\n",
        "The `policy_eval_numerical` function takes in a deterministic policy $\\pi$ and transition & reward matrices $T$ and $R$, and computes the value function $V_\\pi$ using the Bellman equation as an update rule. It keeps iterating until it reaches `max_iterations`, or the max change in value function is less than `eps` - which ever comes first.\n",
        "\n",
        "Recall - we store our transition and reward matrices as `env.T` and `env.R`, where we define `env.T[s, a, s']` $= T(s' \\,|\\, s, a)$ and `env.R[s, a, s']` $= R(s, a, s')$."
      ]
    },
    {
      "cell_type": "code",
      "execution_count": null,
      "metadata": {
        "id": "7cTOuKnX-1D7"
      },
      "outputs": [],
      "source": [
        "def policy_eval_numerical(env: Environment, pi: Arr, gamma=0.99, eps=1e-8, max_iterations=10_000) -> Arr:\n",
        "    \"\"\"\n",
        "    Numerically evaluates the value of a given policy by iterating the Bellman equation\n",
        "    Args:\n",
        "        env: Environment\n",
        "        pi : shape (num_states,) - The policy to evaluate\n",
        "        gamma: float - Discount factor\n",
        "        eps  : float - Tolerance\n",
        "        max_iterations: int - Maximum number of iterations to run\n",
        "    Outputs:\n",
        "        value : float (num_states,) - The value function for policy pi\n",
        "    \"\"\"\n",
        "    num_states = env.num_states\n",
        "\n",
        "    raise NotImplementedError()\n",
        "\n",
        "\n",
        "tests.test_policy_eval(policy_eval_numerical, exact=False)"
      ]
    },
    {
      "cell_type": "markdown",
      "metadata": {
        "id": "nmFS92qg-1D7"
      },
      "source": [
        "<details>\n",
        "<summary>Help - I'm stuck on the iterative formula</summary>\n",
        "\n",
        "You can start by indexing `env.T[range(num_states), pi, :]`, which effectively gives you the **transition matrix** with shape `(num_states, num_states)` with values $T(s' \\,|\\, s, \\pi(s))$ for all $s, s'$ (since the action $\\pi(s)$ is a deterministic function of the starting state $s$). You can do exactly the same for `env.R` to get the **reward matrix**.\n",
        "\n",
        "Next, you can apply the update formula by multiplying these tensors and summing over $s'$. Be careful of tensor shapes and broadcasting!\n",
        "\n",
        "</details>\n",
        "\n",
        "\n",
        "<details><summary>Solution</summary>\n",
        "\n",
        "```python\n",
        "def policy_eval_numerical(env: Environment, pi: Arr, gamma=0.99, eps=1e-8, max_iterations=10_000) -> Arr:\n",
        "    \"\"\"\n",
        "    Numerically evaluates the value of a given policy by iterating the Bellman equation\n",
        "    Args:\n",
        "        env: Environment\n",
        "        pi : shape (num_states,) - The policy to evaluate\n",
        "        gamma: float - Discount factor\n",
        "        eps  : float - Tolerance\n",
        "        max_iterations: int - Maximum number of iterations to run\n",
        "    Outputs:\n",
        "        value : float (num_states,) - The value function for policy pi\n",
        "    \"\"\"\n",
        "    num_states = env.num_states\n",
        "\n",
        "    value = np.zeros((num_states,))\n",
        "    transition_matrix = env.T[range(num_states), pi, :]  # shape [s, s_next]\n",
        "    reward_matrix = env.R[range(num_states), pi, :]  # shape [s, s_next]\n",
        "\n",
        "    for i in range(max_iterations):\n",
        "        new_value = einops.reduce(transition_matrix * (reward_matrix + gamma * value), \"s s_next -> s\", \"sum\")\n",
        "\n",
        "        delta = np.abs(new_value - value).max()\n",
        "        if delta < eps:\n",
        "            break\n",
        "        value = np.copy(new_value)\n",
        "    else:\n",
        "        print(f\"Failed to converge after {max_iterations} steps.\")\n",
        "\n",
        "    return value\n",
        "```\n",
        "</details>"
      ]
    },
    {
      "cell_type": "markdown",
      "metadata": {
        "id": "5dABj-Og-1D8"
      },
      "source": [
        "## Exact Policy Evaluation\n",
        "\n",
        "Essentially what we are doing in the previous step is numerically solving the Bellman equation. However, we can actually solve it directly in this case, since it's effectively just a set of linear equations! In future cases we won't be able to because we don't know all the transition probabilities & rewards (our agent will only have **partial observability** of its environment), but we can solve directly here.\n",
        "\n",
        "To do this, let's define the **transition matrix** $P^\\pi$ and **reward matrix** $R^\\pi$ just like we did in the solution to the previous exercise:\n",
        "$$\n",
        "P^\\pi_{i,j} = T(j \\,|\\, \\pi(i), i) \\quad R^\\pi_{i,j} = R(i, \\pi(i), j)\n",
        "$$\n",
        "The former represents the transition probabilities from one state to the next, and the latter is the reward when we perform this transition. Let $\\mathbf{v}^\\pi$ be the value function for policy $\\pi$, then we can write our Bellman equation as:\n",
        "$$\n",
        "v_s^\\pi = \\sum_{s'} P^\\pi_{s, s'} (R^\\pi_{s, s'} + \\gamma v_{s'}^\\pi)\n",
        "$$\n",
        "Let's define $\\mathbf{r}^\\pi$ as $r_s^\\pi = \\sum_{s'} P^\\pi_{s, s'} R^\\pi_{s, s'}$ - this is a weighted average of our next-state rewards according to their transition probabilities, in other words its the expected next-state reward for all possible starting states. We can then rewrite equation in matrix form as:\n",
        "$$\n",
        "\\mathbf{v}^\\pi = \\mathbf{r}^\\pi + \\gamma P^\\pi \\mathbf{v}^\\pi\n",
        "$$\n",
        "and rearrange to solve for $\\mathbf{v}^\\pi$ directly:\n",
        "$$\n",
        "\\mathbf{v}^\\pi = (I - \\gamma P^\\pi)^{-1} \\mathbf{r}^\\pi\n",
        "$$\n",
        "For linear algebra based reasons we won't get into here, this inverse is guaranteed to exist whenever $\\gamma < 1$.\n",
        "\n",
        "<details>\n",
        "<summary>Intuition for this equation</summary>\n",
        "\n",
        "One nice intuition comes from the Taylor expansion of $(1 - x)^{-1} = 1 + x + x^2 + \\ldots$. Applying this to our equation, we get:\n",
        "$$\n",
        "\\mathbf{v}^\\pi=\\left(I+\\gamma P^\\pi+\\gamma^2 \\left(P^\\pi\\right)^2+\\gamma^3 \\left(P^\\pi\\right)^3+\\ldots\\right) \\mathbf{r}^\\pi\n",
        "$$\n",
        "which is just an infinite sum of the accumulated reward, discounted by $\\gamma$ at each step (since if $P$ is a transition matrix for 1 step then $P^2$ describes the transition matrix for 2 steps, and so on).\n",
        "\n",
        "</details>"
      ]
    },
    {
      "cell_type": "markdown",
      "metadata": {
        "id": "xCjQ1RN1-1D8"
      },
      "source": [
        "### Exercise - implement `policy_eval_exact`\n",
        "\n",
        "> ```yaml\n",
        "> Difficulty: 🔴🔴⚪⚪⚪\n",
        "> Importance: 🔵🔵🔵⚪⚪\n",
        ">\n",
        "> You should spend up to 10-20 minutes on this exercise.\n",
        "> ```\n",
        "\n",
        "The function below should apply the exact policy evaluation formula to solve for $\\mathbf{v}^\\pi$ directly.\n",
        "\n",
        "You can start by defining the same `transition_matrix` and `reward_matrix` as in the previous exercise. You may also find the function `np.linalg.solve` helpful."
      ]
    },
    {
      "cell_type": "code",
      "execution_count": null,
      "metadata": {
        "id": "yHDfKzbC-1D8"
      },
      "outputs": [],
      "source": [
        "def policy_eval_exact(env: Environment, pi: Arr, gamma=0.99) -> Arr:\n",
        "    \"\"\"\n",
        "    Finds the exact solution to the Bellman equation.\n",
        "    \"\"\"\n",
        "    num_states = env.num_states\n",
        "\n",
        "    raise NotImplementedError()\n",
        "\n",
        "\n",
        "tests.test_policy_eval(policy_eval_exact, exact=True)"
      ]
    },
    {
      "cell_type": "markdown",
      "metadata": {
        "id": "4Wusz0Zm-1D8"
      },
      "source": [
        "<details><summary>Solution</summary>\n",
        "\n",
        "```python\n",
        "def policy_eval_exact(env: Environment, pi: Arr, gamma=0.99) -> Arr:\n",
        "    \"\"\"\n",
        "    Finds the exact solution to the Bellman equation.\n",
        "    \"\"\"\n",
        "    num_states = env.num_states\n",
        "\n",
        "    transition_matrix = env.T[range(num_states), pi, :]  # shape [s, s_next]\n",
        "    reward_matrix = env.R[range(num_states), pi, :]  # shape [s, s_next]\n",
        "\n",
        "    r = einops.einsum(transition_matrix, reward_matrix, \"s s_next, s s_next -> s\")\n",
        "\n",
        "    mat = np.eye(num_states) - gamma * transition_matrix\n",
        "\n",
        "    return np.linalg.solve(mat, r)\n",
        "```\n",
        "</details>"
      ]
    },
    {
      "cell_type": "markdown",
      "metadata": {
        "id": "yc6EF_qQ-1D8"
      },
      "source": [
        "## Policy Improvement\n",
        "\n",
        "So, we now have a way to compute the value of a policy. What we are really interested in is finding better policies. One way we can do this is to compare how well $\\pi$ performs on a state versus the value obtained by choosing another action instead, that is, the Q-value. If there is an action $a'$ for which $Q_{\\pi}(s,a') > V_\\pi(s) \\equiv Q_\\pi(s, \\pi(s))$, then we would prefer that $\\pi$ take action $a'$ in state $s$ rather than whatever action $\\pi(s)$ currently is. Recall that we could write out our Bellman equation like this:\n",
        "\n",
        "$$\n",
        "Q_\\pi(s,a) = \\sum_{s'} T(s' \\mid s,a) \\left( R(s, a, s') + \\gamma V_\\pi(s') \\right)\n",
        "$$\n",
        "\n",
        "which gives us an update rule for our policy $\\pi$, given that we've evaluated $V_\\pi$ using our closed-form expression from earlier:\n",
        "\n",
        "1. For each possible state $s$ and action $a$, calculate the thing on the right hand side of this expression\n",
        "2. Take argmax over $a$, and this gives us the new action that we should take in state $s$.\n",
        "\n",
        "Or in other words:\n",
        "\n",
        "$$\n",
        "\\pi^\\text{better}(s) = \\text{argmax}_a \\sum_{s'} T(s' \\mid s, a) (R(s,a,s') + \\gamma V_{\\pi}(s'))\n",
        "$$"
      ]
    },
    {
      "cell_type": "markdown",
      "metadata": {
        "id": "KErbTfwI-1D8"
      },
      "source": [
        "### Exercise - implement `policy_improvement`\n",
        "\n",
        "> ```yaml\n",
        "> Difficulty: 🔴🔴🔴⚪⚪\n",
        "> Importance: 🔵🔵🔵🔵⚪\n",
        ">\n",
        "> You should spend up to 10-25 minutes on this exercise.\n",
        "> ```\n",
        "\n",
        "The `policy_improvement` function takes in a value function $V$, and transition and reward matrices $T$ and $R$, and returns a new policy $\\pi^\\text{better}$.\n",
        "\n",
        "Recall, we've defined our objects as `env.T[s, a, s']` $= T(s' \\,|\\, a, s)$, and `env.R[s, a, s']` $= R(s, a, s')$."
      ]
    },
    {
      "cell_type": "code",
      "execution_count": null,
      "metadata": {
        "id": "KZwCtcT6-1D8"
      },
      "outputs": [],
      "source": [
        "def policy_improvement(env: Environment, V: Arr, gamma=0.99) -> Arr:\n",
        "    \"\"\"\n",
        "    Args:\n",
        "        env: Environment\n",
        "        V  : (num_states,) value of each state following some policy pi\n",
        "    Outputs:\n",
        "        pi_better : vector (num_states,) of actions representing a new policy obtained via policy iteration\n",
        "    \"\"\"\n",
        "    raise NotImplementedError()\n",
        "\n",
        "\n",
        "tests.test_policy_improvement(policy_improvement)"
      ]
    },
    {
      "cell_type": "markdown",
      "metadata": {
        "id": "nNJ4foh0-1D9"
      },
      "source": [
        "<details>\n",
        "<summary>Solution</summary>\n",
        "\n",
        "```python\n",
        "def policy_improvement(env: Environment, V: Arr, gamma=0.99) -> Arr:\n",
        "    \"\"\"\n",
        "    Args:\n",
        "        env: Environment\n",
        "        V  : (num_states,) value of each state following some policy pi\n",
        "    Outputs:\n",
        "        pi_better : vector (num_states,) of actions representing a new policy obtained via policy iteration\n",
        "    \"\"\"\n",
        "    q_values_for_every_state_action_pair = einops.einsum(env.T, env.R + gamma * V, \"s a s_next, s a s_next -> s a\")\n",
        "    pi_better = q_values_for_every_state_action_pair.argmax(axis=1)\n",
        "    return pi_better\n",
        "```\n",
        "\n",
        "Note, the reason our solution works is that computing `env.R + gamma & V` correctly broadcasts `V`: it has dimensions `(s_next,)`, and `env.R` has dimensions `(s, a, s_next)`.\n",
        "\n",
        "</details>"
      ]
    },
    {
      "cell_type": "markdown",
      "metadata": {
        "id": "RZm9JzEN-1D9"
      },
      "source": [
        "Putting these together, we now have an algorithm to find the optimal policy for an environment.\n",
        "\n",
        "$$\n",
        "\\pi_0 \\overset{E}{\\to} V_{\\pi_0}\n",
        "\\overset{I}{\\to} \\pi_1 \\overset{E}{\\to} V_{\\pi_1}\n",
        "\\overset{I}{\\to} \\pi_2 \\overset{E}{\\to} V_{\\pi_2} \\overset{I}{\\to}  \\ldots\n",
        "$$\n",
        "\n",
        "We alternate policy evaluation ($\\overset{E}{\\to}$) and policy improvement ($\\overset{I}{\\to}$), with each $I$ step being a monotonic improvement, until the policy no longer changes ($\\pi_n = \\pi_{n+1}$), at which point we have an optimal policy, as our current policy will satisfy the optimal Bellman equations:\n",
        "\n",
        "$$\n",
        "V_{\\pi^*} = \\text{argmax}_a \\sum_{s'} T(s' \\mid s,a) (R(s,a,s') + \\gamma V_{\\pi^*}(s'))\n",
        "$$"
      ]
    },
    {
      "cell_type": "markdown",
      "metadata": {
        "id": "WE4VEnc1-1D9"
      },
      "source": [
        "### Exercise - implement `find_optimal_policy`\n",
        "\n",
        "> ```yaml\n",
        "> Difficulty: 🔴🔴🔴⚪⚪\n",
        "> Importance: 🔵🔵🔵🔵⚪\n",
        ">\n",
        "> You should spend up to 15-30 minutes on this exercise.\n",
        "> ```\n",
        "\n",
        "Implement the `find_optimal_policy` function below. This should iteratively do the following:\n",
        "\n",
        "* find the correct value function $V_{\\pi}$ for your given policy $\\pi$ using your `policy_eval_exact` function,\n",
        "* update your policy using `policy_improvement`,\n",
        "\n",
        "where we start from any arbitrary value of $\\pi_0$ (we've picked all zeros).\n",
        "\n",
        "A few things to note:\n",
        "\n",
        "* Don't forget that policies should be of `dtype=int`, rather than floats! $\\pi$ in this case represents **the deterministic action you take in each state**.\n",
        "* Since the optimal policy is not unique, the automated tests will merely check that your optimal policy has the same value function as the optimal policy found by the solution."
      ]
    },
    {
      "cell_type": "code",
      "execution_count": null,
      "metadata": {
        "id": "uK3P-Cr0-1D9"
      },
      "outputs": [],
      "source": [
        "def find_optimal_policy(env: Environment, gamma=0.99, max_iterations=10_000):\n",
        "    \"\"\"\n",
        "    Args:\n",
        "        env: environment\n",
        "    Outputs:\n",
        "        pi : (num_states,) int, of actions represeting an optimal policy\n",
        "    \"\"\"\n",
        "    pi = np.zeros(shape=env.num_states, dtype=int)\n",
        "\n",
        "    raise NotImplementedError()\n",
        "\n",
        "\n",
        "tests.test_find_optimal_policy(find_optimal_policy)\n",
        "\n",
        "penalty = -1\n",
        "norvig = Norvig(penalty)\n",
        "pi_opt = find_optimal_policy(norvig, gamma=0.99)\n",
        "norvig.render(pi_opt)"
      ]
    },
    {
      "cell_type": "markdown",
      "metadata": {
        "id": "rovh27H2-1D9"
      },
      "source": [
        "<details><summary>Solution</summary>\n",
        "\n",
        "```python\n",
        "def find_optimal_policy(env: Environment, gamma=0.99, max_iterations=10_000):\n",
        "    \"\"\"\n",
        "    Args:\n",
        "        env: environment\n",
        "    Outputs:\n",
        "        pi : (num_states,) int, of actions represeting an optimal policy\n",
        "    \"\"\"\n",
        "    pi = np.zeros(shape=env.num_states, dtype=int)\n",
        "\n",
        "    for i in range(max_iterations):\n",
        "        V = policy_eval_exact(env, pi, gamma)\n",
        "        pi_new = policy_improvement(env, V, gamma)\n",
        "        if np.array_equal(pi_new, pi):\n",
        "            return pi_new\n",
        "        else:\n",
        "            pi = pi_new\n",
        "    else:\n",
        "        print(f\"Failed to converge after {max_iterations} steps.\")\n",
        "        return pi\n",
        "```\n",
        "</details>"
      ]
    },
    {
      "cell_type": "markdown",
      "metadata": {
        "id": "wSn_vuPG-1D9"
      },
      "source": [
        "Once you've passed the tests, you should play around with the `penalty` value for the gridworld environment and see how this affects the optimal policy found. Which squares change their optimal strategy when the penalty takes different negative values (e.g. -0.04, -0.1, or even -1). To see why this happens, refer back to the dropdown earlier, in the section \"Tabular RL, Known Environments\". Can you see why the different rewards lead to the behaviours that they do?"
      ]
    },
    {
      "cell_type": "markdown",
      "metadata": {
        "id": "qv9I7GYk-1D9"
      },
      "source": [
        "## Bonus\n",
        "\n",
        "- Implement and test your policy evaluation method on other environments.\n",
        "- Complete some exercises in Chapters 3 and 4 of Sutton and Barto.\n",
        "- Modify the tabular RL solvers to allow stochastic policies or to allow $\\gamma=1$ on episodic environments (may need to change how environments are defined.)"
      ]
    }
  ],
  "metadata": {
    "language_info": {
      "name": "python"
    },
    "colab": {
      "provenance": [],
      "gpuType": "T4"
    },
    "kernelspec": {
      "name": "python3",
      "display_name": "Python 3"
    },
    "accelerator": "GPU"
  },
  "nbformat": 4,
  "nbformat_minor": 0
}